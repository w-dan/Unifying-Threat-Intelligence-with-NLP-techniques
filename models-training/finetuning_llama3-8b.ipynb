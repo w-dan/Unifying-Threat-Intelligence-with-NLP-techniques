{
  "cells": [
    {
      "cell_type": "markdown",
      "metadata": {
        "id": "kSmbODrsciIu"
      },
      "source": [
        "# Initial setup\n",
        "\n",
        "This section includes installing required libraries and loading environment variables, also making sure GPUs are visible."
      ]
    },
    {
      "cell_type": "markdown",
      "metadata": {
        "id": "OKGYv7tWgIE7"
      },
      "source": [
        "### Libraries"
      ]
    },
    {
      "cell_type": "code",
      "execution_count": 1,
      "metadata": {
        "id": "wn8fqN6zzZs9"
      },
      "outputs": [],
      "source": [
        "# special installation\n",
        "# !pip install \"unsloth[colab-new] @ git+https://github.com/unslothai/unsloth.git\" --quiet"
      ]
    },
    {
      "cell_type": "code",
      "execution_count": 2,
      "metadata": {
        "id": "sASN5d5SctDv"
      },
      "outputs": [],
      "source": [
        "import importlib.util\n",
        "\n",
        "def install_if_not_exists(package_name, no_deps=False):\n",
        "    spec = importlib.util.find_spec(package_name)\n",
        "    if spec is None:\n",
        "        print(f\"[+] Installing {package_name}...\")\n",
        "        if no_deps is False:\n",
        "          !pip install {package_name} --quiet\n",
        "        else:\n",
        "          !pip install --no-deps {package_name} --quiet\n",
        "    else:\n",
        "        print(f\"[-] {package_name} is already installed.\")"
      ]
    },
    {
      "cell_type": "code",
      "execution_count": 3,
      "metadata": {
        "colab": {
          "base_uri": "https://localhost:8080/"
        },
        "id": "EnU8SUCWd3On",
        "outputId": "5947224f-daf2-4914-97b7-6d296d5fed06"
      },
      "outputs": [
        {
          "name": "stdout",
          "output_type": "stream",
          "text": [
            "[-] xformers is already installed.\n",
            "[-] trl is already installed.\n",
            "[-] peft is already installed.\n",
            "[-] accelerate is already installed.\n",
            "[-] bitsandbytes is already installed.\n",
            "[-] torch is already installed.\n",
            "[-] transformers is already installed.\n",
            "[-] datasets is already installed.\n",
            "[+] Installing scikit-learn...\n",
            "\u001b[33mWARNING: Running pip as the 'root' user can result in broken permissions and conflicting behaviour with the system package manager. It is recommended to use a virtual environment instead: https://pip.pypa.io/warnings/venv\u001b[0m\u001b[33m\n",
            "\u001b[0m[-] pandas is already installed.\n",
            "[-] pymongo is already installed.\n",
            "[-] matplotlib is already installed.\n",
            "[+] Installing python-dotenv...\n",
            "\u001b[33mWARNING: Running pip as the 'root' user can result in broken permissions and conflicting behaviour with the system package manager. It is recommended to use a virtual environment instead: https://pip.pypa.io/warnings/venv\u001b[0m\u001b[33m\n",
            "\u001b[0m[+] Installing sentry-sdk...\n",
            "\u001b[33mWARNING: Running pip as the 'root' user can result in broken permissions and conflicting behaviour with the system package manager. It is recommended to use a virtual environment instead: https://pip.pypa.io/warnings/venv\u001b[0m\u001b[33m\n",
            "\u001b[0m[-] setproctitle is already installed.\n",
            "[-] wandb is already installed.\n",
            "[-] click is already installed.\n",
            "[+] Installing docker-pycreds...\n",
            "\u001b[33mWARNING: Running pip as the 'root' user can result in broken permissions and conflicting behaviour with the system package manager. It is recommended to use a virtual environment instead: https://pip.pypa.io/warnings/venv\u001b[0m\u001b[33m\n",
            "\u001b[0m"
          ]
        }
      ],
      "source": [
        "# training\n",
        "install_if_not_exists(\"xformers\", no_deps=True)\n",
        "install_if_not_exists(\"trl\", no_deps=True)\n",
        "install_if_not_exists(\"peft\", no_deps=True)\n",
        "install_if_not_exists(\"accelerate\", no_deps=True)\n",
        "install_if_not_exists(\"bitsandbytes\", no_deps=True)\n",
        "install_if_not_exists(\"torch\", no_deps=False)\n",
        "install_if_not_exists(\"transformers\", no_deps=False)\n",
        "\n",
        "# datasets\n",
        "install_if_not_exists(\"datasets\", no_deps=False)\n",
        "install_if_not_exists(\"scikit-learn\", no_deps=False)\n",
        "install_if_not_exists(\"pandas\", no_deps=False)\n",
        "install_if_not_exists(\"pymongo\", no_deps=False)\n",
        "\n",
        "# other\n",
        "install_if_not_exists(\"matplotlib\", no_deps=False)\n",
        "install_if_not_exists(\"python-dotenv\", no_deps=False)\n",
        "install_if_not_exists(\"sentry-sdk\")\n",
        "install_if_not_exists(\"setproctitle\", no_deps=False)\n",
        "install_if_not_exists(\"wandb\", no_deps=False)\n",
        "install_if_not_exists(\"click\", no_deps=False)\n",
        "install_if_not_exists(\"docker-pycreds\", no_deps=False)"
      ]
    },
    {
      "cell_type": "code",
      "execution_count": 4,
      "metadata": {
        "id": "fxRS65WDftZn"
      },
      "outputs": [],
      "source": [
        "# core\n",
        "import os, logging, time, torch, gc, re\n",
        "from dotenv import load_dotenv\n",
        "from tqdm.notebook import tqdm\n",
        "# from unsloth import FastLanguageModel\n",
        "\n",
        "# dataset\n",
        "from datasets import Dataset\n",
        "from pymongo import MongoClient\n",
        "import pandas as pd\n",
        "from sklearn.model_selection import train_test_split\n",
        "\n",
        "import torch\n",
        "from transformers import(\n",
        "    AutoModelForCausalLM,\n",
        "    AutoTokenizer,\n",
        "    BitsAndBytesConfig,\n",
        "    EarlyStoppingCallback,\n",
        "    AdamW\n",
        ")\n",
        "\n",
        "from peft import LoraConfig\n",
        "from trl import SFTTrainer\n",
        "from transformers import TrainingArguments\n",
        "from accelerate import PartialState\n",
        "from torch.optim.lr_scheduler import ReduceLROnPlateau\n",
        "\n",
        "# evaluation\n",
        "import matplotlib.pyplot as plt\n",
        "from typing import List, Dict, Any\n",
        "from sklearn.metrics import accuracy_score\n",
        "import seaborn as sns"
      ]
    },
    {
      "cell_type": "code",
      "execution_count": 5,
      "metadata": {
        "colab": {
          "base_uri": "https://localhost:8080/"
        },
        "id": "j2zbxGdlxRVD",
        "outputId": "f37abec4-9734-4b9a-858c-2ed1b93c1dbf"
      },
      "outputs": [
        {
          "name": "stdout",
          "output_type": "stream",
          "text": [
            "CUDA is available. GPUs detected:\n",
            "Number of available GPUs: 3\n",
            "\n",
            "GPU 0:\n",
            "  Name: NVIDIA GeForce RTX 3090\n",
            "  Total Memory: 25.44 GB\n",
            "  Compute Capability: (8, 6)\n",
            "  Current Memory Allocated: 0.00 MB\n",
            "  Current Memory Cached: 0.00 MB\n",
            "\n",
            "GPU 1:\n",
            "  Name: NVIDIA GeForce RTX 3090\n",
            "  Total Memory: 25.44 GB\n",
            "  Compute Capability: (8, 6)\n",
            "  Current Memory Allocated: 0.00 MB\n",
            "  Current Memory Cached: 0.00 MB\n",
            "\n",
            "GPU 2:\n",
            "  Name: NVIDIA GeForce RTX 3090\n",
            "  Total Memory: 25.44 GB\n",
            "  Compute Capability: (8, 6)\n",
            "  Current Memory Allocated: 0.00 MB\n",
            "  Current Memory Cached: 0.00 MB\n"
          ]
        }
      ],
      "source": [
        "if torch.cuda.is_available():\n",
        "    print(\"CUDA is available. GPUs detected:\")\n",
        "\n",
        "    # available GPUs\n",
        "    num_gpus = torch.cuda.device_count()\n",
        "    print(f\"Number of available GPUs: {num_gpus}\")\n",
        "\n",
        "    # GPU info\n",
        "    for i in range(num_gpus):\n",
        "        print(f\"\\nGPU {i}:\")\n",
        "        print(f\"  Name: {torch.cuda.get_device_name(i)}\")\n",
        "        print(f\"  Total Memory: {torch.cuda.get_device_properties(i).total_memory / 1e9:.2f} GB\")\n",
        "        print(f\"  Compute Capability: {torch.cuda.get_device_capability(i)}\")\n",
        "        print(f\"  Current Memory Allocated: {torch.cuda.memory_allocated(i) / 1e6:.2f} MB\")\n",
        "        print(f\"  Current Memory Cached: {torch.cuda.memory_reserved(i) / 1e6:.2f} MB\")\n",
        "else:\n",
        "    print(\"CUDA is not available. No GPUs detected.\")"
      ]
    },
    {
      "cell_type": "markdown",
      "metadata": {
        "id": "hMfySA9OgJNz"
      },
      "source": [
        "### Environment variables and constants"
      ]
    },
    {
      "cell_type": "code",
      "execution_count": 6,
      "metadata": {
        "id": "ai3HAyZ7gBT0"
      },
      "outputs": [],
      "source": [
        "load_dotenv(\".env\")\n",
        "CONNECTION_STRING = os.getenv(\"CONNECTION_STRING\")\n",
        "TOKEN = os.getenv(\"HUGGINGFACE_TOKEN\")\n",
        "os.environ[\"TOKENIZERS_PARALLELISM\"] = \"true\"\n",
        "\n",
        "os.environ[\"CUDA_VISIBLE_DEVICES\"] = \"1, 2\""
      ]
    },
    {
      "cell_type": "code",
      "execution_count": 7,
      "metadata": {
        "colab": {
          "base_uri": "https://localhost:8080/"
        },
        "id": "YMqARngIV_ci",
        "outputId": "191627dc-746d-4661-f4ab-ec038a11ae6d"
      },
      "outputs": [
        {
          "name": "stdout",
          "output_type": "stream",
          "text": [
            "CUDA is available. GPUs detected:\n",
            "Number of available GPUs: 3\n",
            "\n",
            "GPU 0:\n",
            "  Name: NVIDIA GeForce RTX 3090\n",
            "  Total Memory: 25.44 GB\n",
            "  Compute Capability: (8, 6)\n",
            "  Current Memory Allocated: 0.00 MB\n",
            "  Current Memory Cached: 0.00 MB\n",
            "\n",
            "GPU 1:\n",
            "  Name: NVIDIA GeForce RTX 3090\n",
            "  Total Memory: 25.44 GB\n",
            "  Compute Capability: (8, 6)\n",
            "  Current Memory Allocated: 0.00 MB\n",
            "  Current Memory Cached: 0.00 MB\n",
            "\n",
            "GPU 2:\n",
            "  Name: NVIDIA GeForce RTX 3090\n",
            "  Total Memory: 25.44 GB\n",
            "  Compute Capability: (8, 6)\n",
            "  Current Memory Allocated: 0.00 MB\n",
            "  Current Memory Cached: 0.00 MB\n"
          ]
        }
      ],
      "source": [
        "if torch.cuda.is_available():\n",
        "    print(\"CUDA is available. GPUs detected:\")\n",
        "\n",
        "    # available GPUs\n",
        "    num_gpus = torch.cuda.device_count()\n",
        "    print(f\"Number of available GPUs: {num_gpus}\")\n",
        "\n",
        "    # GPU info\n",
        "    for i in range(num_gpus):\n",
        "        print(f\"\\nGPU {i}:\")\n",
        "        print(f\"  Name: {torch.cuda.get_device_name(i)}\")\n",
        "        print(f\"  Total Memory: {torch.cuda.get_device_properties(i).total_memory / 1e9:.2f} GB\")\n",
        "        print(f\"  Compute Capability: {torch.cuda.get_device_capability(i)}\")\n",
        "        print(f\"  Current Memory Allocated: {torch.cuda.memory_allocated(i) / 1e6:.2f} MB\")\n",
        "        print(f\"  Current Memory Cached: {torch.cuda.memory_reserved(i) / 1e6:.2f} MB\")\n",
        "else:\n",
        "    print(\"CUDA is not available. No GPUs detected.\")"
      ]
    },
    {
      "cell_type": "code",
      "execution_count": 8,
      "metadata": {
        "id": "JZTVxYmdhDUS"
      },
      "outputs": [],
      "source": [
        "DATABASE_NAME = \"APTs\""
      ]
    },
    {
      "cell_type": "markdown",
      "metadata": {
        "id": "wb7EyBzdfloe"
      },
      "source": [
        "GPU check (Docker container will sometimes lose GPU visibility)"
      ]
    },
    {
      "cell_type": "code",
      "execution_count": 9,
      "metadata": {
        "colab": {
          "base_uri": "https://localhost:8080/"
        },
        "id": "sjk4xtL3cLwR",
        "outputId": "52a8f59f-5c88-4cbb-d14b-8e3f2b7db087"
      },
      "outputs": [
        {
          "name": "stdout",
          "output_type": "stream",
          "text": [
            "Sat Jun 15 07:46:47 2024       \r\n",
            "+---------------------------------------------------------------------------------------+\r\n",
            "| NVIDIA-SMI 535.171.04             Driver Version: 535.171.04   CUDA Version: 12.2     |\r\n",
            "|-----------------------------------------+----------------------+----------------------+\r\n",
            "| GPU  Name                 Persistence-M | Bus-Id        Disp.A | Volatile Uncorr. ECC |\r\n",
            "| Fan  Temp   Perf          Pwr:Usage/Cap |         Memory-Usage | GPU-Util  Compute M. |\r\n",
            "|                                         |                      |               MIG M. |\r\n",
            "|=========================================+======================+======================|\n",
            "|   0  NVIDIA GeForce RTX 3090        Off | 00000000:18:00.0 Off |                  N/A |\n",
            "| 30%   32C    P8              38W / 350W |   3835MiB / 24576MiB |      0%      Default |\n",
            "|                                         |                      |                  N/A |\n",
            "+-----------------------------------------+----------------------+----------------------+\n",
            "|   1  NVIDIA GeForce RTX 3090        Off | 00000000:1C:00.0 Off |                  N/A |\n",
            "| 30%   31C    P8              23W / 350W |   1816MiB / 24576MiB |      0%      Default |\n",
            "|                                         |                      |                  N/A |\n",
            "+-----------------------------------------+----------------------+----------------------+\n",
            "|   2  NVIDIA GeForce RTX 3090        Off | 00000000:99:00.0 Off |                  N/A |\n",
            "| 30%   30C    P8              24W / 350W |      3MiB / 24576MiB |      0%      Default |\n",
            "|                                         |                      |                  N/A |\n",
            "+-----------------------------------------+----------------------+----------------------+\n",
            "                                                                                         \n",
            "+---------------------------------------------------------------------------------------+\n",
            "| Processes:                                                                            |\n",
            "|  GPU   GI   CI        PID   Type   Process name                            GPU Memory |\n",
            "|        ID   ID                                                             Usage      |\n",
            "|=======================================================================================|\n",
            "+---------------------------------------------------------------------------------------+\n"
          ]
        }
      ],
      "source": [
        "!nvidia-smi"
      ]
    },
    {
      "cell_type": "markdown",
      "metadata": {
        "id": "IYWol7WeZUbM"
      },
      "source": [
        "# Dataset loading\n",
        "\n",
        "\n",
        "Initially, we will be building a dataset with raw text and tools. The dataset is stored in a MongoDB database, so we will have to fetch the data:"
      ]
    },
    {
      "cell_type": "code",
      "execution_count": 10,
      "metadata": {
        "id": "f5TPnsXWhATO"
      },
      "outputs": [],
      "source": [
        "collection_name = \"blackberry\""
      ]
    },
    {
      "cell_type": "code",
      "execution_count": 11,
      "metadata": {
        "id": "RZVvRiXDfq46"
      },
      "outputs": [],
      "source": [
        "client = MongoClient(CONNECTION_STRING)\n",
        "db = client[DATABASE_NAME]\n",
        "\n",
        "collection = db[collection_name]"
      ]
    },
    {
      "cell_type": "code",
      "execution_count": 12,
      "metadata": {
        "colab": {
          "base_uri": "https://localhost:8080/",
          "height": 224
        },
        "id": "0OJskIP2fquH",
        "outputId": "1c25bbf0-496e-43e9-d9fc-de5168bbf08f"
      },
      "outputs": [
        {
          "name": "stdout",
          "output_type": "stream",
          "text": [
            "[+] Shape: (5000, 2)\n"
          ]
        },
        {
          "data": {
            "text/html": [
              "<div>\n",
              "<style scoped>\n",
              "    .dataframe tbody tr th:only-of-type {\n",
              "        vertical-align: middle;\n",
              "    }\n",
              "\n",
              "    .dataframe tbody tr th {\n",
              "        vertical-align: top;\n",
              "    }\n",
              "\n",
              "    .dataframe thead th {\n",
              "        text-align: right;\n",
              "    }\n",
              "</style>\n",
              "<table border=\"1\" class=\"dataframe\">\n",
              "  <thead>\n",
              "    <tr style=\"text-align: right;\">\n",
              "      <th></th>\n",
              "      <th>clause</th>\n",
              "      <th>tactic</th>\n",
              "    </tr>\n",
              "  </thead>\n",
              "  <tbody>\n",
              "    <tr>\n",
              "      <th>0</th>\n",
              "      <td>!th 00000050: 69732070726f6772 616d2063616e6e6...</td>\n",
              "      <td>Execution</td>\n",
              "    </tr>\n",
              "    <tr>\n",
              "      <th>1</th>\n",
              "      <td>1 / 1 5www .prevailion.com /what-wicked-webs-w...</td>\n",
              "      <td>Initial Access</td>\n",
              "    </tr>\n",
              "    <tr>\n",
              "      <th>2</th>\n",
              "      <td>part ii: findings iia: naver -themed phishing ...</td>\n",
              "      <td>Initial Access</td>\n",
              "    </tr>\n",
              "    <tr>\n",
              "      <th>3</th>\n",
              "      <td>due ease operator create new subdomains hostin...</td>\n",
              "      <td>Initial Access</td>\n",
              "    </tr>\n",
              "    <tr>\n",
              "      <th>4</th>\n",
              "      <td>accomplish this, lightshow drops legitimate ve...</td>\n",
              "      <td>Other</td>\n",
              "    </tr>\n",
              "  </tbody>\n",
              "</table>\n",
              "</div>"
            ],
            "text/plain": [
              "                                              clause          tactic\n",
              "0  !th 00000050: 69732070726f6772 616d2063616e6e6...       Execution\n",
              "1  1 / 1 5www .prevailion.com /what-wicked-webs-w...  Initial Access\n",
              "2  part ii: findings iia: naver -themed phishing ...  Initial Access\n",
              "3  due ease operator create new subdomains hostin...  Initial Access\n",
              "4  accomplish this, lightshow drops legitimate ve...           Other"
            ]
          },
          "execution_count": 12,
          "metadata": {},
          "output_type": "execute_result"
        }
      ],
      "source": [
        "documents = collection.find()\n",
        "\n",
        "data = []\n",
        "for doc in documents:\n",
        "\n",
        "    clause = doc.get(\"clause\", \"\")\n",
        "    tactic = doc.get(\"tactic\", \"\")\n",
        "\n",
        "    data.append({\n",
        "        \"clause\": clause,\n",
        "        \"tactic\": tactic\n",
        "    })\n",
        "\n",
        "df = pd.DataFrame(data)\n",
        "\n",
        "print(f\"[+] Shape: {df.shape}\")\n",
        "df.head()"
      ]
    },
    {
      "cell_type": "code",
      "execution_count": 13,
      "metadata": {
        "colab": {
          "base_uri": "https://localhost:8080/",
          "height": 607
        },
        "id": "8KZF0nXrAMp_",
        "outputId": "306ba8f5-599d-4336-86f1-645cdadce4c8"
      },
      "outputs": [
        {
          "data": {
            "image/png": "[encoded data removed]",
            "text/plain": [
              "<Figure size 1200x600 with 1 Axes>"
            ]
          },
          "metadata": {},
          "output_type": "display_data"
        }
      ],
      "source": [
        "total_tactic_counts = df['tactic'].value_counts()\n",
        "\n",
        "plt.figure(figsize=(12, 6))\n",
        "\n",
        "plt.subplot(1, 2, 1)\n",
        "total_tactic_counts.plot(kind='bar', color='blue')\n",
        "plt.title('Frequency of Tactics in df')\n",
        "plt.xlabel('Tactic')\n",
        "plt.ylabel('Frequency')\n",
        "\n",
        "plt.tight_layout()\n",
        "plt.show()"
      ]
    },
    {
      "cell_type": "markdown",
      "metadata": {
        "id": "Vi_6lezjAeQ3"
      },
      "source": [
        "There is some clear bias towards `Execution` and `Other`. Even if these tags are the most common in a real-world scenario, it is convenient to downsample them due to the bias observed in experiment #7. The downsampling will be performed bearing in mind that the distribution of our data holds great importance, so they will still be more frequent in the dataset.\n",
        "\n",
        "For this purpose, a maximum number of samples of 500 will be set."
      ]
    },
    {
      "cell_type": "code",
      "execution_count": 14,
      "metadata": {
        "colab": {
          "base_uri": "https://localhost:8080/"
        },
        "id": "LJdZBWTEA9iC",
        "outputId": "241386ad-711c-4958-8265-b4268b9104e2"
      },
      "outputs": [
        {
          "name": "stdout",
          "output_type": "stream",
          "text": [
            "[+] Original tactic counts:\n",
            " tactic\n",
            "Other                2895\n",
            "Execution             884\n",
            "Credential Access     310\n",
            "Initial Access        244\n",
            "Reconnaissance        188\n",
            "Collection            155\n",
            "Persistence            90\n",
            "Exfiltration           75\n",
            "Impact                 64\n",
            "Defense Evasion        59\n",
            "Lateral Movement       36\n",
            "Name: count, dtype: int64\n",
            "[+] Balanced tactic counts:\n",
            " tactic\n",
            "Other                500\n",
            "Execution            500\n",
            "Credential Access    310\n",
            "Initial Access       244\n",
            "Reconnaissance       188\n",
            "Collection           155\n",
            "Persistence           90\n",
            "Exfiltration          75\n",
            "Impact                64\n",
            "Defense Evasion       59\n",
            "Lateral Movement      36\n",
            "Name: count, dtype: int64\n"
          ]
        }
      ],
      "source": [
        "from sklearn.utils import resample\n",
        "\n",
        "tactic_counts = df['tactic'].value_counts()\n",
        "print(\"[+] Original tactic counts:\\n\", tactic_counts)\n",
        "\n",
        "max_samples = 500\n",
        "\n",
        "# selecting rows to be downsampled\n",
        "df_other = df[df['tactic'] == 'Other']\n",
        "df_execution = df[df['tactic'] == 'Execution']\n",
        "\n",
        "# downsampling\n",
        "df_other_downsampled = resample(df_other, replace=False, n_samples=max_samples, random_state=42)\n",
        "df_execution_downsampled = resample(df_execution, replace=False, n_samples=max_samples, random_state=42)\n",
        "\n",
        "# rebuilding the dataframe\n",
        "df_remaining = df[~df['tactic'].isin(['Other', 'Execution'])]\n",
        "balanced_df = pd.concat([df_remaining, df_other_downsampled, df_execution_downsampled])\n",
        "\n",
        "\n",
        "balanced_tactic_counts = balanced_df['tactic'].value_counts()\n",
        "print(\"[+] Balanced tactic counts:\\n\", balanced_tactic_counts)"
      ]
    },
    {
      "cell_type": "markdown",
      "metadata": {
        "id": "RwP_wWlRBaey"
      },
      "source": [
        "This should reduce the model's bias."
      ]
    },
    {
      "cell_type": "code",
      "execution_count": 15,
      "metadata": {
        "id": "SS9sT35yQ0Nj"
      },
      "outputs": [],
      "source": [
        "train_df, test_df = train_test_split(balanced_df, test_size=0.1)\n",
        "train_dataset = Dataset.from_pandas(train_df)\n",
        "test_dataset = Dataset.from_pandas(test_df)"
      ]
    },
    {
      "cell_type": "code",
      "execution_count": 16,
      "metadata": {
        "colab": {
          "base_uri": "https://localhost:8080/"
        },
        "id": "bhh7bWY5Bgco",
        "outputId": "8616434d-9179-4c7f-ee55-c3eed9f6c898"
      },
      "outputs": [
        {
          "name": "stdout",
          "output_type": "stream",
          "text": [
            "(1998, 2)\n",
            "(223, 2)\n"
          ]
        }
      ],
      "source": [
        "print(train_df.shape)\n",
        "print(test_df.shape)"
      ]
    },
    {
      "cell_type": "code",
      "execution_count": 17,
      "metadata": {
        "colab": {
          "base_uri": "https://localhost:8080/"
        },
        "id": "VCYUKjsqDlow",
        "outputId": "f42ff419-8d89-499d-b509-311e8da8bda4"
      },
      "outputs": [
        {
          "data": {
            "text/plain": [
              "datasets.arrow_dataset.Dataset"
            ]
          },
          "execution_count": 17,
          "metadata": {},
          "output_type": "execute_result"
        }
      ],
      "source": [
        "train_dataset = Dataset.from_pandas(train_df)\n",
        "test_dataset = Dataset.from_pandas(test_df)\n",
        "type(train_dataset)"
      ]
    },
    {
      "cell_type": "code",
      "execution_count": 18,
      "metadata": {
        "colab": {
          "base_uri": "https://localhost:8080/"
        },
        "id": "1XSt8orsQ52S",
        "outputId": "b080a184-67fa-475e-a949-6a0e7e5f7242"
      },
      "outputs": [
        {
          "name": "stdout",
          "output_type": "stream",
          "text": [
            "[+] Training shape: (1998, 3)\n",
            "[+] Test shape: (223, 3)\n"
          ]
        }
      ],
      "source": [
        "print(f\"[+] Training shape: {train_dataset.shape}\")\n",
        "print(f\"[+] Test shape: {test_dataset.shape}\")"
      ]
    },
    {
      "cell_type": "markdown",
      "metadata": {
        "id": "lMLJ4La8ZQjR"
      },
      "source": [
        "# Preparing model"
      ]
    },
    {
      "cell_type": "code",
      "execution_count": 18,
      "metadata": {
        "id": "0Zt21hkpXoI-"
      },
      "outputs": [],
      "source": []
    },
    {
      "cell_type": "code",
      "execution_count": 19,
      "metadata": {
        "colab": {
          "base_uri": "https://localhost:8080/"
        },
        "id": "aPsrdViSYbpJ",
        "outputId": "720dba88-0df5-4b2d-86ed-bc34cb884563"
      },
      "outputs": [
        {
          "name": "stdout",
          "output_type": "stream",
          "text": [
            "The token has not been saved to the git credentials helper. Pass `add_to_git_credential=True` in this function directly or `--add-to-git-credential` if using via `huggingface-cli` if you want to set the git credential as well.\n",
            "Token is valid (permission: read).\n",
            "Your token has been saved to /home/dani/.cache/huggingface/token\n",
            "Login successful\n"
          ]
        }
      ],
      "source": [
        "from huggingface_hub import login\n",
        "login(token=TOKEN)"
      ]
    },
    {
      "cell_type": "code",
      "execution_count": 20,
      "metadata": {
        "colab": {
          "base_uri": "https://localhost:8080/",
          "height": 34,
          "referenced_widgets": [
            "71936daa57ed41609611346b60c91b14",
            "b08b0e3630da4268a0860aaa1a307d67",
            "14fd44b0675a4ec38f1c9a45abc76247",
            "b0498521c4a74d46a8c661affe2d8550",
            "2fc462aa958d4c5992dfa482fff65459",
            "d96dc3da1a994ef6bed430a62b70b0cc",
            "b050a3055d5346069993facf35ae2b40",
            "7da9264581b248058f7c51780dfffb41",
            "97470d38dc15494680c38930171ad66b",
            "62bb2b5246104cd6b6428e2e0e6be5b0",
            "e7f1de81ca4e440a956c423f9be60554"
          ]
        },
        "id": "-j8efOPCFvU-",
        "outputId": "9a3ee58f-db5e-4c9d-b2da-413aa8e4ecbc"
      },
      "outputs": [
        {
          "name": "stderr",
          "output_type": "stream",
          "text": [
            "Special tokens have been added in the vocabulary, make sure the associated word embeddings are fine-tuned or trained.\n"
          ]
        },
        {
          "data": {
            "application/vnd.jupyter.widget-view+json": {
              "model_id": "71936daa57ed41609611346b60c91b14",
              "version_major": 2,
              "version_minor": 0
            },
            "text/plain": [
              "Loading checkpoint shards:   0%|          | 0/4 [00:00<?, ?it/s]"
            ]
          },
          "metadata": {},
          "output_type": "display_data"
        }
      ],
      "source": [
        "model_name = \"meta-llama/Meta-Llama-3-8B\"\n",
        "\n",
        "tokenizer = AutoTokenizer.from_pretrained(model_name, trust_remote_code=True, token=TOKEN)\n",
        "tokenizer.pad_token = tokenizer.eos_token\n",
        "\n",
        "# bitsandbytes config for 4bits quantization\n",
        "bnb_config = BitsAndBytesConfig(\n",
        "    load_in_4bit=True,\n",
        "    bnb_4bit_quant_type=\"nf4\",\n",
        "    bnb_4bit_compute_dtype=torch.float16,\n",
        ")\n",
        "\n",
        "\"\"\"\n",
        "# bitsandbytes config for 8bits quantization\n",
        "bnb_config = BitsAndBytesConfig(\n",
        "    load_in_8bit=True,\n",
        "    bnb_8bit_quant_type=\"dynamic\",\n",
        "    bnb_8bit_compute_dtype=torch.float16,\n",
        ")\n",
        "\"\"\"\n",
        "\n",
        "model = AutoModelForCausalLM.from_pretrained(\n",
        "    model_name,\n",
        "    quantization_config=bnb_config,\n",
        "    trust_remote_code=True,\n",
        "    use_cache = False,\n",
        "    device_map=\"auto\",\n",
        "    #torch_dtype=torch.float16\n",
        ")"
      ]
    },
    {
      "cell_type": "markdown",
      "metadata": {
        "id": "j-_79FDeGD9x"
      },
      "source": [
        "Adding LoRA adapters only 1 to 10% of all parameters will need to be updated."
      ]
    },
    {
      "cell_type": "markdown",
      "metadata": {
        "id": "bq_OfsEKH-pO"
      },
      "source": [
        "# Preparing data"
      ]
    },
    {
      "cell_type": "code",
      "execution_count": 21,
      "metadata": {
        "id": "2M4H-cApZPLE"
      },
      "outputs": [],
      "source": [
        "base_prompt = \"\"\"Extract tactics from the following text. Tactics represent the \"why\" of an attack technique or sub-technique. It is a tactical goal or reason for performing an action. Choose one or more from these options\n",
        "    Reconnaissance, Resource Development, Initial Access, Persistence, Execution, Privilege Escalation, Defense Evasion, Credential Access, Discovery, Lateral Movement, Collection, Command and Control, Exfiltration, Impact\n",
        "    Extract tactics from the following text.\n",
        "### Text:\n",
        "{}\n",
        "\n",
        "### Response:\n",
        "{}\"\"\""
      ]
    },
    {
      "cell_type": "markdown",
      "metadata": {
        "id": "NDHqz0hCG3F1"
      },
      "source": [
        "\n",
        "`EOS_TOKEN` must be added to the tokenized output, otherwise it will return infinite generators.\n",
        "\n",
        "If you want to use the `llama-3` template for ShareGPT datasets, try our conversational [notebook](https://colab.research.google.com/drive/1XamvWYinY6FOSX9GLvnqSjjsNflxdhNc?usp=sharing).\n",
        "\n",
        "For text completions like novel writing, try this [notebook](https://colab.research.google.com/drive/1ef-tab5bhkvWmBOObepl1WgJvfvSzn5Q?usp=sharing)."
      ]
    },
    {
      "cell_type": "code",
      "execution_count": 22,
      "metadata": {
        "id": "uqUb5WZIIqrH"
      },
      "outputs": [],
      "source": [
        "INSTRUCTION = \"Please extract the tactics from the given text.\""
      ]
    },
    {
      "cell_type": "code",
      "execution_count": 23,
      "metadata": {
        "id": "VW6bPnbpFu7x"
      },
      "outputs": [],
      "source": [
        "EOS_TOKEN = tokenizer.eos_token # Must add EOS_TOKEN\n",
        "\n",
        "def formatting_prompts_func(examples):\n",
        "    inputs       = examples[\"clause\"]\n",
        "    outputs      = examples[\"tactic\"]\n",
        "    texts = []\n",
        "    for input, output in zip(inputs, outputs):\n",
        "        text = base_prompt.format(input, output) + EOS_TOKEN      # Instruction, Input, Output\n",
        "        texts.append(text)\n",
        "    return { \"text\" : texts, }\n",
        "pass"
      ]
    },
    {
      "cell_type": "code",
      "execution_count": 24,
      "metadata": {
        "colab": {
          "base_uri": "https://localhost:8080/",
          "height": 17,
          "referenced_widgets": [
            "d378ed631abb4d84990ff4b12bb5281b",
            "db0f44f03fcd4613a530b487ab386ea5",
            "895c3a7ffde64b34a9dacf9ad670f245",
            "4351c8afc327427797267973c93df103",
            "5bf25720177e423eb69323f7e795296a",
            "0733506cc856449d8132c6d88cf81454",
            "b9a270703a604b898f51b52c9d6bcee7",
            "bff8d83eb48e4234ae19cd58f0caaa10",
            "14418504bcc64b00ad2cc743047c3d32",
            "4df5411d56c24d9792585e5d5a4ae9c3",
            "007feb40f26346c4a8ad6734b2937e32",
            "caa57c2414a542759d390a77491fa1e5",
            "6008ae92f2d74d86af4bb97404d6883c",
            "2fb1e46c0a28406484a304df33090f8c",
            "42442716862d4c9eb969e0bad1c53a1e",
            "30b346e418894c73904863b8b8ff7b11",
            "3b44c08fb86a4d9598982206fee37df2",
            "88e684983e634b4c8bd9e1c1aafebe82",
            "817941b92dc741f8b726209141e8b8ca",
            "2cc0508075b54eb78e927bad005a37ff",
            "1a45cf04faba4a7bba4ebe71489604de",
            "17b30c3d52a648c9a4fb40b3f9bb32b5"
          ]
        },
        "id": "qmecFBMwJKA2",
        "outputId": "d64b5a9e-973a-4692-a1b4-131b8a869a57"
      },
      "outputs": [
        {
          "data": {
            "application/vnd.jupyter.widget-view+json": {
              "model_id": "d378ed631abb4d84990ff4b12bb5281b",
              "version_major": 2,
              "version_minor": 0
            },
            "text/plain": [
              "Map:   0%|          | 0/1998 [00:00<?, ? examples/s]"
            ]
          },
          "metadata": {},
          "output_type": "display_data"
        },
        {
          "data": {
            "application/vnd.jupyter.widget-view+json": {
              "model_id": "caa57c2414a542759d390a77491fa1e5",
              "version_major": 2,
              "version_minor": 0
            },
            "text/plain": [
              "Map:   0%|          | 0/223 [00:00<?, ? examples/s]"
            ]
          },
          "metadata": {},
          "output_type": "display_data"
        }
      ],
      "source": [
        "train_dataset = train_dataset.map(formatting_prompts_func, batched = True,)\n",
        "test_dataset = test_dataset.map(formatting_prompts_func, batched = True,)"
      ]
    },
    {
      "cell_type": "code",
      "execution_count": 25,
      "metadata": {
        "colab": {
          "base_uri": "https://localhost:8080/"
        },
        "id": "31wjyDFyJNdh",
        "outputId": "8994a54d-d60b-4081-a43b-cf452c398f51"
      },
      "outputs": [
        {
          "data": {
            "text/plain": [
              "Dataset({\n",
              "    features: ['clause', 'tactic', '__index_level_0__', 'text'],\n",
              "    num_rows: 1998\n",
              "})"
            ]
          },
          "execution_count": 25,
          "metadata": {},
          "output_type": "execute_result"
        }
      ],
      "source": [
        "train_dataset"
      ]
    },
    {
      "cell_type": "markdown",
      "metadata": {
        "id": "RZO-5E8uJYij"
      },
      "source": [
        "Define training parameters"
      ]
    },
    {
      "cell_type": "code",
      "execution_count": 26,
      "metadata": {
        "id": "_gry0kn_JNux"
      },
      "outputs": [],
      "source": [
        "early_stopping_callback = EarlyStoppingCallback(early_stopping_patience=100, early_stopping_threshold=0.0001)   # tracks changes to the 4th decimal"
      ]
    },
    {
      "cell_type": "code",
      "execution_count": 27,
      "metadata": {
        "colab": {
          "base_uri": "https://localhost:8080/"
        },
        "id": "_5MHsqnIcbEP",
        "outputId": "2808f71a-f857-4405-b6de-d7f86c913b9e"
      },
      "outputs": [
        {
          "data": {
            "text/plain": [
              "63"
            ]
          },
          "execution_count": 27,
          "metadata": {},
          "output_type": "execute_result"
        }
      ],
      "source": [
        "torch.cuda.empty_cache()\n",
        "torch.cuda.empty_cache()      # clearing GPU cache to save some memory\n",
        "gc.collect()                  # garbage collector"
      ]
    },
    {
      "cell_type": "markdown",
      "metadata": {
        "id": "4K8kiMQ9XWZs"
      },
      "source": [
        "# Experiment #9"
      ]
    },
    {
      "cell_type": "markdown",
      "metadata": {
        "id": "-Cl8hKbhXUMb"
      },
      "source": [
        "Default parameters (1st experiment)"
      ]
    },
    {
      "cell_type": "code",
      "execution_count": 28,
      "metadata": {
        "id": "tGC9vYMXJ4W-"
      },
      "outputs": [],
      "source": [
        "# PEFT config\n",
        "lora_alpha = 16\n",
        "lora_dropout = 0.1\n",
        "lora_r = 64\n",
        "\n",
        "peft_config = LoraConfig(\n",
        "    lora_alpha=lora_alpha,\n",
        "    lora_dropout=lora_dropout,\n",
        "    r=lora_r,\n",
        "    bias=\"none\",\n",
        "    task_type=\"CAUSAL_LM\",\n",
        "    target_modules=[\"k_proj\", \"q_proj\", \"v_proj\", \"up_proj\", \"down_proj\", \"gate_proj\"]\n",
        ")"
      ]
    },
    {
      "cell_type": "code",
      "execution_count": 29,
      "metadata": {
        "id": "o7Q0MjBlZXwN"
      },
      "outputs": [],
      "source": [
        "# Args\n",
        "max_seq_length = 512  # previously 2048\n",
        "output_dir = \"./results\"\n",
        "per_device_train_batch_size = 8\n",
        "gradient_accumulation_steps = 2\n",
        "optim = \"adamw_hf\"\n",
        "# save_steps = 10\n",
        "logging_steps = 50\n",
        "eval_steps=int(50),\n",
        "save_steps=int(50),\n",
        "learning_rate = 1e-5\n",
        "max_grad_norm = 0.3\n",
        "max_steps = 3000 # Approx the size of guanaco at bs 8, ga 2, 2 GPUs.\n",
        "warmup_ratio = 0.1\n",
        "lr_scheduler_type = \"cosine\""
      ]
    },
    {
      "cell_type": "code",
      "execution_count": 30,
      "metadata": {
        "colab": {
          "base_uri": "https://localhost:8080/"
        },
        "id": "-8srusuoZefs",
        "outputId": "34485a44-c7d0-4dbe-e025-9702dad51627"
      },
      "outputs": [
        {
          "name": "stderr",
          "output_type": "stream",
          "text": [
            "/home/dani/env/lib/python3.10/site-packages/transformers/training_args.py:1474: FutureWarning: `evaluation_strategy` is deprecated and will be removed in version 4.46 of 🤗 Transformers. Use `eval_strategy` instead\n",
            "  warnings.warn(\n"
          ]
        }
      ],
      "source": [
        "training_arguments = TrainingArguments(\n",
        "    output_dir=output_dir,\n",
        "    per_device_train_batch_size=per_device_train_batch_size,\n",
        "    gradient_accumulation_steps=gradient_accumulation_steps,\n",
        "    optim=optim,\n",
        "    eval_steps=50,      # won't work unless hardcoded here :/\n",
        "    save_steps=50,      # idem\n",
        "    logging_steps=logging_steps,\n",
        "    learning_rate=learning_rate,\n",
        "    fp16=True,\n",
        "    max_grad_norm=max_grad_norm,\n",
        "    max_steps=max_steps,\n",
        "    warmup_ratio=warmup_ratio,\n",
        "    group_by_length=True,\n",
        "    lr_scheduler_type=lr_scheduler_type,\n",
        "    gradient_checkpointing=True,\n",
        "    evaluation_strategy=\"steps\",\n",
        "    load_best_model_at_end=True,\n",
        "    metric_for_best_model=\"eval_loss\",\n",
        "    # report_to=\"wandb\",\n",
        ")"
      ]
    },
    {
      "cell_type": "code",
      "execution_count": 31,
      "metadata": {
        "id": "I0zwCf7MjwJY"
      },
      "outputs": [],
      "source": [
        "import wandb"
      ]
    },
    {
      "cell_type": "code",
      "execution_count": 32,
      "metadata": {
        "id": "XYvK1OoQ2ar8"
      },
      "outputs": [],
      "source": [
        "early_stopping = EarlyStoppingCallback(\n",
        "    early_stopping_patience=10,\n",
        "    early_stopping_threshold=0.001\n",
        ")"
      ]
    },
    {
      "cell_type": "code",
      "execution_count": 33,
      "metadata": {
        "colab": {
          "base_uri": "https://localhost:8080/",
          "height": 312,
          "referenced_widgets": [
            "e2288022445948518ab45bb20c28a317",
            "6759c83870ad4a2f9e24d385b4bf92bc",
            "b94017eb54e3429abc1dc254d4f3ff9b",
            "09bbd96f273548f1806fbd74f3587232",
            "322d6609731f40639fd469b1690849c6",
            "2701cf16ec2945fca68273df6d90c479",
            "65d816e1f5524ad68b17add7726489f3",
            "ab9f4f76fc624bb9b0bbdb730417c8b9",
            "13e068a9d7534f338ba04aee1a95e342",
            "40543cc605164b2c9ef30e215d72923d",
            "b02ac824ae9a471fbd1f5c8be0335c2e",
            "6d640f973ba245088c28f9c538ff3fa0",
            "bcce052082204c1795574609135fc660",
            "d4f9b48db9794185925c893e7b226a28",
            "9872c8cc8f34419680e0dd6f9515801d",
            "db27ee82336d48ce997f60e6b507a7e3",
            "91494421b54a4b07ad679d5af900e6f3",
            "449c22057f704f70b09bb6325fe7719d",
            "f828fc3954474092be931812c0cbb852",
            "69efb2e23bd944ce8f3c993a59f05610",
            "0f995971784e414a936fe8fd839be21f",
            "403a36dbba274dabbcb2eafe75d8c685"
          ]
        },
        "id": "IHlFiUsfZgVF",
        "outputId": "b610c699-7d23-4ee5-cd48-3963560f28a7"
      },
      "outputs": [
        {
          "name": "stderr",
          "output_type": "stream",
          "text": [
            "/home/dani/env/lib/python3.10/site-packages/huggingface_hub/utils/_deprecation.py:100: FutureWarning: Deprecated argument(s) used in '__init__': dataset_text_field, max_seq_length. Will not be supported from version '1.0.0'.\n",
            "\n",
            "Deprecated positional argument(s) used in SFTTrainer, please use the SFTConfig to set these arguments instead.\n",
            "  warnings.warn(message, FutureWarning)\n",
            "/home/dani/env/lib/python3.10/site-packages/transformers/training_args.py:1474: FutureWarning: `evaluation_strategy` is deprecated and will be removed in version 4.46 of 🤗 Transformers. Use `eval_strategy` instead\n",
            "  warnings.warn(\n",
            "/home/dani/env/lib/python3.10/site-packages/transformers/training_args.py:1965: FutureWarning: `--push_to_hub_token` is deprecated and will be removed in version 5 of 🤗 Transformers. Use `--hub_token` instead.\n",
            "  warnings.warn(\n",
            "/home/dani/env/lib/python3.10/site-packages/transformers/training_args.py:1474: FutureWarning: `evaluation_strategy` is deprecated and will be removed in version 4.46 of 🤗 Transformers. Use `eval_strategy` instead\n",
            "  warnings.warn(\n",
            "/home/dani/env/lib/python3.10/site-packages/transformers/training_args.py:1965: FutureWarning: `--push_to_hub_token` is deprecated and will be removed in version 5 of 🤗 Transformers. Use `--hub_token` instead.\n",
            "  warnings.warn(\n",
            "/home/dani/env/lib/python3.10/site-packages/trl/trainer/sft_trainer.py:269: UserWarning: You passed a `max_seq_length` argument to the SFTTrainer, the value you passed will override the one in the `SFTConfig`.\n",
            "  warnings.warn(\n",
            "/home/dani/env/lib/python3.10/site-packages/trl/trainer/sft_trainer.py:307: UserWarning: You passed a `dataset_text_field` argument to the SFTTrainer, the value you passed will override the one in the `SFTConfig`.\n",
            "  warnings.warn(\n"
          ]
        },
        {
          "data": {
            "application/vnd.jupyter.widget-view+json": {
              "model_id": "e2288022445948518ab45bb20c28a317",
              "version_major": 2,
              "version_minor": 0
            },
            "text/plain": [
              "Map:   0%|          | 0/1998 [00:00<?, ? examples/s]"
            ]
          },
          "metadata": {},
          "output_type": "display_data"
        },
        {
          "data": {
            "application/vnd.jupyter.widget-view+json": {
              "model_id": "6d640f973ba245088c28f9c538ff3fa0",
              "version_major": 2,
              "version_minor": 0
            },
            "text/plain": [
              "Map:   0%|          | 0/223 [00:00<?, ? examples/s]"
            ]
          },
          "metadata": {},
          "output_type": "display_data"
        },
        {
          "name": "stderr",
          "output_type": "stream",
          "text": [
            "max_steps is given, it will override any value given in num_train_epochs\n"
          ]
        }
      ],
      "source": [
        "# Trainer\n",
        "trainer = SFTTrainer(\n",
        "    model=model,\n",
        "    train_dataset=train_dataset,\n",
        "    eval_dataset=test_dataset,\n",
        "    dataset_text_field=\"text\",\n",
        "    peft_config=peft_config,\n",
        "    max_seq_length=max_seq_length,\n",
        "    tokenizer=tokenizer,\n",
        "    args=training_arguments,\n",
        "    callbacks=[early_stopping]\n",
        ")"
      ]
    },
    {
      "cell_type": "markdown",
      "metadata": {
        "id": "lxf7XkHO7D11"
      },
      "source": [
        "# Training"
      ]
    },
    {
      "cell_type": "markdown",
      "metadata": {
        "id": "Sqa9w_POc6Br"
      },
      "source": [
        "Schedulers and callbacks"
      ]
    },
    {
      "cell_type": "code",
      "execution_count": 35,
      "metadata": {
        "id": "xsF6mOvLExx1"
      },
      "outputs": [],
      "source": [
        "weight_decay = 0.3  \n",
        "factor = 0.5 \n",
        "patience = 5  "
      ]
    },
    {
      "cell_type": "code",
      "execution_count": 36,
      "metadata": {
        "colab": {
          "base_uri": "https://localhost:8080/"
        },
        "id": "vvwUPq248RjB",
        "outputId": "5e1bf2d0-b7f7-42a7-eb88-d86e042aaefc"
      },
      "outputs": [
        {
          "name": "stderr",
          "output_type": "stream",
          "text": [
            "/home/dani/env/lib/python3.10/site-packages/transformers/optimization.py:588: FutureWarning: This implementation of AdamW is deprecated and will be removed in a future version. Use the PyTorch implementation torch.optim.AdamW instead, or set `no_deprecation_warning=True` to disable this warning\n",
            "  warnings.warn(\n"
          ]
        }
      ],
      "source": [
        "optimizer = AdamW(\n",
        "    trainer.model.parameters(),\n",
        "    lr=trainer.args.learning_rate,\n",
        "    weight_decay=trainer.args.weight_decay\n",
        ")\n",
        "\n",
        "\n",
        "scheduler = ReduceLROnPlateau(\n",
        "    optimizer=optimizer,\n",
        "    mode='min',\n",
        "    factor=factor,\n",
        "    patience=patience,\n",
        "    threshold=0.001,\n",
        "    threshold_mode='rel',\n",
        "    cooldown=0,\n",
        "    min_lr=0,\n",
        "    eps=1e-8,\n",
        "    verbose=True\n",
        ")\n",
        "\n",
        "trainer.optimizer = optimizer\n",
        "trainer.lr_scheduler = scheduler"
      ]
    },
    {
      "cell_type": "code",
      "execution_count": 37,
      "metadata": {
        "colab": {
          "base_uri": "https://localhost:8080/"
        },
        "id": "9v6D5bfK95nH",
        "outputId": "14602260-1cde-4506-c6e3-b1342ffd8487"
      },
      "outputs": [
        {
          "name": "stdout",
          "output_type": "stream",
          "text": [
            "[+] Using optimizer: AdamW (\n",
            "Parameter Group 0\n",
            "    betas: (0.9, 0.999)\n",
            "    correct_bias: True\n",
            "    eps: 1e-06\n",
            "    lr: 1e-05\n",
            "    weight_decay: 0.0\n",
            ")\n",
            "[+] Using scheduler: <torch.optim.lr_scheduler.ReduceLROnPlateau object at 0x7f2b7362d810>\n"
          ]
        }
      ],
      "source": [
        "print(\"[+] Using optimizer:\", trainer.optimizer)\n",
        "print(\"[+] Using scheduler:\", trainer.lr_scheduler)"
      ]
    },
    {
      "cell_type": "markdown",
      "metadata": {
        "id": "ml3jIFyBaJmZ"
      },
      "source": [
        "Allocated memory before clearing:"
      ]
    },
    {
      "cell_type": "code",
      "execution_count": 38,
      "metadata": {
        "colab": {
          "base_uri": "https://localhost:8080/"
        },
        "id": "79qXcB7GaPGq",
        "outputId": "318e0f85-3c22-4827-c8f5-31d55c574811"
      },
      "outputs": [
        {
          "name": "stdout",
          "output_type": "stream",
          "text": [
            "2386632704\n",
            "3435134976\n"
          ]
        }
      ],
      "source": [
        "print(torch.cuda.memory_allocated())\n",
        "print(torch.cuda.memory_reserved())"
      ]
    },
    {
      "cell_type": "code",
      "execution_count": 39,
      "metadata": {
        "colab": {
          "base_uri": "https://localhost:8080/"
        },
        "id": "p-hUI5AAaHKn",
        "outputId": "d790e9e8-4d1a-4243-976a-4e7af86b95e2"
      },
      "outputs": [
        {
          "data": {
            "text/plain": [
              "347"
            ]
          },
          "execution_count": 39,
          "metadata": {},
          "output_type": "execute_result"
        }
      ],
      "source": [
        "torch.cuda.empty_cache()\n",
        "torch.cuda.empty_cache()      # clearing GPU cache to save some memory\n",
        "gc.collect()                  # garbage collector"
      ]
    },
    {
      "cell_type": "markdown",
      "metadata": {
        "id": "qq0Bl28paM9p"
      },
      "source": [
        "Allocated memory after clearing:"
      ]
    },
    {
      "cell_type": "code",
      "execution_count": 40,
      "metadata": {
        "colab": {
          "base_uri": "https://localhost:8080/"
        },
        "id": "8R8-oGIMaNpJ",
        "outputId": "15278920-a5e8-4861-ac9f-06ab67f17cf1"
      },
      "outputs": [
        {
          "name": "stdout",
          "output_type": "stream",
          "text": [
            "2386632704\n",
            "3435134976\n"
          ]
        }
      ],
      "source": [
        "print(torch.cuda.memory_allocated())\n",
        "print(torch.cuda.memory_reserved())"
      ]
    },
    {
      "cell_type": "markdown",
      "metadata": {
        "id": "-hTnj4NnaSva"
      },
      "source": [
        "Training"
      ]
    },
    {
      "cell_type": "code",
      "execution_count": 41,
      "metadata": {
        "colab": {
          "base_uri": "https://localhost:8080/",
          "height": 1000
        },
        "id": "LLanaPL0JU-W",
        "outputId": "ccf3caf1-83f7-4435-98bf-f8f4786afb29"
      },
      "outputs": [
        {
          "name": "stderr",
          "output_type": "stream",
          "text": [
            "\u001b[34m\u001b[1mwandb\u001b[0m: \u001b[33mWARNING\u001b[0m The `run_name` is currently set to the same value as `TrainingArguments.output_dir`. If this was not intended, please specify a different run name by setting the `TrainingArguments.run_name` parameter.\n",
            "\u001b[34m\u001b[1mwandb\u001b[0m: Currently logged in as: \u001b[33mw-dan\u001b[0m (\u001b[33mseclab-etsisi\u001b[0m). Use \u001b[1m`wandb login --relogin`\u001b[0m to force relogin\n"
          ]
        },
        {
          "data": {
            "text/html": [
              "Tracking run with wandb version 0.17.1"
            ],
            "text/plain": [
              "<IPython.core.display.HTML object>"
            ]
          },
          "metadata": {},
          "output_type": "display_data"
        },
        {
          "data": {
            "text/html": [
              "Run data is saved locally in <code>/home/dani/wandb/run-20240615_074726-rwdtimjx</code>"
            ],
            "text/plain": [
              "<IPython.core.display.HTML object>"
            ]
          },
          "metadata": {},
          "output_type": "display_data"
        },
        {
          "data": {
            "text/html": [
              "Syncing run <strong><a href='https://wandb.ai/seclab-etsisi/huggingface/runs/rwdtimjx' target=\"_blank\">./results</a></strong> to <a href='https://wandb.ai/seclab-etsisi/huggingface' target=\"_blank\">Weights & Biases</a> (<a href='https://wandb.me/run' target=\"_blank\">docs</a>)<br/>"
            ],
            "text/plain": [
              "<IPython.core.display.HTML object>"
            ]
          },
          "metadata": {},
          "output_type": "display_data"
        },
        {
          "data": {
            "text/html": [
              " View project at <a href='https://wandb.ai/seclab-etsisi/huggingface' target=\"_blank\">https://wandb.ai/seclab-etsisi/huggingface</a>"
            ],
            "text/plain": [
              "<IPython.core.display.HTML object>"
            ]
          },
          "metadata": {},
          "output_type": "display_data"
        },
        {
          "data": {
            "text/html": [
              " View run at <a href='https://wandb.ai/seclab-etsisi/huggingface/runs/rwdtimjx' target=\"_blank\">https://wandb.ai/seclab-etsisi/huggingface/runs/rwdtimjx</a>"
            ],
            "text/plain": [
              "<IPython.core.display.HTML object>"
            ]
          },
          "metadata": {},
          "output_type": "display_data"
        },
        {
          "name": "stderr",
          "output_type": "stream",
          "text": [
            "/home/dani/env/lib/python3.10/site-packages/torch/utils/checkpoint.py:464: UserWarning: torch.utils.checkpoint: the use_reentrant parameter should be passed explicitly. In version 2.4 we will raise an exception if use_reentrant is not passed. use_reentrant=False is recommended, but if you need to preserve the current default behavior, you can pass use_reentrant=True. Refer to docs for more details on the differences between the two variants.\n",
            "  warnings.warn(\n"
          ]
        },
        {
          "data": {
            "text/html": [
              "\n",
              "    <div>\n",
              "      \n",
              "      <progress value='1950' max='3000' style='width:300px; height:20px; vertical-align: middle;'></progress>\n",
              "      [1950/3000 3:48:12 < 2:03:00, 0.14 it/s, Epoch 15/24]\n",
              "    </div>\n",
              "    <table border=\"1\" class=\"dataframe\">\n",
              "  <thead>\n",
              " <tr style=\"text-align: left;\">\n",
              "      <th>Step</th>\n",
              "      <th>Training Loss</th>\n",
              "      <th>Validation Loss</th>\n",
              "    </tr>\n",
              "  </thead>\n",
              "  <tbody>\n",
              "    <tr>\n",
              "      <td>50</td>\n",
              "      <td>3.108800</td>\n",
              "      <td>2.939895</td>\n",
              "    </tr>\n",
              "    <tr>\n",
              "      <td>100</td>\n",
              "      <td>2.632400</td>\n",
              "      <td>2.412871</td>\n",
              "    </tr>\n",
              "    <tr>\n",
              "      <td>150</td>\n",
              "      <td>2.240000</td>\n",
              "      <td>2.259425</td>\n",
              "    </tr>\n",
              "    <tr>\n",
              "      <td>200</td>\n",
              "      <td>2.201700</td>\n",
              "      <td>2.219532</td>\n",
              "    </tr>\n",
              "    <tr>\n",
              "      <td>250</td>\n",
              "      <td>2.061900</td>\n",
              "      <td>2.190013</td>\n",
              "    </tr>\n",
              "    <tr>\n",
              "      <td>300</td>\n",
              "      <td>2.109600</td>\n",
              "      <td>2.161615</td>\n",
              "    </tr>\n",
              "    <tr>\n",
              "      <td>350</td>\n",
              "      <td>2.049700</td>\n",
              "      <td>2.132534</td>\n",
              "    </tr>\n",
              "    <tr>\n",
              "      <td>400</td>\n",
              "      <td>2.020100</td>\n",
              "      <td>2.109203</td>\n",
              "    </tr>\n",
              "    <tr>\n",
              "      <td>450</td>\n",
              "      <td>2.021900</td>\n",
              "      <td>2.091116</td>\n",
              "    </tr>\n",
              "    <tr>\n",
              "      <td>500</td>\n",
              "      <td>1.935600</td>\n",
              "      <td>2.074628</td>\n",
              "    </tr>\n",
              "    <tr>\n",
              "      <td>550</td>\n",
              "      <td>1.969400</td>\n",
              "      <td>2.054408</td>\n",
              "    </tr>\n",
              "    <tr>\n",
              "      <td>600</td>\n",
              "      <td>1.964800</td>\n",
              "      <td>2.037849</td>\n",
              "    </tr>\n",
              "    <tr>\n",
              "      <td>650</td>\n",
              "      <td>1.890100</td>\n",
              "      <td>2.023615</td>\n",
              "    </tr>\n",
              "    <tr>\n",
              "      <td>700</td>\n",
              "      <td>1.895100</td>\n",
              "      <td>2.014275</td>\n",
              "    </tr>\n",
              "    <tr>\n",
              "      <td>750</td>\n",
              "      <td>1.858500</td>\n",
              "      <td>2.006161</td>\n",
              "    </tr>\n",
              "    <tr>\n",
              "      <td>800</td>\n",
              "      <td>1.905800</td>\n",
              "      <td>1.998351</td>\n",
              "    </tr>\n",
              "    <tr>\n",
              "      <td>850</td>\n",
              "      <td>1.870600</td>\n",
              "      <td>1.994090</td>\n",
              "    </tr>\n",
              "    <tr>\n",
              "      <td>900</td>\n",
              "      <td>1.807800</td>\n",
              "      <td>1.988062</td>\n",
              "    </tr>\n",
              "    <tr>\n",
              "      <td>950</td>\n",
              "      <td>1.850900</td>\n",
              "      <td>1.983002</td>\n",
              "    </tr>\n",
              "    <tr>\n",
              "      <td>1000</td>\n",
              "      <td>1.764500</td>\n",
              "      <td>1.980037</td>\n",
              "    </tr>\n",
              "    <tr>\n",
              "      <td>1050</td>\n",
              "      <td>1.826700</td>\n",
              "      <td>1.974884</td>\n",
              "    </tr>\n",
              "    <tr>\n",
              "      <td>1100</td>\n",
              "      <td>1.812500</td>\n",
              "      <td>1.973945</td>\n",
              "    </tr>\n",
              "    <tr>\n",
              "      <td>1150</td>\n",
              "      <td>1.763200</td>\n",
              "      <td>1.970975</td>\n",
              "    </tr>\n",
              "    <tr>\n",
              "      <td>1200</td>\n",
              "      <td>1.796800</td>\n",
              "      <td>1.964867</td>\n",
              "    </tr>\n",
              "    <tr>\n",
              "      <td>1250</td>\n",
              "      <td>1.675400</td>\n",
              "      <td>1.968933</td>\n",
              "    </tr>\n",
              "    <tr>\n",
              "      <td>1300</td>\n",
              "      <td>1.765500</td>\n",
              "      <td>1.962856</td>\n",
              "    </tr>\n",
              "    <tr>\n",
              "      <td>1350</td>\n",
              "      <td>1.738000</td>\n",
              "      <td>1.966287</td>\n",
              "    </tr>\n",
              "    <tr>\n",
              "      <td>1400</td>\n",
              "      <td>1.645900</td>\n",
              "      <td>1.967502</td>\n",
              "    </tr>\n",
              "    <tr>\n",
              "      <td>1450</td>\n",
              "      <td>1.731400</td>\n",
              "      <td>1.959169</td>\n",
              "    </tr>\n",
              "    <tr>\n",
              "      <td>1500</td>\n",
              "      <td>1.667000</td>\n",
              "      <td>1.969748</td>\n",
              "    </tr>\n",
              "    <tr>\n",
              "      <td>1550</td>\n",
              "      <td>1.700300</td>\n",
              "      <td>1.961663</td>\n",
              "    </tr>\n",
              "    <tr>\n",
              "      <td>1600</td>\n",
              "      <td>1.680400</td>\n",
              "      <td>1.965709</td>\n",
              "    </tr>\n",
              "    <tr>\n",
              "      <td>1650</td>\n",
              "      <td>1.627900</td>\n",
              "      <td>1.973237</td>\n",
              "    </tr>\n",
              "    <tr>\n",
              "      <td>1700</td>\n",
              "      <td>1.652000</td>\n",
              "      <td>1.959173</td>\n",
              "    </tr>\n",
              "    <tr>\n",
              "      <td>1750</td>\n",
              "      <td>1.556900</td>\n",
              "      <td>1.982077</td>\n",
              "    </tr>\n",
              "    <tr>\n",
              "      <td>1800</td>\n",
              "      <td>1.637500</td>\n",
              "      <td>1.966875</td>\n",
              "    </tr>\n",
              "    <tr>\n",
              "      <td>1850</td>\n",
              "      <td>1.583600</td>\n",
              "      <td>1.987397</td>\n",
              "    </tr>\n",
              "    <tr>\n",
              "      <td>1900</td>\n",
              "      <td>1.579100</td>\n",
              "      <td>1.973879</td>\n",
              "    </tr>\n",
              "    <tr>\n",
              "      <td>1950</td>\n",
              "      <td>1.609100</td>\n",
              "      <td>1.977829</td>\n",
              "    </tr>\n",
              "  </tbody>\n",
              "</table><p>"
            ],
            "text/plain": [
              "<IPython.core.display.HTML object>"
            ]
          },
          "metadata": {},
          "output_type": "display_data"
        },
        {
          "name": "stderr",
          "output_type": "stream",
          "text": [
            "/home/dani/env/lib/python3.10/site-packages/huggingface_hub/file_download.py:1132: FutureWarning: `resume_download` is deprecated and will be removed in version 1.0.0. Downloads always resume when possible. If you want to force a new download, use `force_download=True`.\n",
            "  warnings.warn(\n",
            "/home/dani/env/lib/python3.10/site-packages/torch/utils/checkpoint.py:464: UserWarning: torch.utils.checkpoint: the use_reentrant parameter should be passed explicitly. In version 2.4 we will raise an exception if use_reentrant is not passed. use_reentrant=False is recommended, but if you need to preserve the current default behavior, you can pass use_reentrant=True. Refer to docs for more details on the differences between the two variants.\n",
            "  warnings.warn(\n",
            "/home/dani/env/lib/python3.10/site-packages/huggingface_hub/file_download.py:1132: FutureWarning: `resume_download` is deprecated and will be removed in version 1.0.0. Downloads always resume when possible. If you want to force a new download, use `force_download=True`.\n",
            "  warnings.warn(\n",
            "/home/dani/env/lib/python3.10/site-packages/torch/utils/checkpoint.py:464: UserWarning: torch.utils.checkpoint: the use_reentrant parameter should be passed explicitly. In version 2.4 we will raise an exception if use_reentrant is not passed. use_reentrant=False is recommended, but if you need to preserve the current default behavior, you can pass use_reentrant=True. Refer to docs for more details on the differences between the two variants.\n",
            "  warnings.warn(\n",
            "/home/dani/env/lib/python3.10/site-packages/huggingface_hub/file_download.py:1132: FutureWarning: `resume_download` is deprecated and will be removed in version 1.0.0. Downloads always resume when possible. If you want to force a new download, use `force_download=True`.\n",
            "  warnings.warn(\n",
            "/home/dani/env/lib/python3.10/site-packages/torch/utils/checkpoint.py:464: UserWarning: torch.utils.checkpoint: the use_reentrant parameter should be passed explicitly. In version 2.4 we will raise an exception if use_reentrant is not passed. use_reentrant=False is recommended, but if you need to preserve the current default behavior, you can pass use_reentrant=True. Refer to docs for more details on the differences between the two variants.\n",
            "  warnings.warn(\n",
            "/home/dani/env/lib/python3.10/site-packages/huggingface_hub/file_download.py:1132: FutureWarning: `resume_download` is deprecated and will be removed in version 1.0.0. Downloads always resume when possible. If you want to force a new download, use `force_download=True`.\n",
            "  warnings.warn(\n",
            "/home/dani/env/lib/python3.10/site-packages/torch/utils/checkpoint.py:464: UserWarning: torch.utils.checkpoint: the use_reentrant parameter should be passed explicitly. In version 2.4 we will raise an exception if use_reentrant is not passed. use_reentrant=False is recommended, but if you need to preserve the current default behavior, you can pass use_reentrant=True. Refer to docs for more details on the differences between the two variants.\n",
            "  warnings.warn(\n",
            "/home/dani/env/lib/python3.10/site-packages/huggingface_hub/file_download.py:1132: FutureWarning: `resume_download` is deprecated and will be removed in version 1.0.0. Downloads always resume when possible. If you want to force a new download, use `force_download=True`.\n",
            "  warnings.warn(\n",
            "/home/dani/env/lib/python3.10/site-packages/torch/utils/checkpoint.py:464: UserWarning: torch.utils.checkpoint: the use_reentrant parameter should be passed explicitly. In version 2.4 we will raise an exception if use_reentrant is not passed. use_reentrant=False is recommended, but if you need to preserve the current default behavior, you can pass use_reentrant=True. Refer to docs for more details on the differences between the two variants.\n",
            "  warnings.warn(\n",
            "/home/dani/env/lib/python3.10/site-packages/huggingface_hub/file_download.py:1132: FutureWarning: `resume_download` is deprecated and will be removed in version 1.0.0. Downloads always resume when possible. If you want to force a new download, use `force_download=True`.\n",
            "  warnings.warn(\n",
            "/home/dani/env/lib/python3.10/site-packages/torch/utils/checkpoint.py:464: UserWarning: torch.utils.checkpoint: the use_reentrant parameter should be passed explicitly. In version 2.4 we will raise an exception if use_reentrant is not passed. use_reentrant=False is recommended, but if you need to preserve the current default behavior, you can pass use_reentrant=True. Refer to docs for more details on the differences between the two variants.\n",
            "  warnings.warn(\n",
            "/home/dani/env/lib/python3.10/site-packages/huggingface_hub/file_download.py:1132: FutureWarning: `resume_download` is deprecated and will be removed in version 1.0.0. Downloads always resume when possible. If you want to force a new download, use `force_download=True`.\n",
            "  warnings.warn(\n",
            "/home/dani/env/lib/python3.10/site-packages/torch/utils/checkpoint.py:464: UserWarning: torch.utils.checkpoint: the use_reentrant parameter should be passed explicitly. In version 2.4 we will raise an exception if use_reentrant is not passed. use_reentrant=False is recommended, but if you need to preserve the current default behavior, you can pass use_reentrant=True. Refer to docs for more details on the differences between the two variants.\n",
            "  warnings.warn(\n",
            "/home/dani/env/lib/python3.10/site-packages/huggingface_hub/file_download.py:1132: FutureWarning: `resume_download` is deprecated and will be removed in version 1.0.0. Downloads always resume when possible. If you want to force a new download, use `force_download=True`.\n",
            "  warnings.warn(\n",
            "/home/dani/env/lib/python3.10/site-packages/torch/utils/checkpoint.py:464: UserWarning: torch.utils.checkpoint: the use_reentrant parameter should be passed explicitly. In version 2.4 we will raise an exception if use_reentrant is not passed. use_reentrant=False is recommended, but if you need to preserve the current default behavior, you can pass use_reentrant=True. Refer to docs for more details on the differences between the two variants.\n",
            "  warnings.warn(\n",
            "/home/dani/env/lib/python3.10/site-packages/huggingface_hub/file_download.py:1132: FutureWarning: `resume_download` is deprecated and will be removed in version 1.0.0. Downloads always resume when possible. If you want to force a new download, use `force_download=True`.\n",
            "  warnings.warn(\n",
            "/home/dani/env/lib/python3.10/site-packages/torch/utils/checkpoint.py:464: UserWarning: torch.utils.checkpoint: the use_reentrant parameter should be passed explicitly. In version 2.4 we will raise an exception if use_reentrant is not passed. use_reentrant=False is recommended, but if you need to preserve the current default behavior, you can pass use_reentrant=True. Refer to docs for more details on the differences between the two variants.\n",
            "  warnings.warn(\n",
            "/home/dani/env/lib/python3.10/site-packages/huggingface_hub/file_download.py:1132: FutureWarning: `resume_download` is deprecated and will be removed in version 1.0.0. Downloads always resume when possible. If you want to force a new download, use `force_download=True`.\n",
            "  warnings.warn(\n",
            "/home/dani/env/lib/python3.10/site-packages/torch/utils/checkpoint.py:464: UserWarning: torch.utils.checkpoint: the use_reentrant parameter should be passed explicitly. In version 2.4 we will raise an exception if use_reentrant is not passed. use_reentrant=False is recommended, but if you need to preserve the current default behavior, you can pass use_reentrant=True. Refer to docs for more details on the differences between the two variants.\n",
            "  warnings.warn(\n",
            "/home/dani/env/lib/python3.10/site-packages/huggingface_hub/file_download.py:1132: FutureWarning: `resume_download` is deprecated and will be removed in version 1.0.0. Downloads always resume when possible. If you want to force a new download, use `force_download=True`.\n",
            "  warnings.warn(\n",
            "/home/dani/env/lib/python3.10/site-packages/torch/utils/checkpoint.py:464: UserWarning: torch.utils.checkpoint: the use_reentrant parameter should be passed explicitly. In version 2.4 we will raise an exception if use_reentrant is not passed. use_reentrant=False is recommended, but if you need to preserve the current default behavior, you can pass use_reentrant=True. Refer to docs for more details on the differences between the two variants.\n",
            "  warnings.warn(\n",
            "/home/dani/env/lib/python3.10/site-packages/huggingface_hub/file_download.py:1132: FutureWarning: `resume_download` is deprecated and will be removed in version 1.0.0. Downloads always resume when possible. If you want to force a new download, use `force_download=True`.\n",
            "  warnings.warn(\n",
            "/home/dani/env/lib/python3.10/site-packages/torch/utils/checkpoint.py:464: UserWarning: torch.utils.checkpoint: the use_reentrant parameter should be passed explicitly. In version 2.4 we will raise an exception if use_reentrant is not passed. use_reentrant=False is recommended, but if you need to preserve the current default behavior, you can pass use_reentrant=True. Refer to docs for more details on the differences between the two variants.\n",
            "  warnings.warn(\n",
            "/home/dani/env/lib/python3.10/site-packages/huggingface_hub/file_download.py:1132: FutureWarning: `resume_download` is deprecated and will be removed in version 1.0.0. Downloads always resume when possible. If you want to force a new download, use `force_download=True`.\n",
            "  warnings.warn(\n",
            "/home/dani/env/lib/python3.10/site-packages/torch/utils/checkpoint.py:464: UserWarning: torch.utils.checkpoint: the use_reentrant parameter should be passed explicitly. In version 2.4 we will raise an exception if use_reentrant is not passed. use_reentrant=False is recommended, but if you need to preserve the current default behavior, you can pass use_reentrant=True. Refer to docs for more details on the differences between the two variants.\n",
            "  warnings.warn(\n",
            "/home/dani/env/lib/python3.10/site-packages/huggingface_hub/file_download.py:1132: FutureWarning: `resume_download` is deprecated and will be removed in version 1.0.0. Downloads always resume when possible. If you want to force a new download, use `force_download=True`.\n",
            "  warnings.warn(\n",
            "/home/dani/env/lib/python3.10/site-packages/torch/utils/checkpoint.py:464: UserWarning: torch.utils.checkpoint: the use_reentrant parameter should be passed explicitly. In version 2.4 we will raise an exception if use_reentrant is not passed. use_reentrant=False is recommended, but if you need to preserve the current default behavior, you can pass use_reentrant=True. Refer to docs for more details on the differences between the two variants.\n",
            "  warnings.warn(\n",
            "/home/dani/env/lib/python3.10/site-packages/huggingface_hub/file_download.py:1132: FutureWarning: `resume_download` is deprecated and will be removed in version 1.0.0. Downloads always resume when possible. If you want to force a new download, use `force_download=True`.\n",
            "  warnings.warn(\n",
            "/home/dani/env/lib/python3.10/site-packages/torch/utils/checkpoint.py:464: UserWarning: torch.utils.checkpoint: the use_reentrant parameter should be passed explicitly. In version 2.4 we will raise an exception if use_reentrant is not passed. use_reentrant=False is recommended, but if you need to preserve the current default behavior, you can pass use_reentrant=True. Refer to docs for more details on the differences between the two variants.\n",
            "  warnings.warn(\n",
            "/home/dani/env/lib/python3.10/site-packages/huggingface_hub/file_download.py:1132: FutureWarning: `resume_download` is deprecated and will be removed in version 1.0.0. Downloads always resume when possible. If you want to force a new download, use `force_download=True`.\n",
            "  warnings.warn(\n",
            "/home/dani/env/lib/python3.10/site-packages/torch/utils/checkpoint.py:464: UserWarning: torch.utils.checkpoint: the use_reentrant parameter should be passed explicitly. In version 2.4 we will raise an exception if use_reentrant is not passed. use_reentrant=False is recommended, but if you need to preserve the current default behavior, you can pass use_reentrant=True. Refer to docs for more details on the differences between the two variants.\n",
            "  warnings.warn(\n",
            "/home/dani/env/lib/python3.10/site-packages/huggingface_hub/file_download.py:1132: FutureWarning: `resume_download` is deprecated and will be removed in version 1.0.0. Downloads always resume when possible. If you want to force a new download, use `force_download=True`.\n",
            "  warnings.warn(\n",
            "/home/dani/env/lib/python3.10/site-packages/torch/utils/checkpoint.py:464: UserWarning: torch.utils.checkpoint: the use_reentrant parameter should be passed explicitly. In version 2.4 we will raise an exception if use_reentrant is not passed. use_reentrant=False is recommended, but if you need to preserve the current default behavior, you can pass use_reentrant=True. Refer to docs for more details on the differences between the two variants.\n",
            "  warnings.warn(\n",
            "/home/dani/env/lib/python3.10/site-packages/huggingface_hub/file_download.py:1132: FutureWarning: `resume_download` is deprecated and will be removed in version 1.0.0. Downloads always resume when possible. If you want to force a new download, use `force_download=True`.\n",
            "  warnings.warn(\n",
            "/home/dani/env/lib/python3.10/site-packages/torch/utils/checkpoint.py:464: UserWarning: torch.utils.checkpoint: the use_reentrant parameter should be passed explicitly. In version 2.4 we will raise an exception if use_reentrant is not passed. use_reentrant=False is recommended, but if you need to preserve the current default behavior, you can pass use_reentrant=True. Refer to docs for more details on the differences between the two variants.\n",
            "  warnings.warn(\n",
            "/home/dani/env/lib/python3.10/site-packages/huggingface_hub/file_download.py:1132: FutureWarning: `resume_download` is deprecated and will be removed in version 1.0.0. Downloads always resume when possible. If you want to force a new download, use `force_download=True`.\n",
            "  warnings.warn(\n",
            "/home/dani/env/lib/python3.10/site-packages/torch/utils/checkpoint.py:464: UserWarning: torch.utils.checkpoint: the use_reentrant parameter should be passed explicitly. In version 2.4 we will raise an exception if use_reentrant is not passed. use_reentrant=False is recommended, but if you need to preserve the current default behavior, you can pass use_reentrant=True. Refer to docs for more details on the differences between the two variants.\n",
            "  warnings.warn(\n",
            "/home/dani/env/lib/python3.10/site-packages/huggingface_hub/file_download.py:1132: FutureWarning: `resume_download` is deprecated and will be removed in version 1.0.0. Downloads always resume when possible. If you want to force a new download, use `force_download=True`.\n",
            "  warnings.warn(\n",
            "/home/dani/env/lib/python3.10/site-packages/torch/utils/checkpoint.py:464: UserWarning: torch.utils.checkpoint: the use_reentrant parameter should be passed explicitly. In version 2.4 we will raise an exception if use_reentrant is not passed. use_reentrant=False is recommended, but if you need to preserve the current default behavior, you can pass use_reentrant=True. Refer to docs for more details on the differences between the two variants.\n",
            "  warnings.warn(\n",
            "/home/dani/env/lib/python3.10/site-packages/huggingface_hub/file_download.py:1132: FutureWarning: `resume_download` is deprecated and will be removed in version 1.0.0. Downloads always resume when possible. If you want to force a new download, use `force_download=True`.\n",
            "  warnings.warn(\n",
            "/home/dani/env/lib/python3.10/site-packages/torch/utils/checkpoint.py:464: UserWarning: torch.utils.checkpoint: the use_reentrant parameter should be passed explicitly. In version 2.4 we will raise an exception if use_reentrant is not passed. use_reentrant=False is recommended, but if you need to preserve the current default behavior, you can pass use_reentrant=True. Refer to docs for more details on the differences between the two variants.\n",
            "  warnings.warn(\n",
            "/home/dani/env/lib/python3.10/site-packages/huggingface_hub/file_download.py:1132: FutureWarning: `resume_download` is deprecated and will be removed in version 1.0.0. Downloads always resume when possible. If you want to force a new download, use `force_download=True`.\n",
            "  warnings.warn(\n",
            "/home/dani/env/lib/python3.10/site-packages/torch/utils/checkpoint.py:464: UserWarning: torch.utils.checkpoint: the use_reentrant parameter should be passed explicitly. In version 2.4 we will raise an exception if use_reentrant is not passed. use_reentrant=False is recommended, but if you need to preserve the current default behavior, you can pass use_reentrant=True. Refer to docs for more details on the differences between the two variants.\n",
            "  warnings.warn(\n",
            "/home/dani/env/lib/python3.10/site-packages/huggingface_hub/file_download.py:1132: FutureWarning: `resume_download` is deprecated and will be removed in version 1.0.0. Downloads always resume when possible. If you want to force a new download, use `force_download=True`.\n",
            "  warnings.warn(\n",
            "/home/dani/env/lib/python3.10/site-packages/torch/utils/checkpoint.py:464: UserWarning: torch.utils.checkpoint: the use_reentrant parameter should be passed explicitly. In version 2.4 we will raise an exception if use_reentrant is not passed. use_reentrant=False is recommended, but if you need to preserve the current default behavior, you can pass use_reentrant=True. Refer to docs for more details on the differences between the two variants.\n",
            "  warnings.warn(\n",
            "/home/dani/env/lib/python3.10/site-packages/huggingface_hub/file_download.py:1132: FutureWarning: `resume_download` is deprecated and will be removed in version 1.0.0. Downloads always resume when possible. If you want to force a new download, use `force_download=True`.\n",
            "  warnings.warn(\n",
            "/home/dani/env/lib/python3.10/site-packages/torch/utils/checkpoint.py:464: UserWarning: torch.utils.checkpoint: the use_reentrant parameter should be passed explicitly. In version 2.4 we will raise an exception if use_reentrant is not passed. use_reentrant=False is recommended, but if you need to preserve the current default behavior, you can pass use_reentrant=True. Refer to docs for more details on the differences between the two variants.\n",
            "  warnings.warn(\n",
            "/home/dani/env/lib/python3.10/site-packages/huggingface_hub/file_download.py:1132: FutureWarning: `resume_download` is deprecated and will be removed in version 1.0.0. Downloads always resume when possible. If you want to force a new download, use `force_download=True`.\n",
            "  warnings.warn(\n",
            "/home/dani/env/lib/python3.10/site-packages/torch/utils/checkpoint.py:464: UserWarning: torch.utils.checkpoint: the use_reentrant parameter should be passed explicitly. In version 2.4 we will raise an exception if use_reentrant is not passed. use_reentrant=False is recommended, but if you need to preserve the current default behavior, you can pass use_reentrant=True. Refer to docs for more details on the differences between the two variants.\n",
            "  warnings.warn(\n",
            "/home/dani/env/lib/python3.10/site-packages/huggingface_hub/file_download.py:1132: FutureWarning: `resume_download` is deprecated and will be removed in version 1.0.0. Downloads always resume when possible. If you want to force a new download, use `force_download=True`.\n",
            "  warnings.warn(\n",
            "/home/dani/env/lib/python3.10/site-packages/torch/utils/checkpoint.py:464: UserWarning: torch.utils.checkpoint: the use_reentrant parameter should be passed explicitly. In version 2.4 we will raise an exception if use_reentrant is not passed. use_reentrant=False is recommended, but if you need to preserve the current default behavior, you can pass use_reentrant=True. Refer to docs for more details on the differences between the two variants.\n",
            "  warnings.warn(\n",
            "/home/dani/env/lib/python3.10/site-packages/huggingface_hub/file_download.py:1132: FutureWarning: `resume_download` is deprecated and will be removed in version 1.0.0. Downloads always resume when possible. If you want to force a new download, use `force_download=True`.\n",
            "  warnings.warn(\n",
            "/home/dani/env/lib/python3.10/site-packages/torch/utils/checkpoint.py:464: UserWarning: torch.utils.checkpoint: the use_reentrant parameter should be passed explicitly. In version 2.4 we will raise an exception if use_reentrant is not passed. use_reentrant=False is recommended, but if you need to preserve the current default behavior, you can pass use_reentrant=True. Refer to docs for more details on the differences between the two variants.\n",
            "  warnings.warn(\n",
            "/home/dani/env/lib/python3.10/site-packages/huggingface_hub/file_download.py:1132: FutureWarning: `resume_download` is deprecated and will be removed in version 1.0.0. Downloads always resume when possible. If you want to force a new download, use `force_download=True`.\n",
            "  warnings.warn(\n",
            "/home/dani/env/lib/python3.10/site-packages/torch/utils/checkpoint.py:464: UserWarning: torch.utils.checkpoint: the use_reentrant parameter should be passed explicitly. In version 2.4 we will raise an exception if use_reentrant is not passed. use_reentrant=False is recommended, but if you need to preserve the current default behavior, you can pass use_reentrant=True. Refer to docs for more details on the differences between the two variants.\n",
            "  warnings.warn(\n",
            "/home/dani/env/lib/python3.10/site-packages/huggingface_hub/file_download.py:1132: FutureWarning: `resume_download` is deprecated and will be removed in version 1.0.0. Downloads always resume when possible. If you want to force a new download, use `force_download=True`.\n",
            "  warnings.warn(\n",
            "/home/dani/env/lib/python3.10/site-packages/torch/utils/checkpoint.py:464: UserWarning: torch.utils.checkpoint: the use_reentrant parameter should be passed explicitly. In version 2.4 we will raise an exception if use_reentrant is not passed. use_reentrant=False is recommended, but if you need to preserve the current default behavior, you can pass use_reentrant=True. Refer to docs for more details on the differences between the two variants.\n",
            "  warnings.warn(\n",
            "/home/dani/env/lib/python3.10/site-packages/huggingface_hub/file_download.py:1132: FutureWarning: `resume_download` is deprecated and will be removed in version 1.0.0. Downloads always resume when possible. If you want to force a new download, use `force_download=True`.\n",
            "  warnings.warn(\n",
            "/home/dani/env/lib/python3.10/site-packages/torch/utils/checkpoint.py:464: UserWarning: torch.utils.checkpoint: the use_reentrant parameter should be passed explicitly. In version 2.4 we will raise an exception if use_reentrant is not passed. use_reentrant=False is recommended, but if you need to preserve the current default behavior, you can pass use_reentrant=True. Refer to docs for more details on the differences between the two variants.\n",
            "  warnings.warn(\n",
            "/home/dani/env/lib/python3.10/site-packages/huggingface_hub/file_download.py:1132: FutureWarning: `resume_download` is deprecated and will be removed in version 1.0.0. Downloads always resume when possible. If you want to force a new download, use `force_download=True`.\n",
            "  warnings.warn(\n",
            "/home/dani/env/lib/python3.10/site-packages/torch/utils/checkpoint.py:464: UserWarning: torch.utils.checkpoint: the use_reentrant parameter should be passed explicitly. In version 2.4 we will raise an exception if use_reentrant is not passed. use_reentrant=False is recommended, but if you need to preserve the current default behavior, you can pass use_reentrant=True. Refer to docs for more details on the differences between the two variants.\n",
            "  warnings.warn(\n",
            "/home/dani/env/lib/python3.10/site-packages/huggingface_hub/file_download.py:1132: FutureWarning: `resume_download` is deprecated and will be removed in version 1.0.0. Downloads always resume when possible. If you want to force a new download, use `force_download=True`.\n",
            "  warnings.warn(\n",
            "/home/dani/env/lib/python3.10/site-packages/torch/utils/checkpoint.py:464: UserWarning: torch.utils.checkpoint: the use_reentrant parameter should be passed explicitly. In version 2.4 we will raise an exception if use_reentrant is not passed. use_reentrant=False is recommended, but if you need to preserve the current default behavior, you can pass use_reentrant=True. Refer to docs for more details on the differences between the two variants.\n",
            "  warnings.warn(\n",
            "/home/dani/env/lib/python3.10/site-packages/huggingface_hub/file_download.py:1132: FutureWarning: `resume_download` is deprecated and will be removed in version 1.0.0. Downloads always resume when possible. If you want to force a new download, use `force_download=True`.\n",
            "  warnings.warn(\n",
            "/home/dani/env/lib/python3.10/site-packages/torch/utils/checkpoint.py:464: UserWarning: torch.utils.checkpoint: the use_reentrant parameter should be passed explicitly. In version 2.4 we will raise an exception if use_reentrant is not passed. use_reentrant=False is recommended, but if you need to preserve the current default behavior, you can pass use_reentrant=True. Refer to docs for more details on the differences between the two variants.\n",
            "  warnings.warn(\n",
            "/home/dani/env/lib/python3.10/site-packages/huggingface_hub/file_download.py:1132: FutureWarning: `resume_download` is deprecated and will be removed in version 1.0.0. Downloads always resume when possible. If you want to force a new download, use `force_download=True`.\n",
            "  warnings.warn(\n",
            "/home/dani/env/lib/python3.10/site-packages/torch/utils/checkpoint.py:464: UserWarning: torch.utils.checkpoint: the use_reentrant parameter should be passed explicitly. In version 2.4 we will raise an exception if use_reentrant is not passed. use_reentrant=False is recommended, but if you need to preserve the current default behavior, you can pass use_reentrant=True. Refer to docs for more details on the differences between the two variants.\n",
            "  warnings.warn(\n",
            "/home/dani/env/lib/python3.10/site-packages/huggingface_hub/file_download.py:1132: FutureWarning: `resume_download` is deprecated and will be removed in version 1.0.0. Downloads always resume when possible. If you want to force a new download, use `force_download=True`.\n",
            "  warnings.warn(\n",
            "/home/dani/env/lib/python3.10/site-packages/torch/utils/checkpoint.py:464: UserWarning: torch.utils.checkpoint: the use_reentrant parameter should be passed explicitly. In version 2.4 we will raise an exception if use_reentrant is not passed. use_reentrant=False is recommended, but if you need to preserve the current default behavior, you can pass use_reentrant=True. Refer to docs for more details on the differences between the two variants.\n",
            "  warnings.warn(\n",
            "/home/dani/env/lib/python3.10/site-packages/huggingface_hub/file_download.py:1132: FutureWarning: `resume_download` is deprecated and will be removed in version 1.0.0. Downloads always resume when possible. If you want to force a new download, use `force_download=True`.\n",
            "  warnings.warn(\n",
            "/home/dani/env/lib/python3.10/site-packages/torch/utils/checkpoint.py:464: UserWarning: torch.utils.checkpoint: the use_reentrant parameter should be passed explicitly. In version 2.4 we will raise an exception if use_reentrant is not passed. use_reentrant=False is recommended, but if you need to preserve the current default behavior, you can pass use_reentrant=True. Refer to docs for more details on the differences between the two variants.\n",
            "  warnings.warn(\n",
            "/home/dani/env/lib/python3.10/site-packages/huggingface_hub/file_download.py:1132: FutureWarning: `resume_download` is deprecated and will be removed in version 1.0.0. Downloads always resume when possible. If you want to force a new download, use `force_download=True`.\n",
            "  warnings.warn(\n",
            "/home/dani/env/lib/python3.10/site-packages/torch/utils/checkpoint.py:464: UserWarning: torch.utils.checkpoint: the use_reentrant parameter should be passed explicitly. In version 2.4 we will raise an exception if use_reentrant is not passed. use_reentrant=False is recommended, but if you need to preserve the current default behavior, you can pass use_reentrant=True. Refer to docs for more details on the differences between the two variants.\n",
            "  warnings.warn(\n",
            "/home/dani/env/lib/python3.10/site-packages/huggingface_hub/file_download.py:1132: FutureWarning: `resume_download` is deprecated and will be removed in version 1.0.0. Downloads always resume when possible. If you want to force a new download, use `force_download=True`.\n",
            "  warnings.warn(\n",
            "/home/dani/env/lib/python3.10/site-packages/torch/utils/checkpoint.py:464: UserWarning: torch.utils.checkpoint: the use_reentrant parameter should be passed explicitly. In version 2.4 we will raise an exception if use_reentrant is not passed. use_reentrant=False is recommended, but if you need to preserve the current default behavior, you can pass use_reentrant=True. Refer to docs for more details on the differences between the two variants.\n",
            "  warnings.warn(\n",
            "/home/dani/env/lib/python3.10/site-packages/huggingface_hub/file_download.py:1132: FutureWarning: `resume_download` is deprecated and will be removed in version 1.0.0. Downloads always resume when possible. If you want to force a new download, use `force_download=True`.\n",
            "  warnings.warn(\n"
          ]
        }
      ],
      "source": [
        "trainer_stats = trainer.train()"
      ]
    },
    {
      "cell_type": "code",
      "execution_count": 43,
      "metadata": {
        "colab": {
          "base_uri": "https://localhost:8080/"
        },
        "id": "A98R2dtg4aif",
        "outputId": "40a9af2c-69be-4bcf-a5ec-31d0de1bb262"
      },
      "outputs": [
        {
          "data": {
            "text/plain": [
              "53"
            ]
          },
          "execution_count": 43,
          "metadata": {},
          "output_type": "execute_result"
        }
      ],
      "source": [
        "torch.cuda.empty_cache()\n",
        "torch.cuda.empty_cache()      # clearing GPU cache to save some memory\n",
        "gc.collect()                  # garbage collector"
      ]
    },
    {
      "cell_type": "code",
      "execution_count": 44,
      "metadata": {
        "colab": {
          "base_uri": "https://localhost:8080/",
          "height": 54
        },
        "id": "yVDVHHIPSElv",
        "outputId": "bf1b0754-0090-4612-f426-0090c30073fb"
      },
      "outputs": [
        {
          "data": {
            "text/html": [
              "\n",
              "    <div>\n",
              "      \n",
              "      <progress value='28' max='28' style='width:300px; height:20px; vertical-align: middle;'></progress>\n",
              "      [28/28 00:41]\n",
              "    </div>\n",
              "    "
            ],
            "text/plain": [
              "<IPython.core.display.HTML object>"
            ]
          },
          "metadata": {},
          "output_type": "display_data"
        },
        {
          "name": "stdout",
          "output_type": "stream",
          "text": [
            "{'eval_loss': 1.9591691493988037, 'eval_runtime': 42.6474, 'eval_samples_per_second': 5.229, 'eval_steps_per_second': 0.657, 'epoch': 15.6}\n"
          ]
        }
      ],
      "source": [
        "eval_results = trainer.evaluate()\n",
        "print(eval_results)"
      ]
    },
    {
      "cell_type": "code",
      "execution_count": 45,
      "metadata": {
        "colab": {
          "base_uri": "https://localhost:8080/"
        },
        "id": "4bz20yBMJaTy",
        "outputId": "4588ae9f-bcbd-4304-da1e-eb837956e7a5"
      },
      "outputs": [
        {
          "data": {
            "text/plain": [
              "'#@title Show final memory and time stats\\nused_memory = round(torch.cuda.max_memory_reserved() / 1024 / 1024 / 1024, 3)\\nused_memory_for_lora = round(used_memory - start_gpu_memory, 3)\\nused_percentage = round(used_memory         /max_memory*100, 3)\\nlora_percentage = round(used_memory_for_lora/max_memory*100, 3)\\nprint(f\"{trainer_stats.metrics[\\'train_runtime\\']} seconds used for training.\")\\nprint(f\"{round(trainer_stats.metrics[\\'train_runtime\\']/60, 2)} minutes used for training.\")\\nprint(f\"Peak reserved memory = {used_memory} GB.\")\\nprint(f\"Peak reserved memory for training = {used_memory_for_lora} GB.\")\\nprint(f\"Peak reserved memory % of max memory = {used_percentage} %.\")\\nprint(f\"Peak reserved memory for training % of max memory = {lora_percentage} %.\")'"
            ]
          },
          "execution_count": 45,
          "metadata": {},
          "output_type": "execute_result"
        }
      ],
      "source": [
        "\"\"\"#@title Show final memory and time stats\n",
        "used_memory = round(torch.cuda.max_memory_reserved() / 1024 / 1024 / 1024, 3)\n",
        "used_memory_for_lora = round(used_memory - start_gpu_memory, 3)\n",
        "used_percentage = round(used_memory         /max_memory*100, 3)\n",
        "lora_percentage = round(used_memory_for_lora/max_memory*100, 3)\n",
        "print(f\"{trainer_stats.metrics['train_runtime']} seconds used for training.\")\n",
        "print(f\"{round(trainer_stats.metrics['train_runtime']/60, 2)} minutes used for training.\")\n",
        "print(f\"Peak reserved memory = {used_memory} GB.\")\n",
        "print(f\"Peak reserved memory for training = {used_memory_for_lora} GB.\")\n",
        "print(f\"Peak reserved memory % of max memory = {used_percentage} %.\")\n",
        "print(f\"Peak reserved memory for training % of max memory = {lora_percentage} %.\")\"\"\""
      ]
    },
    {
      "cell_type": "markdown",
      "metadata": {
        "id": "indrKoT4SPaL"
      },
      "source": [
        "# Evaluation"
      ]
    },
    {
      "cell_type": "code",
      "execution_count": 46,
      "metadata": {
        "id": "I8SnpZ4ESQLY"
      },
      "outputs": [],
      "source": [
        "def plot_training_logs(logs: List[Dict[str, float]]) -> None:\n",
        "    \"\"\"\n",
        "    Plot training loss, validation loss, and learning rate over time.\n",
        "\n",
        "    Args:\n",
        "    logs (List[Dict[str, float]]): List of log entries containing metrics like loss, validation loss, and learning rate.\n",
        "    \"\"\"\n",
        "    steps_loss = [log['step'] for log in logs if 'loss' in log]\n",
        "    loss = [log['loss'] for log in logs if 'loss' in log]\n",
        "    learning_rate = [log['learning_rate'] for log in logs if 'learning_rate' in log]\n",
        "    steps_eval = [log['step'] for log in logs if 'eval_loss' in log]\n",
        "    eval_loss = [log['eval_loss'] for log in logs if 'eval_loss' in log]\n",
        "\n",
        "    plt.figure(figsize=(14, 5))\n",
        "    plt.plot(steps_loss, loss, label='Training Loss')\n",
        "    plt.plot(steps_eval, eval_loss, label='Validation Loss', color='red')\n",
        "    plt.xlabel('Steps')\n",
        "    plt.ylabel('Loss')\n",
        "    plt.title('Training and Validation Loss')\n",
        "    plt.legend()\n",
        "    plt.grid(True)\n",
        "    plt.savefig('training_and_validation_loss.png')\n",
        "    plt.show()\n",
        "\n",
        "    plt.figure(figsize=(14, 5))\n",
        "    plt.plot(steps_loss, learning_rate[:len(steps_loss)], label='Learning Rate', color='orange')\n",
        "    plt.xlabel('Steps')\n",
        "    plt.ylabel('Learning Rate')\n",
        "    plt.title('Learning Rate Schedule')\n",
        "    plt.legend()\n",
        "    plt.grid(True)\n",
        "    plt.savefig('learning_rate_schedule.png')\n",
        "    plt.show()"
      ]
    },
    {
      "cell_type": "code",
      "execution_count": 47,
      "metadata": {
        "colab": {
          "base_uri": "https://localhost:8080/"
        },
        "id": "KFSF60aOrJPh",
        "outputId": "970a6772-28a4-4227-ce31-8410a22b8864"
      },
      "outputs": [
        {
          "data": {
            "text/plain": [
              "[{'loss': 3.1088,\n",
              "  'grad_norm': 0.40133559703826904,\n",
              "  'learning_rate': 1e-05,\n",
              "  'epoch': 0.4,\n",
              "  'step': 50},\n",
              " {'eval_loss': 2.939894914627075,\n",
              "  'eval_runtime': 42.3634,\n",
              "  'eval_samples_per_second': 5.264,\n",
              "  'eval_steps_per_second': 0.661,\n",
              "  'epoch': 0.4,\n",
              "  'step': 50},\n",
              " {'loss': 2.6324,\n",
              "  'grad_norm': 0.2836415767669678,\n",
              "  'learning_rate': 1e-05,\n",
              "  'epoch': 0.8,\n",
              "  'step': 100},\n",
              " {'eval_loss': 2.4128708839416504,\n",
              "  'eval_runtime': 42.4344,\n",
              "  'eval_samples_per_second': 5.255,\n",
              "  'eval_steps_per_second': 0.66,\n",
              "  'epoch': 0.8,\n",
              "  'step': 100},\n",
              " {'loss': 2.24,\n",
              "  'grad_norm': 0.27025121450424194,\n",
              "  'learning_rate': 1e-05,\n",
              "  'epoch': 1.2,\n",
              "  'step': 150},\n",
              " {'eval_loss': 2.259425163269043,\n",
              "  'eval_runtime': 42.3703,\n",
              "  'eval_samples_per_second': 5.263,\n",
              "  'eval_steps_per_second': 0.661,\n",
              "  'epoch': 1.2,\n",
              "  'step': 150},\n",
              " {'loss': 2.2017,\n",
              "  'grad_norm': 0.28375187516212463,\n",
              "  'learning_rate': 1e-05,\n",
              "  'epoch': 1.6,\n",
              "  'step': 200},\n",
              " {'eval_loss': 2.219531774520874,\n",
              "  'eval_runtime': 42.3232,\n",
              "  'eval_samples_per_second': 5.269,\n",
              "  'eval_steps_per_second': 0.662,\n",
              "  'epoch': 1.6,\n",
              "  'step': 200},\n",
              " {'loss': 2.0619,\n",
              "  'grad_norm': 0.3486093580722809,\n",
              "  'learning_rate': 1e-05,\n",
              "  'epoch': 2.0,\n",
              "  'step': 250},\n",
              " {'eval_loss': 2.1900131702423096,\n",
              "  'eval_runtime': 42.5107,\n",
              "  'eval_samples_per_second': 5.246,\n",
              "  'eval_steps_per_second': 0.659,\n",
              "  'epoch': 2.0,\n",
              "  'step': 250},\n",
              " {'loss': 2.1096,\n",
              "  'grad_norm': 0.3927878141403198,\n",
              "  'learning_rate': 1e-05,\n",
              "  'epoch': 2.4,\n",
              "  'step': 300},\n",
              " {'eval_loss': 2.1616148948669434,\n",
              "  'eval_runtime': 42.3729,\n",
              "  'eval_samples_per_second': 5.263,\n",
              "  'eval_steps_per_second': 0.661,\n",
              "  'epoch': 2.4,\n",
              "  'step': 300},\n",
              " {'loss': 2.0497,\n",
              "  'grad_norm': 0.31152355670928955,\n",
              "  'learning_rate': 1e-05,\n",
              "  'epoch': 2.8,\n",
              "  'step': 350},\n",
              " {'eval_loss': 2.132533550262451,\n",
              "  'eval_runtime': 42.4992,\n",
              "  'eval_samples_per_second': 5.247,\n",
              "  'eval_steps_per_second': 0.659,\n",
              "  'epoch': 2.8,\n",
              "  'step': 350},\n",
              " {'loss': 2.0201,\n",
              "  'grad_norm': 0.3732993006706238,\n",
              "  'learning_rate': 1e-05,\n",
              "  'epoch': 3.2,\n",
              "  'step': 400},\n",
              " {'eval_loss': 2.1092028617858887,\n",
              "  'eval_runtime': 42.3667,\n",
              "  'eval_samples_per_second': 5.264,\n",
              "  'eval_steps_per_second': 0.661,\n",
              "  'epoch': 3.2,\n",
              "  'step': 400},\n",
              " {'loss': 2.0219,\n",
              "  'grad_norm': 0.3428775370121002,\n",
              "  'learning_rate': 1e-05,\n",
              "  'epoch': 3.6,\n",
              "  'step': 450},\n",
              " {'eval_loss': 2.091115713119507,\n",
              "  'eval_runtime': 42.4755,\n",
              "  'eval_samples_per_second': 5.25,\n",
              "  'eval_steps_per_second': 0.659,\n",
              "  'epoch': 3.6,\n",
              "  'step': 450},\n",
              " {'loss': 1.9356,\n",
              "  'grad_norm': 0.44075027108192444,\n",
              "  'learning_rate': 1e-05,\n",
              "  'epoch': 4.0,\n",
              "  'step': 500},\n",
              " {'eval_loss': 2.074627637863159,\n",
              "  'eval_runtime': 42.507,\n",
              "  'eval_samples_per_second': 5.246,\n",
              "  'eval_steps_per_second': 0.659,\n",
              "  'epoch': 4.0,\n",
              "  'step': 500},\n",
              " {'loss': 1.9694,\n",
              "  'grad_norm': 0.3986189365386963,\n",
              "  'learning_rate': 1e-05,\n",
              "  'epoch': 4.4,\n",
              "  'step': 550},\n",
              " {'eval_loss': 2.054408311843872,\n",
              "  'eval_runtime': 42.4969,\n",
              "  'eval_samples_per_second': 5.247,\n",
              "  'eval_steps_per_second': 0.659,\n",
              "  'epoch': 4.4,\n",
              "  'step': 550},\n",
              " {'loss': 1.9648,\n",
              "  'grad_norm': 0.4138321876525879,\n",
              "  'learning_rate': 1e-05,\n",
              "  'epoch': 4.8,\n",
              "  'step': 600},\n",
              " {'eval_loss': 2.037848949432373,\n",
              "  'eval_runtime': 42.4867,\n",
              "  'eval_samples_per_second': 5.249,\n",
              "  'eval_steps_per_second': 0.659,\n",
              "  'epoch': 4.8,\n",
              "  'step': 600},\n",
              " {'loss': 1.8901,\n",
              "  'grad_norm': 0.44658809900283813,\n",
              "  'learning_rate': 1e-05,\n",
              "  'epoch': 5.2,\n",
              "  'step': 650},\n",
              " {'eval_loss': 2.0236153602600098,\n",
              "  'eval_runtime': 42.4426,\n",
              "  'eval_samples_per_second': 5.254,\n",
              "  'eval_steps_per_second': 0.66,\n",
              "  'epoch': 5.2,\n",
              "  'step': 650},\n",
              " {'loss': 1.8951,\n",
              "  'grad_norm': 0.5032631754875183,\n",
              "  'learning_rate': 1e-05,\n",
              "  'epoch': 5.6,\n",
              "  'step': 700},\n",
              " {'eval_loss': 2.014275074005127,\n",
              "  'eval_runtime': 42.3398,\n",
              "  'eval_samples_per_second': 5.267,\n",
              "  'eval_steps_per_second': 0.661,\n",
              "  'epoch': 5.6,\n",
              "  'step': 700},\n",
              " {'loss': 1.8585,\n",
              "  'grad_norm': 0.4481235146522522,\n",
              "  'learning_rate': 1e-05,\n",
              "  'epoch': 6.0,\n",
              "  'step': 750},\n",
              " {'eval_loss': 2.0061614513397217,\n",
              "  'eval_runtime': 42.4337,\n",
              "  'eval_samples_per_second': 5.255,\n",
              "  'eval_steps_per_second': 0.66,\n",
              "  'epoch': 6.0,\n",
              "  'step': 750},\n",
              " {'loss': 1.9058,\n",
              "  'grad_norm': 0.4353538453578949,\n",
              "  'learning_rate': 1e-05,\n",
              "  'epoch': 6.4,\n",
              "  'step': 800},\n",
              " {'eval_loss': 1.9983508586883545,\n",
              "  'eval_runtime': 42.3759,\n",
              "  'eval_samples_per_second': 5.262,\n",
              "  'eval_steps_per_second': 0.661,\n",
              "  'epoch': 6.4,\n",
              "  'step': 800},\n",
              " {'loss': 1.8706,\n",
              "  'grad_norm': 0.47777408361434937,\n",
              "  'learning_rate': 1e-05,\n",
              "  'epoch': 6.8,\n",
              "  'step': 850},\n",
              " {'eval_loss': 1.9940896034240723,\n",
              "  'eval_runtime': 42.4866,\n",
              "  'eval_samples_per_second': 5.249,\n",
              "  'eval_steps_per_second': 0.659,\n",
              "  'epoch': 6.8,\n",
              "  'step': 850},\n",
              " {'loss': 1.8078,\n",
              "  'grad_norm': 0.48977595567703247,\n",
              "  'learning_rate': 1e-05,\n",
              "  'epoch': 7.2,\n",
              "  'step': 900},\n",
              " {'eval_loss': 1.988061785697937,\n",
              "  'eval_runtime': 42.4146,\n",
              "  'eval_samples_per_second': 5.258,\n",
              "  'eval_steps_per_second': 0.66,\n",
              "  'epoch': 7.2,\n",
              "  'step': 900},\n",
              " {'loss': 1.8509,\n",
              "  'grad_norm': 0.49568039178848267,\n",
              "  'learning_rate': 1e-05,\n",
              "  'epoch': 7.6,\n",
              "  'step': 950},\n",
              " {'eval_loss': 1.9830024242401123,\n",
              "  'eval_runtime': 42.4706,\n",
              "  'eval_samples_per_second': 5.251,\n",
              "  'eval_steps_per_second': 0.659,\n",
              "  'epoch': 7.6,\n",
              "  'step': 950},\n",
              " {'loss': 1.7645,\n",
              "  'grad_norm': 0.5365437865257263,\n",
              "  'learning_rate': 1e-05,\n",
              "  'epoch': 8.0,\n",
              "  'step': 1000},\n",
              " {'eval_loss': 1.9800374507904053,\n",
              "  'eval_runtime': 42.3809,\n",
              "  'eval_samples_per_second': 5.262,\n",
              "  'eval_steps_per_second': 0.661,\n",
              "  'epoch': 8.0,\n",
              "  'step': 1000},\n",
              " {'loss': 1.8267,\n",
              "  'grad_norm': 0.5667928457260132,\n",
              "  'learning_rate': 1e-05,\n",
              "  'epoch': 8.4,\n",
              "  'step': 1050},\n",
              " {'eval_loss': 1.9748843908309937,\n",
              "  'eval_runtime': 42.3682,\n",
              "  'eval_samples_per_second': 5.263,\n",
              "  'eval_steps_per_second': 0.661,\n",
              "  'epoch': 8.4,\n",
              "  'step': 1050},\n",
              " {'loss': 1.8125,\n",
              "  'grad_norm': 0.49122917652130127,\n",
              "  'learning_rate': 1e-05,\n",
              "  'epoch': 8.8,\n",
              "  'step': 1100},\n",
              " {'eval_loss': 1.973945140838623,\n",
              "  'eval_runtime': 42.5401,\n",
              "  'eval_samples_per_second': 5.242,\n",
              "  'eval_steps_per_second': 0.658,\n",
              "  'epoch': 8.8,\n",
              "  'step': 1100},\n",
              " {'loss': 1.7632,\n",
              "  'grad_norm': 0.6048476099967957,\n",
              "  'learning_rate': 1e-05,\n",
              "  'epoch': 9.2,\n",
              "  'step': 1150},\n",
              " {'eval_loss': 1.9709751605987549,\n",
              "  'eval_runtime': 42.3842,\n",
              "  'eval_samples_per_second': 5.261,\n",
              "  'eval_steps_per_second': 0.661,\n",
              "  'epoch': 9.2,\n",
              "  'step': 1150},\n",
              " {'loss': 1.7968,\n",
              "  'grad_norm': 0.5501207709312439,\n",
              "  'learning_rate': 1e-05,\n",
              "  'epoch': 9.6,\n",
              "  'step': 1200},\n",
              " {'eval_loss': 1.9648672342300415,\n",
              "  'eval_runtime': 42.3589,\n",
              "  'eval_samples_per_second': 5.265,\n",
              "  'eval_steps_per_second': 0.661,\n",
              "  'epoch': 9.6,\n",
              "  'step': 1200},\n",
              " {'loss': 1.6754,\n",
              "  'grad_norm': 0.6550142168998718,\n",
              "  'learning_rate': 1e-05,\n",
              "  'epoch': 10.0,\n",
              "  'step': 1250},\n",
              " {'eval_loss': 1.96893310546875,\n",
              "  'eval_runtime': 42.8126,\n",
              "  'eval_samples_per_second': 5.209,\n",
              "  'eval_steps_per_second': 0.654,\n",
              "  'epoch': 10.0,\n",
              "  'step': 1250},\n",
              " {'loss': 1.7655,\n",
              "  'grad_norm': 0.6140201687812805,\n",
              "  'learning_rate': 1e-05,\n",
              "  'epoch': 10.4,\n",
              "  'step': 1300},\n",
              " {'eval_loss': 1.962856411933899,\n",
              "  'eval_runtime': 42.4605,\n",
              "  'eval_samples_per_second': 5.252,\n",
              "  'eval_steps_per_second': 0.659,\n",
              "  'epoch': 10.4,\n",
              "  'step': 1300},\n",
              " {'loss': 1.738,\n",
              "  'grad_norm': 0.6033889055252075,\n",
              "  'learning_rate': 1e-05,\n",
              "  'epoch': 10.8,\n",
              "  'step': 1350},\n",
              " {'eval_loss': 1.9662871360778809,\n",
              "  'eval_runtime': 42.434,\n",
              "  'eval_samples_per_second': 5.255,\n",
              "  'eval_steps_per_second': 0.66,\n",
              "  'epoch': 10.8,\n",
              "  'step': 1350},\n",
              " {'loss': 1.6459,\n",
              "  'grad_norm': 0.7055569887161255,\n",
              "  'learning_rate': 1e-05,\n",
              "  'epoch': 11.2,\n",
              "  'step': 1400},\n",
              " {'eval_loss': 1.9675023555755615,\n",
              "  'eval_runtime': 42.3249,\n",
              "  'eval_samples_per_second': 5.269,\n",
              "  'eval_steps_per_second': 0.662,\n",
              "  'epoch': 11.2,\n",
              "  'step': 1400},\n",
              " {'loss': 1.7314,\n",
              "  'grad_norm': 0.6127905249595642,\n",
              "  'learning_rate': 1e-05,\n",
              "  'epoch': 11.6,\n",
              "  'step': 1450},\n",
              " {'eval_loss': 1.9591691493988037,\n",
              "  'eval_runtime': 42.4273,\n",
              "  'eval_samples_per_second': 5.256,\n",
              "  'eval_steps_per_second': 0.66,\n",
              "  'epoch': 11.6,\n",
              "  'step': 1450},\n",
              " {'loss': 1.667,\n",
              "  'grad_norm': 0.8349773287773132,\n",
              "  'learning_rate': 1e-05,\n",
              "  'epoch': 12.0,\n",
              "  'step': 1500},\n",
              " {'eval_loss': 1.9697476625442505,\n",
              "  'eval_runtime': 42.7036,\n",
              "  'eval_samples_per_second': 5.222,\n",
              "  'eval_steps_per_second': 0.656,\n",
              "  'epoch': 12.0,\n",
              "  'step': 1500},\n",
              " {'loss': 1.7003,\n",
              "  'grad_norm': 0.8015274405479431,\n",
              "  'learning_rate': 1e-05,\n",
              "  'epoch': 12.4,\n",
              "  'step': 1550},\n",
              " {'eval_loss': 1.9616628885269165,\n",
              "  'eval_runtime': 42.5786,\n",
              "  'eval_samples_per_second': 5.237,\n",
              "  'eval_steps_per_second': 0.658,\n",
              "  'epoch': 12.4,\n",
              "  'step': 1550},\n",
              " {'loss': 1.6804,\n",
              "  'grad_norm': 0.6873688697814941,\n",
              "  'learning_rate': 1e-05,\n",
              "  'epoch': 12.8,\n",
              "  'step': 1600},\n",
              " {'eval_loss': 1.9657087326049805,\n",
              "  'eval_runtime': 42.3515,\n",
              "  'eval_samples_per_second': 5.265,\n",
              "  'eval_steps_per_second': 0.661,\n",
              "  'epoch': 12.8,\n",
              "  'step': 1600},\n",
              " {'loss': 1.6279,\n",
              "  'grad_norm': 0.8882462382316589,\n",
              "  'learning_rate': 1e-05,\n",
              "  'epoch': 13.2,\n",
              "  'step': 1650},\n",
              " {'eval_loss': 1.973237156867981,\n",
              "  'eval_runtime': 42.4657,\n",
              "  'eval_samples_per_second': 5.251,\n",
              "  'eval_steps_per_second': 0.659,\n",
              "  'epoch': 13.2,\n",
              "  'step': 1650},\n",
              " {'loss': 1.652,\n",
              "  'grad_norm': 0.7951282858848572,\n",
              "  'learning_rate': 1e-05,\n",
              "  'epoch': 13.6,\n",
              "  'step': 1700},\n",
              " {'eval_loss': 1.9591727256774902,\n",
              "  'eval_runtime': 42.4452,\n",
              "  'eval_samples_per_second': 5.254,\n",
              "  'eval_steps_per_second': 0.66,\n",
              "  'epoch': 13.6,\n",
              "  'step': 1700},\n",
              " {'loss': 1.5569,\n",
              "  'grad_norm': 1.0804542303085327,\n",
              "  'learning_rate': 1e-05,\n",
              "  'epoch': 14.0,\n",
              "  'step': 1750},\n",
              " {'eval_loss': 1.9820772409439087,\n",
              "  'eval_runtime': 42.3768,\n",
              "  'eval_samples_per_second': 5.262,\n",
              "  'eval_steps_per_second': 0.661,\n",
              "  'epoch': 14.0,\n",
              "  'step': 1750},\n",
              " {'loss': 1.6375,\n",
              "  'grad_norm': 1.0698258876800537,\n",
              "  'learning_rate': 5e-06,\n",
              "  'epoch': 14.4,\n",
              "  'step': 1800},\n",
              " {'eval_loss': 1.9668747186660767,\n",
              "  'eval_runtime': 42.427,\n",
              "  'eval_samples_per_second': 5.256,\n",
              "  'eval_steps_per_second': 0.66,\n",
              "  'epoch': 14.4,\n",
              "  'step': 1800},\n",
              " {'loss': 1.5836,\n",
              "  'grad_norm': 0.9179026484489441,\n",
              "  'learning_rate': 5e-06,\n",
              "  'epoch': 14.8,\n",
              "  'step': 1850},\n",
              " {'eval_loss': 1.9873971939086914,\n",
              "  'eval_runtime': 42.3873,\n",
              "  'eval_samples_per_second': 5.261,\n",
              "  'eval_steps_per_second': 0.661,\n",
              "  'epoch': 14.8,\n",
              "  'step': 1850},\n",
              " {'loss': 1.5791,\n",
              "  'grad_norm': 1.0391631126403809,\n",
              "  'learning_rate': 5e-06,\n",
              "  'epoch': 15.2,\n",
              "  'step': 1900},\n",
              " {'eval_loss': 1.9738787412643433,\n",
              "  'eval_runtime': 42.3752,\n",
              "  'eval_samples_per_second': 5.263,\n",
              "  'eval_steps_per_second': 0.661,\n",
              "  'epoch': 15.2,\n",
              "  'step': 1900},\n",
              " {'loss': 1.6091,\n",
              "  'grad_norm': 0.9129166007041931,\n",
              "  'learning_rate': 5e-06,\n",
              "  'epoch': 15.6,\n",
              "  'step': 1950},\n",
              " {'eval_loss': 1.9778285026550293,\n",
              "  'eval_runtime': 42.5419,\n",
              "  'eval_samples_per_second': 5.242,\n",
              "  'eval_steps_per_second': 0.658,\n",
              "  'epoch': 15.6,\n",
              "  'step': 1950},\n",
              " {'train_runtime': 13712.4982,\n",
              "  'train_samples_per_second': 3.5,\n",
              "  'train_steps_per_second': 0.219,\n",
              "  'total_flos': 3.8069464523115725e+17,\n",
              "  'train_loss': 1.8771380928235177,\n",
              "  'epoch': 15.6,\n",
              "  'step': 1950},\n",
              " {'eval_loss': 1.9591691493988037,\n",
              "  'eval_runtime': 42.6474,\n",
              "  'eval_samples_per_second': 5.229,\n",
              "  'eval_steps_per_second': 0.657,\n",
              "  'epoch': 15.6,\n",
              "  'step': 1950}]"
            ]
          },
          "execution_count": 47,
          "metadata": {},
          "output_type": "execute_result"
        }
      ],
      "source": [
        "trainer.state.log_history"
      ]
    },
    {
      "cell_type": "code",
      "execution_count": 48,
      "metadata": {
        "colab": {
          "base_uri": "https://localhost:8080/",
          "height": 957
        },
        "id": "bYMXyzfI73SN",
        "outputId": "2ad6ccf3-ae88-45c5-ade4-d3850f219054"
      },
      "outputs": [
        {
          "data": {
            "image/png": "[encoded data removed]",
            "text/plain": [
              "<Figure size 1400x500 with 1 Axes>"
            ]
          },
          "metadata": {},
          "output_type": "display_data"
        },
        {
          "data": {
            "image/png": "[encoded data removed]",
            "text/plain": [
              "<Figure size 1400x500 with 1 Axes>"
            ]
          },
          "metadata": {},
          "output_type": "display_data"
        }
      ],
      "source": [
        "plot_training_logs(trainer.state.log_history)"
      ]
    },
    {
      "cell_type": "markdown",
      "metadata": {
        "id": "x-Qlzac_nAKf"
      },
      "source": [
        "# Test dataframe inferences (accuracy measure)"
      ]
    },
    {
      "cell_type": "code",
      "execution_count": 49,
      "metadata": {
        "id": "rgkDGTg-nTsZ"
      },
      "outputs": [],
      "source": [
        "def extract_response_text(text: str) -> str:\n",
        "    \"\"\"\n",
        "    Extract the text after '### Response:' from the given string.\n",
        "\n",
        "    Args:\n",
        "    text (str): The input string containing the '### Response:' section.\n",
        "\n",
        "    Returns:\n",
        "    str: The extracted response text.\n",
        "    \"\"\"\n",
        "    marker = \"### Response:\"\n",
        "    start_index = text.find(marker)\n",
        "\n",
        "    if start_index == -1:\n",
        "        return \"\"  # Marker not found, return an empty string\n",
        "\n",
        "    start_index += len(marker)\n",
        "    response_text = text[start_index:].strip()\n",
        "\n",
        "    return response_text"
      ]
    },
    {
      "cell_type": "code",
      "execution_count": 50,
      "metadata": {
        "colab": {
          "base_uri": "https://localhost:8080/",
          "height": 1000,
          "referenced_widgets": [
            "e9bd2b71af4c4716bcad05b69e316901",
            "77f0c9f26e4d4cf798182327f99893ee",
            "943463b174fd4f6f884070b7e7eefd87",
            "451b02be5b434d638fb3ef2a1cabbe79",
            "f5a56f3182dd40a1b2ca3dc4efbccc20",
            "c3b9d5a44cb149e0866c9f6cf2388779",
            "7f5a171c5bdf438aac2d3b6903166cc7",
            "27b4e51ff597416db438381c52f65fe4",
            "fac8c3b3674f46b997c6c5bbe2cb9f8e",
            "aa5fb905dc37433c81e75210ae9a8ce3",
            "8552cd0a6c464e599cdea52b9980080c"
          ]
        },
        "id": "zssYBaS_mtDc",
        "outputId": "cae87145-5b0b-41f0-b300-4b4428bea745"
      },
      "outputs": [
        {
          "data": {
            "application/vnd.jupyter.widget-view+json": {
              "model_id": "e9bd2b71af4c4716bcad05b69e316901",
              "version_major": 2,
              "version_minor": 0
            },
            "text/plain": [
              "Processing dataset:   0%|          | 0/223 [00:00<?, ?it/s]"
            ]
          },
          "metadata": {},
          "output_type": "display_data"
        },
        {
          "name": "stderr",
          "output_type": "stream",
          "text": [
            "Setting `pad_token_id` to `eos_token_id`:128001 for open-end generation.\n",
            "Setting `pad_token_id` to `eos_token_id`:128001 for open-end generation.\n",
            "Setting `pad_token_id` to `eos_token_id`:128001 for open-end generation.\n",
            "Setting `pad_token_id` to `eos_token_id`:128001 for open-end generation.\n",
            "Setting `pad_token_id` to `eos_token_id`:128001 for open-end generation.\n",
            "Setting `pad_token_id` to `eos_token_id`:128001 for open-end generation.\n",
            "Setting `pad_token_id` to `eos_token_id`:128001 for open-end generation.\n",
            "Setting `pad_token_id` to `eos_token_id`:128001 for open-end generation.\n",
            "Setting `pad_token_id` to `eos_token_id`:128001 for open-end generation.\n",
            "Setting `pad_token_id` to `eos_token_id`:128001 for open-end generation.\n",
            "Setting `pad_token_id` to `eos_token_id`:128001 for open-end generation.\n",
            "Setting `pad_token_id` to `eos_token_id`:128001 for open-end generation.\n",
            "Setting `pad_token_id` to `eos_token_id`:128001 for open-end generation.\n",
            "Setting `pad_token_id` to `eos_token_id`:128001 for open-end generation.\n",
            "Setting `pad_token_id` to `eos_token_id`:128001 for open-end generation.\n",
            "Setting `pad_token_id` to `eos_token_id`:128001 for open-end generation.\n",
            "Setting `pad_token_id` to `eos_token_id`:128001 for open-end generation.\n",
            "Setting `pad_token_id` to `eos_token_id`:128001 for open-end generation.\n",
            "Setting `pad_token_id` to `eos_token_id`:128001 for open-end generation.\n",
            "Setting `pad_token_id` to `eos_token_id`:128001 for open-end generation.\n",
            "Setting `pad_token_id` to `eos_token_id`:128001 for open-end generation.\n",
            "Setting `pad_token_id` to `eos_token_id`:128001 for open-end generation.\n",
            "Setting `pad_token_id` to `eos_token_id`:128001 for open-end generation.\n",
            "Setting `pad_token_id` to `eos_token_id`:128001 for open-end generation.\n",
            "Setting `pad_token_id` to `eos_token_id`:128001 for open-end generation.\n",
            "Setting `pad_token_id` to `eos_token_id`:128001 for open-end generation.\n",
            "Setting `pad_token_id` to `eos_token_id`:128001 for open-end generation.\n",
            "Setting `pad_token_id` to `eos_token_id`:128001 for open-end generation.\n",
            "Setting `pad_token_id` to `eos_token_id`:128001 for open-end generation.\n",
            "Setting `pad_token_id` to `eos_token_id`:128001 for open-end generation.\n",
            "Setting `pad_token_id` to `eos_token_id`:128001 for open-end generation.\n",
            "Setting `pad_token_id` to `eos_token_id`:128001 for open-end generation.\n",
            "Setting `pad_token_id` to `eos_token_id`:128001 for open-end generation.\n",
            "Setting `pad_token_id` to `eos_token_id`:128001 for open-end generation.\n",
            "Setting `pad_token_id` to `eos_token_id`:128001 for open-end generation.\n",
            "Setting `pad_token_id` to `eos_token_id`:128001 for open-end generation.\n",
            "Setting `pad_token_id` to `eos_token_id`:128001 for open-end generation.\n",
            "Setting `pad_token_id` to `eos_token_id`:128001 for open-end generation.\n",
            "Setting `pad_token_id` to `eos_token_id`:128001 for open-end generation.\n",
            "Setting `pad_token_id` to `eos_token_id`:128001 for open-end generation.\n",
            "Setting `pad_token_id` to `eos_token_id`:128001 for open-end generation.\n",
            "Setting `pad_token_id` to `eos_token_id`:128001 for open-end generation.\n",
            "Setting `pad_token_id` to `eos_token_id`:128001 for open-end generation.\n",
            "Setting `pad_token_id` to `eos_token_id`:128001 for open-end generation.\n",
            "Setting `pad_token_id` to `eos_token_id`:128001 for open-end generation.\n",
            "Setting `pad_token_id` to `eos_token_id`:128001 for open-end generation.\n",
            "Setting `pad_token_id` to `eos_token_id`:128001 for open-end generation.\n",
            "Setting `pad_token_id` to `eos_token_id`:128001 for open-end generation.\n",
            "Setting `pad_token_id` to `eos_token_id`:128001 for open-end generation.\n",
            "Setting `pad_token_id` to `eos_token_id`:128001 for open-end generation.\n",
            "Setting `pad_token_id` to `eos_token_id`:128001 for open-end generation.\n",
            "Setting `pad_token_id` to `eos_token_id`:128001 for open-end generation.\n",
            "Setting `pad_token_id` to `eos_token_id`:128001 for open-end generation.\n",
            "Setting `pad_token_id` to `eos_token_id`:128001 for open-end generation.\n",
            "Setting `pad_token_id` to `eos_token_id`:128001 for open-end generation.\n",
            "Setting `pad_token_id` to `eos_token_id`:128001 for open-end generation.\n",
            "Setting `pad_token_id` to `eos_token_id`:128001 for open-end generation.\n",
            "Setting `pad_token_id` to `eos_token_id`:128001 for open-end generation.\n",
            "Setting `pad_token_id` to `eos_token_id`:128001 for open-end generation.\n",
            "Setting `pad_token_id` to `eos_token_id`:128001 for open-end generation.\n",
            "Setting `pad_token_id` to `eos_token_id`:128001 for open-end generation.\n",
            "Setting `pad_token_id` to `eos_token_id`:128001 for open-end generation.\n",
            "Setting `pad_token_id` to `eos_token_id`:128001 for open-end generation.\n",
            "Setting `pad_token_id` to `eos_token_id`:128001 for open-end generation.\n",
            "Setting `pad_token_id` to `eos_token_id`:128001 for open-end generation.\n",
            "Setting `pad_token_id` to `eos_token_id`:128001 for open-end generation.\n",
            "Setting `pad_token_id` to `eos_token_id`:128001 for open-end generation.\n",
            "Setting `pad_token_id` to `eos_token_id`:128001 for open-end generation.\n",
            "Setting `pad_token_id` to `eos_token_id`:128001 for open-end generation.\n",
            "Setting `pad_token_id` to `eos_token_id`:128001 for open-end generation.\n",
            "Setting `pad_token_id` to `eos_token_id`:128001 for open-end generation.\n",
            "Setting `pad_token_id` to `eos_token_id`:128001 for open-end generation.\n",
            "Setting `pad_token_id` to `eos_token_id`:128001 for open-end generation.\n",
            "Setting `pad_token_id` to `eos_token_id`:128001 for open-end generation.\n",
            "Setting `pad_token_id` to `eos_token_id`:128001 for open-end generation.\n",
            "Setting `pad_token_id` to `eos_token_id`:128001 for open-end generation.\n",
            "Setting `pad_token_id` to `eos_token_id`:128001 for open-end generation.\n",
            "Setting `pad_token_id` to `eos_token_id`:128001 for open-end generation.\n",
            "Setting `pad_token_id` to `eos_token_id`:128001 for open-end generation.\n",
            "Setting `pad_token_id` to `eos_token_id`:128001 for open-end generation.\n",
            "Setting `pad_token_id` to `eos_token_id`:128001 for open-end generation.\n",
            "Setting `pad_token_id` to `eos_token_id`:128001 for open-end generation.\n",
            "Setting `pad_token_id` to `eos_token_id`:128001 for open-end generation.\n",
            "Setting `pad_token_id` to `eos_token_id`:128001 for open-end generation.\n",
            "Setting `pad_token_id` to `eos_token_id`:128001 for open-end generation.\n",
            "Setting `pad_token_id` to `eos_token_id`:128001 for open-end generation.\n",
            "Setting `pad_token_id` to `eos_token_id`:128001 for open-end generation.\n",
            "Setting `pad_token_id` to `eos_token_id`:128001 for open-end generation.\n",
            "Setting `pad_token_id` to `eos_token_id`:128001 for open-end generation.\n",
            "Setting `pad_token_id` to `eos_token_id`:128001 for open-end generation.\n",
            "Setting `pad_token_id` to `eos_token_id`:128001 for open-end generation.\n",
            "Setting `pad_token_id` to `eos_token_id`:128001 for open-end generation.\n",
            "Setting `pad_token_id` to `eos_token_id`:128001 for open-end generation.\n",
            "Setting `pad_token_id` to `eos_token_id`:128001 for open-end generation.\n",
            "Setting `pad_token_id` to `eos_token_id`:128001 for open-end generation.\n",
            "Setting `pad_token_id` to `eos_token_id`:128001 for open-end generation.\n",
            "Setting `pad_token_id` to `eos_token_id`:128001 for open-end generation.\n",
            "Setting `pad_token_id` to `eos_token_id`:128001 for open-end generation.\n",
            "Setting `pad_token_id` to `eos_token_id`:128001 for open-end generation.\n",
            "Setting `pad_token_id` to `eos_token_id`:128001 for open-end generation.\n",
            "Setting `pad_token_id` to `eos_token_id`:128001 for open-end generation.\n",
            "Setting `pad_token_id` to `eos_token_id`:128001 for open-end generation.\n",
            "Setting `pad_token_id` to `eos_token_id`:128001 for open-end generation.\n",
            "Setting `pad_token_id` to `eos_token_id`:128001 for open-end generation.\n",
            "Setting `pad_token_id` to `eos_token_id`:128001 for open-end generation.\n",
            "Setting `pad_token_id` to `eos_token_id`:128001 for open-end generation.\n",
            "Setting `pad_token_id` to `eos_token_id`:128001 for open-end generation.\n",
            "Setting `pad_token_id` to `eos_token_id`:128001 for open-end generation.\n",
            "Setting `pad_token_id` to `eos_token_id`:128001 for open-end generation.\n",
            "Setting `pad_token_id` to `eos_token_id`:128001 for open-end generation.\n",
            "Setting `pad_token_id` to `eos_token_id`:128001 for open-end generation.\n",
            "Setting `pad_token_id` to `eos_token_id`:128001 for open-end generation.\n",
            "Setting `pad_token_id` to `eos_token_id`:128001 for open-end generation.\n",
            "Setting `pad_token_id` to `eos_token_id`:128001 for open-end generation.\n",
            "Setting `pad_token_id` to `eos_token_id`:128001 for open-end generation.\n",
            "Setting `pad_token_id` to `eos_token_id`:128001 for open-end generation.\n",
            "Setting `pad_token_id` to `eos_token_id`:128001 for open-end generation.\n",
            "Setting `pad_token_id` to `eos_token_id`:128001 for open-end generation.\n",
            "Setting `pad_token_id` to `eos_token_id`:128001 for open-end generation.\n",
            "Setting `pad_token_id` to `eos_token_id`:128001 for open-end generation.\n",
            "Setting `pad_token_id` to `eos_token_id`:128001 for open-end generation.\n",
            "Setting `pad_token_id` to `eos_token_id`:128001 for open-end generation.\n",
            "Setting `pad_token_id` to `eos_token_id`:128001 for open-end generation.\n",
            "Setting `pad_token_id` to `eos_token_id`:128001 for open-end generation.\n",
            "Setting `pad_token_id` to `eos_token_id`:128001 for open-end generation.\n",
            "Setting `pad_token_id` to `eos_token_id`:128001 for open-end generation.\n",
            "Setting `pad_token_id` to `eos_token_id`:128001 for open-end generation.\n",
            "Setting `pad_token_id` to `eos_token_id`:128001 for open-end generation.\n",
            "Setting `pad_token_id` to `eos_token_id`:128001 for open-end generation.\n",
            "Setting `pad_token_id` to `eos_token_id`:128001 for open-end generation.\n",
            "Setting `pad_token_id` to `eos_token_id`:128001 for open-end generation.\n",
            "Setting `pad_token_id` to `eos_token_id`:128001 for open-end generation.\n",
            "Setting `pad_token_id` to `eos_token_id`:128001 for open-end generation.\n",
            "Setting `pad_token_id` to `eos_token_id`:128001 for open-end generation.\n",
            "Setting `pad_token_id` to `eos_token_id`:128001 for open-end generation.\n",
            "Setting `pad_token_id` to `eos_token_id`:128001 for open-end generation.\n",
            "Setting `pad_token_id` to `eos_token_id`:128001 for open-end generation.\n",
            "Setting `pad_token_id` to `eos_token_id`:128001 for open-end generation.\n",
            "Setting `pad_token_id` to `eos_token_id`:128001 for open-end generation.\n",
            "Setting `pad_token_id` to `eos_token_id`:128001 for open-end generation.\n",
            "Setting `pad_token_id` to `eos_token_id`:128001 for open-end generation.\n",
            "Setting `pad_token_id` to `eos_token_id`:128001 for open-end generation.\n",
            "Setting `pad_token_id` to `eos_token_id`:128001 for open-end generation.\n",
            "Setting `pad_token_id` to `eos_token_id`:128001 for open-end generation.\n",
            "Setting `pad_token_id` to `eos_token_id`:128001 for open-end generation.\n",
            "Setting `pad_token_id` to `eos_token_id`:128001 for open-end generation.\n",
            "Setting `pad_token_id` to `eos_token_id`:128001 for open-end generation.\n",
            "Setting `pad_token_id` to `eos_token_id`:128001 for open-end generation.\n",
            "Setting `pad_token_id` to `eos_token_id`:128001 for open-end generation.\n",
            "Setting `pad_token_id` to `eos_token_id`:128001 for open-end generation.\n",
            "Setting `pad_token_id` to `eos_token_id`:128001 for open-end generation.\n",
            "Setting `pad_token_id` to `eos_token_id`:128001 for open-end generation.\n",
            "Setting `pad_token_id` to `eos_token_id`:128001 for open-end generation.\n",
            "Setting `pad_token_id` to `eos_token_id`:128001 for open-end generation.\n",
            "Setting `pad_token_id` to `eos_token_id`:128001 for open-end generation.\n",
            "Setting `pad_token_id` to `eos_token_id`:128001 for open-end generation.\n",
            "Setting `pad_token_id` to `eos_token_id`:128001 for open-end generation.\n",
            "Setting `pad_token_id` to `eos_token_id`:128001 for open-end generation.\n",
            "Setting `pad_token_id` to `eos_token_id`:128001 for open-end generation.\n",
            "Setting `pad_token_id` to `eos_token_id`:128001 for open-end generation.\n",
            "Setting `pad_token_id` to `eos_token_id`:128001 for open-end generation.\n",
            "Setting `pad_token_id` to `eos_token_id`:128001 for open-end generation.\n",
            "Setting `pad_token_id` to `eos_token_id`:128001 for open-end generation.\n",
            "Setting `pad_token_id` to `eos_token_id`:128001 for open-end generation.\n",
            "Setting `pad_token_id` to `eos_token_id`:128001 for open-end generation.\n",
            "Setting `pad_token_id` to `eos_token_id`:128001 for open-end generation.\n",
            "Setting `pad_token_id` to `eos_token_id`:128001 for open-end generation.\n",
            "Setting `pad_token_id` to `eos_token_id`:128001 for open-end generation.\n",
            "Setting `pad_token_id` to `eos_token_id`:128001 for open-end generation.\n",
            "Setting `pad_token_id` to `eos_token_id`:128001 for open-end generation.\n",
            "Setting `pad_token_id` to `eos_token_id`:128001 for open-end generation.\n",
            "Setting `pad_token_id` to `eos_token_id`:128001 for open-end generation.\n",
            "Setting `pad_token_id` to `eos_token_id`:128001 for open-end generation.\n",
            "Setting `pad_token_id` to `eos_token_id`:128001 for open-end generation.\n",
            "Setting `pad_token_id` to `eos_token_id`:128001 for open-end generation.\n",
            "Setting `pad_token_id` to `eos_token_id`:128001 for open-end generation.\n",
            "Setting `pad_token_id` to `eos_token_id`:128001 for open-end generation.\n",
            "Setting `pad_token_id` to `eos_token_id`:128001 for open-end generation.\n",
            "Setting `pad_token_id` to `eos_token_id`:128001 for open-end generation.\n",
            "Setting `pad_token_id` to `eos_token_id`:128001 for open-end generation.\n",
            "Setting `pad_token_id` to `eos_token_id`:128001 for open-end generation.\n",
            "Setting `pad_token_id` to `eos_token_id`:128001 for open-end generation.\n",
            "Setting `pad_token_id` to `eos_token_id`:128001 for open-end generation.\n",
            "Setting `pad_token_id` to `eos_token_id`:128001 for open-end generation.\n",
            "Setting `pad_token_id` to `eos_token_id`:128001 for open-end generation.\n",
            "Setting `pad_token_id` to `eos_token_id`:128001 for open-end generation.\n",
            "Setting `pad_token_id` to `eos_token_id`:128001 for open-end generation.\n",
            "Setting `pad_token_id` to `eos_token_id`:128001 for open-end generation.\n",
            "Setting `pad_token_id` to `eos_token_id`:128001 for open-end generation.\n",
            "Setting `pad_token_id` to `eos_token_id`:128001 for open-end generation.\n",
            "Setting `pad_token_id` to `eos_token_id`:128001 for open-end generation.\n",
            "Setting `pad_token_id` to `eos_token_id`:128001 for open-end generation.\n",
            "Setting `pad_token_id` to `eos_token_id`:128001 for open-end generation.\n",
            "Setting `pad_token_id` to `eos_token_id`:128001 for open-end generation.\n",
            "Setting `pad_token_id` to `eos_token_id`:128001 for open-end generation.\n",
            "Setting `pad_token_id` to `eos_token_id`:128001 for open-end generation.\n",
            "Setting `pad_token_id` to `eos_token_id`:128001 for open-end generation.\n",
            "Setting `pad_token_id` to `eos_token_id`:128001 for open-end generation.\n",
            "Setting `pad_token_id` to `eos_token_id`:128001 for open-end generation.\n",
            "Setting `pad_token_id` to `eos_token_id`:128001 for open-end generation.\n",
            "Setting `pad_token_id` to `eos_token_id`:128001 for open-end generation.\n",
            "Setting `pad_token_id` to `eos_token_id`:128001 for open-end generation.\n",
            "Setting `pad_token_id` to `eos_token_id`:128001 for open-end generation.\n",
            "Setting `pad_token_id` to `eos_token_id`:128001 for open-end generation.\n",
            "Setting `pad_token_id` to `eos_token_id`:128001 for open-end generation.\n",
            "Setting `pad_token_id` to `eos_token_id`:128001 for open-end generation.\n",
            "Setting `pad_token_id` to `eos_token_id`:128001 for open-end generation.\n",
            "Setting `pad_token_id` to `eos_token_id`:128001 for open-end generation.\n",
            "Setting `pad_token_id` to `eos_token_id`:128001 for open-end generation.\n",
            "Setting `pad_token_id` to `eos_token_id`:128001 for open-end generation.\n",
            "Setting `pad_token_id` to `eos_token_id`:128001 for open-end generation.\n",
            "Setting `pad_token_id` to `eos_token_id`:128001 for open-end generation.\n",
            "Setting `pad_token_id` to `eos_token_id`:128001 for open-end generation.\n",
            "Setting `pad_token_id` to `eos_token_id`:128001 for open-end generation.\n",
            "Setting `pad_token_id` to `eos_token_id`:128001 for open-end generation.\n",
            "Setting `pad_token_id` to `eos_token_id`:128001 for open-end generation.\n",
            "Setting `pad_token_id` to `eos_token_id`:128001 for open-end generation.\n",
            "Setting `pad_token_id` to `eos_token_id`:128001 for open-end generation.\n",
            "Setting `pad_token_id` to `eos_token_id`:128001 for open-end generation.\n",
            "Setting `pad_token_id` to `eos_token_id`:128001 for open-end generation.\n",
            "Setting `pad_token_id` to `eos_token_id`:128001 for open-end generation.\n",
            "Setting `pad_token_id` to `eos_token_id`:128001 for open-end generation.\n",
            "Setting `pad_token_id` to `eos_token_id`:128001 for open-end generation.\n"
          ]
        }
      ],
      "source": [
        "\n",
        "\n",
        "def predict_tactic(input_text):\n",
        "    inputs = tokenizer(\n",
        "    [\n",
        "        base_prompt.format(\n",
        "            input_text, # input\n",
        "            \"\", # output\n",
        "        )\n",
        "    ], return_tensors = \"pt\").to(\"cuda\")\n",
        "\n",
        "    outputs = model.generate(**inputs, max_new_tokens=64, use_cache=True)\n",
        "    text_output = tokenizer.batch_decode(outputs, skip_special_tokens=True)\n",
        "    return text_output[0]\n",
        "\n",
        "# genrating predictions to calculate accuracy on test dataset\n",
        "true_labels = test_df[\"tactic\"].tolist()\n",
        "predicted_labels = []\n",
        "\n",
        "#answer = predict_tactic(test_clause)\n",
        "#print(f\"[+] Answer: {extract_response_text(answer)}\")\n",
        "\n",
        "\n",
        "\n",
        "for _, row in tqdm(test_df.iterrows(), total=test_df.shape[0], desc=\"Processing dataset\"):\n",
        "    input_text = row[\"clause\"]\n",
        "    model_response = predict_tactic(input_text)\n",
        "    predicted_tactic = extract_response_text(model_response)\n",
        "\n",
        "    predicted_labels.append(predicted_tactic)"
      ]
    },
    {
      "cell_type": "markdown",
      "metadata": {
        "id": "p-SUo5eh5PSI"
      },
      "source": [
        "Little boilerplate to compute predictions"
      ]
    },
    {
      "cell_type": "code",
      "execution_count": 51,
      "metadata": {
        "id": "X8SId8do5J2S"
      },
      "outputs": [],
      "source": [
        "mitre_tactics = [\n",
        "    \"Initial Access\", \"Execution\", \"Persistence\", \"Privilege Escalation\",\n",
        "    \"Defense Evasion\", \"Credential Access\", \"Discovery\", \"Lateral Movement\",\n",
        "    \"Collection\", \"Exfiltration\", \"Command and Control\", \"Impact\", \"Other\"\n",
        "]\n",
        "\n",
        "tactics_pattern = re.compile(r'|'.join([re.escape(tactic) for tactic in mitre_tactics]), re.IGNORECASE)\n",
        "def extract_first_tactic(text):\n",
        "    match = tactics_pattern.search(text)\n",
        "    if match:\n",
        "        return match.group(0)\n",
        "    return None"
      ]
    },
    {
      "cell_type": "code",
      "execution_count": 52,
      "metadata": {
        "colab": {
          "base_uri": "https://localhost:8080/"
        },
        "id": "lqSnxbCcr1-y",
        "outputId": "e72ee911-96ed-463d-b13d-14ad84154eb9"
      },
      "outputs": [
        {
          "name": "stdout",
          "output_type": "stream",
          "text": [
            "[+] Accuracy: 59.19%\n"
          ]
        }
      ],
      "source": [
        "# and finally calculate accuracy\n",
        "test_df_with_preds = test_df.copy()\n",
        "test_df_with_preds['predicted_labels'] = predicted_labels\n",
        "test_df_with_preds[\"predicted_labels\"] = test_df_with_preds[\"predicted_labels\"].apply(extract_first_tactic)\n",
        "\n",
        "correct_predictions = sum(test_df_with_preds[\"tactic\"] == test_df_with_preds[\"predicted_labels\"])\n",
        "accuracy = correct_predictions / len(test_df_with_preds)\n",
        "print(f\"[+] Accuracy: {accuracy * 100:.2f}%\")"
      ]
    },
    {
      "cell_type": "code",
      "execution_count": 53,
      "metadata": {
        "colab": {
          "base_uri": "https://localhost:8080/",
          "height": 424
        },
        "id": "Hj6Fifa85UbC",
        "outputId": "68c300b6-32aa-4e26-8e92-ff2b2a78140a"
      },
      "outputs": [
        {
          "data": {
            "text/html": [
              "<div>\n",
              "<style scoped>\n",
              "    .dataframe tbody tr th:only-of-type {\n",
              "        vertical-align: middle;\n",
              "    }\n",
              "\n",
              "    .dataframe tbody tr th {\n",
              "        vertical-align: top;\n",
              "    }\n",
              "\n",
              "    .dataframe thead th {\n",
              "        text-align: right;\n",
              "    }\n",
              "</style>\n",
              "<table border=\"1\" class=\"dataframe\">\n",
              "  <thead>\n",
              "    <tr style=\"text-align: right;\">\n",
              "      <th></th>\n",
              "      <th>clause</th>\n",
              "      <th>tactic</th>\n",
              "      <th>predicted_labels</th>\n",
              "    </tr>\n",
              "  </thead>\n",
              "  <tbody>\n",
              "    <tr>\n",
              "      <th>2435</th>\n",
              "      <td>27 accountability government pla remain unclea...</td>\n",
              "      <td>Persistence</td>\n",
              "      <td>Other</td>\n",
              "    </tr>\n",
              "    <tr>\n",
              "      <th>2288</th>\n",
              "      <td>(1) attacker sends spear -phishing email conta...</td>\n",
              "      <td>Initial Access</td>\n",
              "      <td>Initial Access</td>\n",
              "    </tr>\n",
              "    <tr>\n",
              "      <th>3414</th>\n",
              "      <td>immediate direct impacts deepwater horizon oil...</td>\n",
              "      <td>Impact</td>\n",
              "      <td>Impact</td>\n",
              "    </tr>\n",
              "    <tr>\n",
              "      <th>2406</th>\n",
              "      <td>however, despite attracted little public atten...</td>\n",
              "      <td>Collection</td>\n",
              "      <td>Collection</td>\n",
              "    </tr>\n",
              "    <tr>\n",
              "      <th>3956</th>\n",
              "      <td>program maintains two sockets, sending heartbe...</td>\n",
              "      <td>Execution</td>\n",
              "      <td>Execution</td>\n",
              "    </tr>\n",
              "    <tr>\n",
              "      <th>...</th>\n",
              "      <td>...</td>\n",
              "      <td>...</td>\n",
              "      <td>...</td>\n",
              "    </tr>\n",
              "    <tr>\n",
              "      <th>221</th>\n",
              "      <td>14 badnews backdoor .............................</td>\n",
              "      <td>Other</td>\n",
              "      <td>Other</td>\n",
              "    </tr>\n",
              "    <tr>\n",
              "      <th>4373</th>\n",
              "      <td>screenshots victims pc showing infection proce...</td>\n",
              "      <td>Initial Access</td>\n",
              "      <td>Initial Access</td>\n",
              "    </tr>\n",
              "    <tr>\n",
              "      <th>2264</th>\n",
              "      <td>february 16, 2018 letter sandvine laid company...</td>\n",
              "      <td>Other</td>\n",
              "      <td>Other</td>\n",
              "    </tr>\n",
              "    <tr>\n",
              "      <th>399</th>\n",
              "      <td>public f-secure.com | f -secure labs 3 content...</td>\n",
              "      <td>Exfiltration</td>\n",
              "      <td>Exfiltration</td>\n",
              "    </tr>\n",
              "    <tr>\n",
              "      <th>2488</th>\n",
              "      <td>tdos attacks similar dos attacks webservers da...</td>\n",
              "      <td>Impact</td>\n",
              "      <td>Impact</td>\n",
              "    </tr>\n",
              "  </tbody>\n",
              "</table>\n",
              "<p>223 rows × 3 columns</p>\n",
              "</div>"
            ],
            "text/plain": [
              "                                                 clause          tactic  \\\n",
              "2435  27 accountability government pla remain unclea...     Persistence   \n",
              "2288  (1) attacker sends spear -phishing email conta...  Initial Access   \n",
              "3414  immediate direct impacts deepwater horizon oil...          Impact   \n",
              "2406  however, despite attracted little public atten...      Collection   \n",
              "3956  program maintains two sockets, sending heartbe...       Execution   \n",
              "...                                                 ...             ...   \n",
              "221   14 badnews backdoor .............................           Other   \n",
              "4373  screenshots victims pc showing infection proce...  Initial Access   \n",
              "2264  february 16, 2018 letter sandvine laid company...           Other   \n",
              "399   public f-secure.com | f -secure labs 3 content...    Exfiltration   \n",
              "2488  tdos attacks similar dos attacks webservers da...          Impact   \n",
              "\n",
              "     predicted_labels  \n",
              "2435            Other  \n",
              "2288   Initial Access  \n",
              "3414           Impact  \n",
              "2406       Collection  \n",
              "3956        Execution  \n",
              "...               ...  \n",
              "221             Other  \n",
              "4373   Initial Access  \n",
              "2264            Other  \n",
              "399      Exfiltration  \n",
              "2488           Impact  \n",
              "\n",
              "[223 rows x 3 columns]"
            ]
          },
          "execution_count": 53,
          "metadata": {},
          "output_type": "execute_result"
        }
      ],
      "source": [
        "test_df_with_preds"
      ]
    },
    {
      "cell_type": "code",
      "execution_count": 54,
      "metadata": {
        "colab": {
          "base_uri": "https://localhost:8080/",
          "height": 595
        },
        "id": "6kp3Rq_bufbe",
        "outputId": "1d9c76e7-13d5-49bc-ed67-ce75c4794555"
      },
      "outputs": [
        {
          "data": {
            "image/png": "[encoded data removed]",
            "text/plain": [
              "<Figure size 1800x600 with 3 Axes>"
            ]
          },
          "metadata": {},
          "output_type": "display_data"
        }
      ],
      "source": [
        "train_tactic_counts = train_df['tactic'].value_counts()\n",
        "test_tactic_counts = test_df['tactic'].value_counts()\n",
        "pred_tactic_counts = test_df_with_preds['predicted_labels'].value_counts()\n",
        "\n",
        "plt.figure(figsize=(18, 6))\n",
        "\n",
        "plt.subplot(1, 3, 1)\n",
        "train_tactic_counts.plot(kind='bar', color='blue')\n",
        "plt.title('Frequency of Tactics in train_df')\n",
        "plt.xlabel('Tactic')\n",
        "plt.ylabel('Frequency')\n",
        "\n",
        "plt.subplot(1, 3, 2)\n",
        "test_tactic_counts.plot(kind='bar', color='green')\n",
        "plt.title('Frequency of Tactics in test_df')\n",
        "plt.xlabel('Tactic')\n",
        "plt.ylabel('Frequency')\n",
        "\n",
        "plt.subplot(1, 3, 3)\n",
        "pred_tactic_counts.plot(kind='bar', color='red')\n",
        "plt.title('Frequency of Tactics in predictions')\n",
        "plt.xlabel('Tactic')\n",
        "plt.ylabel('Frequency')\n",
        "\n",
        "plt.tight_layout()\n",
        "plt.show()"
      ]
    },
    {
      "cell_type": "markdown",
      "metadata": {
        "id": "2seFykQe6nDM"
      },
      "source": [
        "The model fits to the distribution correctly. Let's analyze the wrong predictions:"
      ]
    },
    {
      "cell_type": "code",
      "execution_count": 55,
      "metadata": {
        "colab": {
          "base_uri": "https://localhost:8080/",
          "height": 803
        },
        "id": "NL6tw_Ho6qkX",
        "outputId": "715e0b41-e130-4d60-c1c9-71a871cf7502"
      },
      "outputs": [
        {
          "data": {
            "image/png": "[encoded data removed]",
            "text/plain": [
              "<Figure size 1200x800 with 1 Axes>"
            ]
          },
          "metadata": {},
          "output_type": "display_data"
        }
      ],
      "source": [
        "incorrect_predictions = test_df_with_preds[test_df_with_preds[\"tactic\"] != test_df_with_preds[\"predicted_labels\"]]\n",
        "error_counts = incorrect_predictions.groupby([\"tactic\", \"predicted_labels\"]).size().reset_index(name=\"count\")\n",
        "\n",
        "plt.figure(figsize=(12, 8))\n",
        "sns.barplot(data=error_counts, x=\"tactic\", y=\"count\", hue=\"predicted_labels\", edgecolor=\"black\")\n",
        "plt.title(\"Incorrect Predictions for Each Tactic\")\n",
        "plt.xlabel(\"True Tactic\")\n",
        "plt.ylabel(\"Count of Incorrect Predictions\")\n",
        "plt.legend(title=\"Predicted Labels\")\n",
        "plt.xticks(rotation=45)\n",
        "plt.show()\n"
      ]
    },
    {
      "cell_type": "markdown",
      "metadata": {
        "id": "RxSQFle17WaL"
      },
      "source": [
        "It is clear that `Collection` is often mistaken by `Discovery`. The most widely mistaken variable is `Execution`."
      ]
    },
    {
      "cell_type": "code",
      "execution_count": 56,
      "metadata": {
        "colab": {
          "base_uri": "https://localhost:8080/"
        },
        "id": "R235yMIiJgw-",
        "outputId": "bc808f5e-dc03-4b8a-802a-02ebe70a2765"
      },
      "outputs": [
        {
          "data": {
            "text/plain": [
              "'FastLanguageModel.for_inference(model) # Enable native 2x faster inference\\ninputs = tokenizer(\\n[\\n    base_prompt.format(\\n        #\\xa0INSTRUCTION, # instruction\\n        report, # input\\n        \"\", # output - leave this blank for generation!\\n    )\\n], return_tensors = \"pt\").to(\"cuda\")\\n\\noutputs = model.generate(**inputs, max_new_tokens = 64, use_cache = True)\\ntext_output = tokenizer.batch_decode(outputs)'"
            ]
          },
          "execution_count": 56,
          "metadata": {},
          "output_type": "execute_result"
        }
      ],
      "source": [
        "\"\"\"FastLanguageModel.for_inference(model) # Enable native 2x faster inference\n",
        "inputs = tokenizer(\n",
        "[\n",
        "    base_prompt.format(\n",
        "        # INSTRUCTION, # instruction\n",
        "        report, # input\n",
        "        \"\", # output - leave this blank for generation!\n",
        "    )\n",
        "], return_tensors = \"pt\").to(\"cuda\")\n",
        "\n",
        "outputs = model.generate(**inputs, max_new_tokens = 64, use_cache = True)\n",
        "text_output = tokenizer.batch_decode(outputs)\"\"\""
      ]
    },
    {
      "cell_type": "code",
      "execution_count": 57,
      "metadata": {
        "colab": {
          "base_uri": "https://localhost:8080/"
        },
        "id": "SBKsvvZBSwSu",
        "outputId": "1cbdde86-c226-4901-a910-17816c2c69ac"
      },
      "outputs": [
        {
          "data": {
            "text/plain": [
              "'\\nfrom unsloth import unsloth_save_model\\n# Import the unsloth_save_model function from the Unsloth library\\n\\n# unsloth_save_model has the same args as model.save_pretrained\\n# unsloth_save_model has the same arguments as model.save_pretrained\\nunsloth_save_model(model, tokenizer, \"output_model\", push_to_hub=False, token=None)\\n# Save the model and tokenizer as \"output_model\". Do not push to the Hugging Face Hub\\n\\ncolab_quantize_to_gguf(\"output_model\", quantization_method=\"q4_k_m\")\\n'"
            ]
          },
          "execution_count": 57,
          "metadata": {},
          "output_type": "execute_result"
        }
      ],
      "source": [
        "\"\"\"\n",
        "from unsloth import unsloth_save_model\n",
        "# Import the unsloth_save_model function from the Unsloth library\n",
        "\n",
        "# unsloth_save_model has the same args as model.save_pretrained\n",
        "# unsloth_save_model has the same arguments as model.save_pretrained\n",
        "unsloth_save_model(model, tokenizer, \"output_model\", push_to_hub=False, token=None)\n",
        "# Save the model and tokenizer as \"output_model\". Do not push to the Hugging Face Hub\n",
        "\n",
        "colab_quantize_to_gguf(\"output_model\", quantization_method=\"q4_k_m\")\n",
        "\"\"\""
      ]
    }
  ],
  "metadata": {
    "colab": {
      "provenance": []
    },
    "kernelspec": {
      "display_name": "Python 3",
      "name": "python3"
    },
    "language_info": {
      "name": "python"
    },
    "widgets": {
      "application/vnd.jupyter.widget-state+json": {
        "007feb40f26346c4a8ad6734b2937e32": {
          "model_module": "@jupyter-widgets/controls",
          "model_module_version": "2.0.0",
          "model_name": "HTMLStyleModel",
          "state": {
            "_model_module": "@jupyter-widgets/controls",
            "_model_module_version": "2.0.0",
            "_model_name": "HTMLStyleModel",
            "_view_count": null,
            "_view_module": "@jupyter-widgets/base",
            "_view_module_version": "2.0.0",
            "_view_name": "StyleView",
            "background": null,
            "description_width": "",
            "font_size": null,
            "text_color": null
          }
        },
        "0733506cc856449d8132c6d88cf81454": {
          "model_module": "@jupyter-widgets/base",
          "model_module_version": "2.0.0",
          "model_name": "LayoutModel",
          "state": {
            "_model_module": "@jupyter-widgets/base",
            "_model_module_version": "2.0.0",
            "_model_name": "LayoutModel",
            "_view_count": null,
            "_view_module": "@jupyter-widgets/base",
            "_view_module_version": "2.0.0",
            "_view_name": "LayoutView",
            "align_content": null,
            "align_items": null,
            "align_self": null,
            "border_bottom": null,
            "border_left": null,
            "border_right": null,
            "border_top": null,
            "bottom": null,
            "display": null,
            "flex": null,
            "flex_flow": null,
            "grid_area": null,
            "grid_auto_columns": null,
            "grid_auto_flow": null,
            "grid_auto_rows": null,
            "grid_column": null,
            "grid_gap": null,
            "grid_row": null,
            "grid_template_areas": null,
            "grid_template_columns": null,
            "grid_template_rows": null,
            "height": null,
            "justify_content": null,
            "justify_items": null,
            "left": null,
            "margin": null,
            "max_height": null,
            "max_width": null,
            "min_height": null,
            "min_width": null,
            "object_fit": null,
            "object_position": null,
            "order": null,
            "overflow": null,
            "padding": null,
            "right": null,
            "top": null,
            "visibility": null,
            "width": null
          }
        },
        "09bbd96f273548f1806fbd74f3587232": {
          "model_module": "@jupyter-widgets/controls",
          "model_module_version": "2.0.0",
          "model_name": "HTMLModel",
          "state": {
            "_dom_classes": [],
            "_model_module": "@jupyter-widgets/controls",
            "_model_module_version": "2.0.0",
            "_model_name": "HTMLModel",
            "_view_count": null,
            "_view_module": "@jupyter-widgets/controls",
            "_view_module_version": "2.0.0",
            "_view_name": "HTMLView",
            "description": "",
            "description_allow_html": false,
            "layout": "IPY_MODEL_40543cc605164b2c9ef30e215d72923d",
            "placeholder": "​",
            "style": "IPY_MODEL_b02ac824ae9a471fbd1f5c8be0335c2e",
            "tabbable": null,
            "tooltip": null,
            "value": " 1998/1998 [00:00&lt;00:00, 4054.81 examples/s]"
          }
        },
        "0f995971784e414a936fe8fd839be21f": {
          "model_module": "@jupyter-widgets/base",
          "model_module_version": "2.0.0",
          "model_name": "LayoutModel",
          "state": {
            "_model_module": "@jupyter-widgets/base",
            "_model_module_version": "2.0.0",
            "_model_name": "LayoutModel",
            "_view_count": null,
            "_view_module": "@jupyter-widgets/base",
            "_view_module_version": "2.0.0",
            "_view_name": "LayoutView",
            "align_content": null,
            "align_items": null,
            "align_self": null,
            "border_bottom": null,
            "border_left": null,
            "border_right": null,
            "border_top": null,
            "bottom": null,
            "display": null,
            "flex": null,
            "flex_flow": null,
            "grid_area": null,
            "grid_auto_columns": null,
            "grid_auto_flow": null,
            "grid_auto_rows": null,
            "grid_column": null,
            "grid_gap": null,
            "grid_row": null,
            "grid_template_areas": null,
            "grid_template_columns": null,
            "grid_template_rows": null,
            "height": null,
            "justify_content": null,
            "justify_items": null,
            "left": null,
            "margin": null,
            "max_height": null,
            "max_width": null,
            "min_height": null,
            "min_width": null,
            "object_fit": null,
            "object_position": null,
            "order": null,
            "overflow": null,
            "padding": null,
            "right": null,
            "top": null,
            "visibility": null,
            "width": null
          }
        },
        "13e068a9d7534f338ba04aee1a95e342": {
          "model_module": "@jupyter-widgets/controls",
          "model_module_version": "2.0.0",
          "model_name": "ProgressStyleModel",
          "state": {
            "_model_module": "@jupyter-widgets/controls",
            "_model_module_version": "2.0.0",
            "_model_name": "ProgressStyleModel",
            "_view_count": null,
            "_view_module": "@jupyter-widgets/base",
            "_view_module_version": "2.0.0",
            "_view_name": "StyleView",
            "bar_color": null,
            "description_width": ""
          }
        },
        "14418504bcc64b00ad2cc743047c3d32": {
          "model_module": "@jupyter-widgets/controls",
          "model_module_version": "2.0.0",
          "model_name": "ProgressStyleModel",
          "state": {
            "_model_module": "@jupyter-widgets/controls",
            "_model_module_version": "2.0.0",
            "_model_name": "ProgressStyleModel",
            "_view_count": null,
            "_view_module": "@jupyter-widgets/base",
            "_view_module_version": "2.0.0",
            "_view_name": "StyleView",
            "bar_color": null,
            "description_width": ""
          }
        },
        "14fd44b0675a4ec38f1c9a45abc76247": {
          "model_module": "@jupyter-widgets/controls",
          "model_module_version": "2.0.0",
          "model_name": "FloatProgressModel",
          "state": {
            "_dom_classes": [],
            "_model_module": "@jupyter-widgets/controls",
            "_model_module_version": "2.0.0",
            "_model_name": "FloatProgressModel",
            "_view_count": null,
            "_view_module": "@jupyter-widgets/controls",
            "_view_module_version": "2.0.0",
            "_view_name": "ProgressView",
            "bar_style": "success",
            "description": "",
            "description_allow_html": false,
            "layout": "IPY_MODEL_7da9264581b248058f7c51780dfffb41",
            "max": 4,
            "min": 0,
            "orientation": "horizontal",
            "style": "IPY_MODEL_97470d38dc15494680c38930171ad66b",
            "tabbable": null,
            "tooltip": null,
            "value": 4
          }
        },
        "17b30c3d52a648c9a4fb40b3f9bb32b5": {
          "model_module": "@jupyter-widgets/controls",
          "model_module_version": "2.0.0",
          "model_name": "HTMLStyleModel",
          "state": {
            "_model_module": "@jupyter-widgets/controls",
            "_model_module_version": "2.0.0",
            "_model_name": "HTMLStyleModel",
            "_view_count": null,
            "_view_module": "@jupyter-widgets/base",
            "_view_module_version": "2.0.0",
            "_view_name": "StyleView",
            "background": null,
            "description_width": "",
            "font_size": null,
            "text_color": null
          }
        },
        "1a45cf04faba4a7bba4ebe71489604de": {
          "model_module": "@jupyter-widgets/base",
          "model_module_version": "2.0.0",
          "model_name": "LayoutModel",
          "state": {
            "_model_module": "@jupyter-widgets/base",
            "_model_module_version": "2.0.0",
            "_model_name": "LayoutModel",
            "_view_count": null,
            "_view_module": "@jupyter-widgets/base",
            "_view_module_version": "2.0.0",
            "_view_name": "LayoutView",
            "align_content": null,
            "align_items": null,
            "align_self": null,
            "border_bottom": null,
            "border_left": null,
            "border_right": null,
            "border_top": null,
            "bottom": null,
            "display": null,
            "flex": null,
            "flex_flow": null,
            "grid_area": null,
            "grid_auto_columns": null,
            "grid_auto_flow": null,
            "grid_auto_rows": null,
            "grid_column": null,
            "grid_gap": null,
            "grid_row": null,
            "grid_template_areas": null,
            "grid_template_columns": null,
            "grid_template_rows": null,
            "height": null,
            "justify_content": null,
            "justify_items": null,
            "left": null,
            "margin": null,
            "max_height": null,
            "max_width": null,
            "min_height": null,
            "min_width": null,
            "object_fit": null,
            "object_position": null,
            "order": null,
            "overflow": null,
            "padding": null,
            "right": null,
            "top": null,
            "visibility": null,
            "width": null
          }
        },
        "2701cf16ec2945fca68273df6d90c479": {
          "model_module": "@jupyter-widgets/base",
          "model_module_version": "2.0.0",
          "model_name": "LayoutModel",
          "state": {
            "_model_module": "@jupyter-widgets/base",
            "_model_module_version": "2.0.0",
            "_model_name": "LayoutModel",
            "_view_count": null,
            "_view_module": "@jupyter-widgets/base",
            "_view_module_version": "2.0.0",
            "_view_name": "LayoutView",
            "align_content": null,
            "align_items": null,
            "align_self": null,
            "border_bottom": null,
            "border_left": null,
            "border_right": null,
            "border_top": null,
            "bottom": null,
            "display": null,
            "flex": null,
            "flex_flow": null,
            "grid_area": null,
            "grid_auto_columns": null,
            "grid_auto_flow": null,
            "grid_auto_rows": null,
            "grid_column": null,
            "grid_gap": null,
            "grid_row": null,
            "grid_template_areas": null,
            "grid_template_columns": null,
            "grid_template_rows": null,
            "height": null,
            "justify_content": null,
            "justify_items": null,
            "left": null,
            "margin": null,
            "max_height": null,
            "max_width": null,
            "min_height": null,
            "min_width": null,
            "object_fit": null,
            "object_position": null,
            "order": null,
            "overflow": null,
            "padding": null,
            "right": null,
            "top": null,
            "visibility": null,
            "width": null
          }
        },
        "27b4e51ff597416db438381c52f65fe4": {
          "model_module": "@jupyter-widgets/base",
          "model_module_version": "2.0.0",
          "model_name": "LayoutModel",
          "state": {
            "_model_module": "@jupyter-widgets/base",
            "_model_module_version": "2.0.0",
            "_model_name": "LayoutModel",
            "_view_count": null,
            "_view_module": "@jupyter-widgets/base",
            "_view_module_version": "2.0.0",
            "_view_name": "LayoutView",
            "align_content": null,
            "align_items": null,
            "align_self": null,
            "border_bottom": null,
            "border_left": null,
            "border_right": null,
            "border_top": null,
            "bottom": null,
            "display": null,
            "flex": null,
            "flex_flow": null,
            "grid_area": null,
            "grid_auto_columns": null,
            "grid_auto_flow": null,
            "grid_auto_rows": null,
            "grid_column": null,
            "grid_gap": null,
            "grid_row": null,
            "grid_template_areas": null,
            "grid_template_columns": null,
            "grid_template_rows": null,
            "height": null,
            "justify_content": null,
            "justify_items": null,
            "left": null,
            "margin": null,
            "max_height": null,
            "max_width": null,
            "min_height": null,
            "min_width": null,
            "object_fit": null,
            "object_position": null,
            "order": null,
            "overflow": null,
            "padding": null,
            "right": null,
            "top": null,
            "visibility": null,
            "width": null
          }
        },
        "2cc0508075b54eb78e927bad005a37ff": {
          "model_module": "@jupyter-widgets/controls",
          "model_module_version": "2.0.0",
          "model_name": "ProgressStyleModel",
          "state": {
            "_model_module": "@jupyter-widgets/controls",
            "_model_module_version": "2.0.0",
            "_model_name": "ProgressStyleModel",
            "_view_count": null,
            "_view_module": "@jupyter-widgets/base",
            "_view_module_version": "2.0.0",
            "_view_name": "StyleView",
            "bar_color": null,
            "description_width": ""
          }
        },
        "2fb1e46c0a28406484a304df33090f8c": {
          "model_module": "@jupyter-widgets/controls",
          "model_module_version": "2.0.0",
          "model_name": "FloatProgressModel",
          "state": {
            "_dom_classes": [],
            "_model_module": "@jupyter-widgets/controls",
            "_model_module_version": "2.0.0",
            "_model_name": "FloatProgressModel",
            "_view_count": null,
            "_view_module": "@jupyter-widgets/controls",
            "_view_module_version": "2.0.0",
            "_view_name": "ProgressView",
            "bar_style": "success",
            "description": "",
            "description_allow_html": false,
            "layout": "IPY_MODEL_817941b92dc741f8b726209141e8b8ca",
            "max": 223,
            "min": 0,
            "orientation": "horizontal",
            "style": "IPY_MODEL_2cc0508075b54eb78e927bad005a37ff",
            "tabbable": null,
            "tooltip": null,
            "value": 223
          }
        },
        "2fc462aa958d4c5992dfa482fff65459": {
          "model_module": "@jupyter-widgets/base",
          "model_module_version": "2.0.0",
          "model_name": "LayoutModel",
          "state": {
            "_model_module": "@jupyter-widgets/base",
            "_model_module_version": "2.0.0",
            "_model_name": "LayoutModel",
            "_view_count": null,
            "_view_module": "@jupyter-widgets/base",
            "_view_module_version": "2.0.0",
            "_view_name": "LayoutView",
            "align_content": null,
            "align_items": null,
            "align_self": null,
            "border_bottom": null,
            "border_left": null,
            "border_right": null,
            "border_top": null,
            "bottom": null,
            "display": null,
            "flex": null,
            "flex_flow": null,
            "grid_area": null,
            "grid_auto_columns": null,
            "grid_auto_flow": null,
            "grid_auto_rows": null,
            "grid_column": null,
            "grid_gap": null,
            "grid_row": null,
            "grid_template_areas": null,
            "grid_template_columns": null,
            "grid_template_rows": null,
            "height": null,
            "justify_content": null,
            "justify_items": null,
            "left": null,
            "margin": null,
            "max_height": null,
            "max_width": null,
            "min_height": null,
            "min_width": null,
            "object_fit": null,
            "object_position": null,
            "order": null,
            "overflow": null,
            "padding": null,
            "right": null,
            "top": null,
            "visibility": null,
            "width": null
          }
        },
        "30b346e418894c73904863b8b8ff7b11": {
          "model_module": "@jupyter-widgets/base",
          "model_module_version": "2.0.0",
          "model_name": "LayoutModel",
          "state": {
            "_model_module": "@jupyter-widgets/base",
            "_model_module_version": "2.0.0",
            "_model_name": "LayoutModel",
            "_view_count": null,
            "_view_module": "@jupyter-widgets/base",
            "_view_module_version": "2.0.0",
            "_view_name": "LayoutView",
            "align_content": null,
            "align_items": null,
            "align_self": null,
            "border_bottom": null,
            "border_left": null,
            "border_right": null,
            "border_top": null,
            "bottom": null,
            "display": null,
            "flex": null,
            "flex_flow": null,
            "grid_area": null,
            "grid_auto_columns": null,
            "grid_auto_flow": null,
            "grid_auto_rows": null,
            "grid_column": null,
            "grid_gap": null,
            "grid_row": null,
            "grid_template_areas": null,
            "grid_template_columns": null,
            "grid_template_rows": null,
            "height": null,
            "justify_content": null,
            "justify_items": null,
            "left": null,
            "margin": null,
            "max_height": null,
            "max_width": null,
            "min_height": null,
            "min_width": null,
            "object_fit": null,
            "object_position": null,
            "order": null,
            "overflow": null,
            "padding": null,
            "right": null,
            "top": null,
            "visibility": null,
            "width": null
          }
        },
        "322d6609731f40639fd469b1690849c6": {
          "model_module": "@jupyter-widgets/base",
          "model_module_version": "2.0.0",
          "model_name": "LayoutModel",
          "state": {
            "_model_module": "@jupyter-widgets/base",
            "_model_module_version": "2.0.0",
            "_model_name": "LayoutModel",
            "_view_count": null,
            "_view_module": "@jupyter-widgets/base",
            "_view_module_version": "2.0.0",
            "_view_name": "LayoutView",
            "align_content": null,
            "align_items": null,
            "align_self": null,
            "border_bottom": null,
            "border_left": null,
            "border_right": null,
            "border_top": null,
            "bottom": null,
            "display": null,
            "flex": null,
            "flex_flow": null,
            "grid_area": null,
            "grid_auto_columns": null,
            "grid_auto_flow": null,
            "grid_auto_rows": null,
            "grid_column": null,
            "grid_gap": null,
            "grid_row": null,
            "grid_template_areas": null,
            "grid_template_columns": null,
            "grid_template_rows": null,
            "height": null,
            "justify_content": null,
            "justify_items": null,
            "left": null,
            "margin": null,
            "max_height": null,
            "max_width": null,
            "min_height": null,
            "min_width": null,
            "object_fit": null,
            "object_position": null,
            "order": null,
            "overflow": null,
            "padding": null,
            "right": null,
            "top": null,
            "visibility": null,
            "width": null
          }
        },
        "3b44c08fb86a4d9598982206fee37df2": {
          "model_module": "@jupyter-widgets/base",
          "model_module_version": "2.0.0",
          "model_name": "LayoutModel",
          "state": {
            "_model_module": "@jupyter-widgets/base",
            "_model_module_version": "2.0.0",
            "_model_name": "LayoutModel",
            "_view_count": null,
            "_view_module": "@jupyter-widgets/base",
            "_view_module_version": "2.0.0",
            "_view_name": "LayoutView",
            "align_content": null,
            "align_items": null,
            "align_self": null,
            "border_bottom": null,
            "border_left": null,
            "border_right": null,
            "border_top": null,
            "bottom": null,
            "display": null,
            "flex": null,
            "flex_flow": null,
            "grid_area": null,
            "grid_auto_columns": null,
            "grid_auto_flow": null,
            "grid_auto_rows": null,
            "grid_column": null,
            "grid_gap": null,
            "grid_row": null,
            "grid_template_areas": null,
            "grid_template_columns": null,
            "grid_template_rows": null,
            "height": null,
            "justify_content": null,
            "justify_items": null,
            "left": null,
            "margin": null,
            "max_height": null,
            "max_width": null,
            "min_height": null,
            "min_width": null,
            "object_fit": null,
            "object_position": null,
            "order": null,
            "overflow": null,
            "padding": null,
            "right": null,
            "top": null,
            "visibility": null,
            "width": null
          }
        },
        "403a36dbba274dabbcb2eafe75d8c685": {
          "model_module": "@jupyter-widgets/controls",
          "model_module_version": "2.0.0",
          "model_name": "HTMLStyleModel",
          "state": {
            "_model_module": "@jupyter-widgets/controls",
            "_model_module_version": "2.0.0",
            "_model_name": "HTMLStyleModel",
            "_view_count": null,
            "_view_module": "@jupyter-widgets/base",
            "_view_module_version": "2.0.0",
            "_view_name": "StyleView",
            "background": null,
            "description_width": "",
            "font_size": null,
            "text_color": null
          }
        },
        "40543cc605164b2c9ef30e215d72923d": {
          "model_module": "@jupyter-widgets/base",
          "model_module_version": "2.0.0",
          "model_name": "LayoutModel",
          "state": {
            "_model_module": "@jupyter-widgets/base",
            "_model_module_version": "2.0.0",
            "_model_name": "LayoutModel",
            "_view_count": null,
            "_view_module": "@jupyter-widgets/base",
            "_view_module_version": "2.0.0",
            "_view_name": "LayoutView",
            "align_content": null,
            "align_items": null,
            "align_self": null,
            "border_bottom": null,
            "border_left": null,
            "border_right": null,
            "border_top": null,
            "bottom": null,
            "display": null,
            "flex": null,
            "flex_flow": null,
            "grid_area": null,
            "grid_auto_columns": null,
            "grid_auto_flow": null,
            "grid_auto_rows": null,
            "grid_column": null,
            "grid_gap": null,
            "grid_row": null,
            "grid_template_areas": null,
            "grid_template_columns": null,
            "grid_template_rows": null,
            "height": null,
            "justify_content": null,
            "justify_items": null,
            "left": null,
            "margin": null,
            "max_height": null,
            "max_width": null,
            "min_height": null,
            "min_width": null,
            "object_fit": null,
            "object_position": null,
            "order": null,
            "overflow": null,
            "padding": null,
            "right": null,
            "top": null,
            "visibility": null,
            "width": null
          }
        },
        "42442716862d4c9eb969e0bad1c53a1e": {
          "model_module": "@jupyter-widgets/controls",
          "model_module_version": "2.0.0",
          "model_name": "HTMLModel",
          "state": {
            "_dom_classes": [],
            "_model_module": "@jupyter-widgets/controls",
            "_model_module_version": "2.0.0",
            "_model_name": "HTMLModel",
            "_view_count": null,
            "_view_module": "@jupyter-widgets/controls",
            "_view_module_version": "2.0.0",
            "_view_name": "HTMLView",
            "description": "",
            "description_allow_html": false,
            "layout": "IPY_MODEL_1a45cf04faba4a7bba4ebe71489604de",
            "placeholder": "​",
            "style": "IPY_MODEL_17b30c3d52a648c9a4fb40b3f9bb32b5",
            "tabbable": null,
            "tooltip": null,
            "value": " 223/223 [00:00&lt;00:00, 9823.24 examples/s]"
          }
        },
        "4351c8afc327427797267973c93df103": {
          "model_module": "@jupyter-widgets/controls",
          "model_module_version": "2.0.0",
          "model_name": "HTMLModel",
          "state": {
            "_dom_classes": [],
            "_model_module": "@jupyter-widgets/controls",
            "_model_module_version": "2.0.0",
            "_model_name": "HTMLModel",
            "_view_count": null,
            "_view_module": "@jupyter-widgets/controls",
            "_view_module_version": "2.0.0",
            "_view_name": "HTMLView",
            "description": "",
            "description_allow_html": false,
            "layout": "IPY_MODEL_4df5411d56c24d9792585e5d5a4ae9c3",
            "placeholder": "​",
            "style": "IPY_MODEL_007feb40f26346c4a8ad6734b2937e32",
            "tabbable": null,
            "tooltip": null,
            "value": " 1998/1998 [00:00&lt;00:00, 31028.08 examples/s]"
          }
        },
        "449c22057f704f70b09bb6325fe7719d": {
          "model_module": "@jupyter-widgets/controls",
          "model_module_version": "2.0.0",
          "model_name": "HTMLStyleModel",
          "state": {
            "_model_module": "@jupyter-widgets/controls",
            "_model_module_version": "2.0.0",
            "_model_name": "HTMLStyleModel",
            "_view_count": null,
            "_view_module": "@jupyter-widgets/base",
            "_view_module_version": "2.0.0",
            "_view_name": "StyleView",
            "background": null,
            "description_width": "",
            "font_size": null,
            "text_color": null
          }
        },
        "451b02be5b434d638fb3ef2a1cabbe79": {
          "model_module": "@jupyter-widgets/controls",
          "model_module_version": "2.0.0",
          "model_name": "HTMLModel",
          "state": {
            "_dom_classes": [],
            "_model_module": "@jupyter-widgets/controls",
            "_model_module_version": "2.0.0",
            "_model_name": "HTMLModel",
            "_view_count": null,
            "_view_module": "@jupyter-widgets/controls",
            "_view_module_version": "2.0.0",
            "_view_name": "HTMLView",
            "description": "",
            "description_allow_html": false,
            "layout": "IPY_MODEL_aa5fb905dc37433c81e75210ae9a8ce3",
            "placeholder": "​",
            "style": "IPY_MODEL_8552cd0a6c464e599cdea52b9980080c",
            "tabbable": null,
            "tooltip": null,
            "value": " 223/223 [17:31&lt;00:00,  4.61s/it]"
          }
        },
        "4df5411d56c24d9792585e5d5a4ae9c3": {
          "model_module": "@jupyter-widgets/base",
          "model_module_version": "2.0.0",
          "model_name": "LayoutModel",
          "state": {
            "_model_module": "@jupyter-widgets/base",
            "_model_module_version": "2.0.0",
            "_model_name": "LayoutModel",
            "_view_count": null,
            "_view_module": "@jupyter-widgets/base",
            "_view_module_version": "2.0.0",
            "_view_name": "LayoutView",
            "align_content": null,
            "align_items": null,
            "align_self": null,
            "border_bottom": null,
            "border_left": null,
            "border_right": null,
            "border_top": null,
            "bottom": null,
            "display": null,
            "flex": null,
            "flex_flow": null,
            "grid_area": null,
            "grid_auto_columns": null,
            "grid_auto_flow": null,
            "grid_auto_rows": null,
            "grid_column": null,
            "grid_gap": null,
            "grid_row": null,
            "grid_template_areas": null,
            "grid_template_columns": null,
            "grid_template_rows": null,
            "height": null,
            "justify_content": null,
            "justify_items": null,
            "left": null,
            "margin": null,
            "max_height": null,
            "max_width": null,
            "min_height": null,
            "min_width": null,
            "object_fit": null,
            "object_position": null,
            "order": null,
            "overflow": null,
            "padding": null,
            "right": null,
            "top": null,
            "visibility": null,
            "width": null
          }
        },
        "5bf25720177e423eb69323f7e795296a": {
          "model_module": "@jupyter-widgets/base",
          "model_module_version": "2.0.0",
          "model_name": "LayoutModel",
          "state": {
            "_model_module": "@jupyter-widgets/base",
            "_model_module_version": "2.0.0",
            "_model_name": "LayoutModel",
            "_view_count": null,
            "_view_module": "@jupyter-widgets/base",
            "_view_module_version": "2.0.0",
            "_view_name": "LayoutView",
            "align_content": null,
            "align_items": null,
            "align_self": null,
            "border_bottom": null,
            "border_left": null,
            "border_right": null,
            "border_top": null,
            "bottom": null,
            "display": null,
            "flex": null,
            "flex_flow": null,
            "grid_area": null,
            "grid_auto_columns": null,
            "grid_auto_flow": null,
            "grid_auto_rows": null,
            "grid_column": null,
            "grid_gap": null,
            "grid_row": null,
            "grid_template_areas": null,
            "grid_template_columns": null,
            "grid_template_rows": null,
            "height": null,
            "justify_content": null,
            "justify_items": null,
            "left": null,
            "margin": null,
            "max_height": null,
            "max_width": null,
            "min_height": null,
            "min_width": null,
            "object_fit": null,
            "object_position": null,
            "order": null,
            "overflow": null,
            "padding": null,
            "right": null,
            "top": null,
            "visibility": null,
            "width": null
          }
        },
        "6008ae92f2d74d86af4bb97404d6883c": {
          "model_module": "@jupyter-widgets/controls",
          "model_module_version": "2.0.0",
          "model_name": "HTMLModel",
          "state": {
            "_dom_classes": [],
            "_model_module": "@jupyter-widgets/controls",
            "_model_module_version": "2.0.0",
            "_model_name": "HTMLModel",
            "_view_count": null,
            "_view_module": "@jupyter-widgets/controls",
            "_view_module_version": "2.0.0",
            "_view_name": "HTMLView",
            "description": "",
            "description_allow_html": false,
            "layout": "IPY_MODEL_3b44c08fb86a4d9598982206fee37df2",
            "placeholder": "​",
            "style": "IPY_MODEL_88e684983e634b4c8bd9e1c1aafebe82",
            "tabbable": null,
            "tooltip": null,
            "value": "Map: 100%"
          }
        },
        "62bb2b5246104cd6b6428e2e0e6be5b0": {
          "model_module": "@jupyter-widgets/base",
          "model_module_version": "2.0.0",
          "model_name": "LayoutModel",
          "state": {
            "_model_module": "@jupyter-widgets/base",
            "_model_module_version": "2.0.0",
            "_model_name": "LayoutModel",
            "_view_count": null,
            "_view_module": "@jupyter-widgets/base",
            "_view_module_version": "2.0.0",
            "_view_name": "LayoutView",
            "align_content": null,
            "align_items": null,
            "align_self": null,
            "border_bottom": null,
            "border_left": null,
            "border_right": null,
            "border_top": null,
            "bottom": null,
            "display": null,
            "flex": null,
            "flex_flow": null,
            "grid_area": null,
            "grid_auto_columns": null,
            "grid_auto_flow": null,
            "grid_auto_rows": null,
            "grid_column": null,
            "grid_gap": null,
            "grid_row": null,
            "grid_template_areas": null,
            "grid_template_columns": null,
            "grid_template_rows": null,
            "height": null,
            "justify_content": null,
            "justify_items": null,
            "left": null,
            "margin": null,
            "max_height": null,
            "max_width": null,
            "min_height": null,
            "min_width": null,
            "object_fit": null,
            "object_position": null,
            "order": null,
            "overflow": null,
            "padding": null,
            "right": null,
            "top": null,
            "visibility": null,
            "width": null
          }
        },
        "65d816e1f5524ad68b17add7726489f3": {
          "model_module": "@jupyter-widgets/controls",
          "model_module_version": "2.0.0",
          "model_name": "HTMLStyleModel",
          "state": {
            "_model_module": "@jupyter-widgets/controls",
            "_model_module_version": "2.0.0",
            "_model_name": "HTMLStyleModel",
            "_view_count": null,
            "_view_module": "@jupyter-widgets/base",
            "_view_module_version": "2.0.0",
            "_view_name": "StyleView",
            "background": null,
            "description_width": "",
            "font_size": null,
            "text_color": null
          }
        },
        "6759c83870ad4a2f9e24d385b4bf92bc": {
          "model_module": "@jupyter-widgets/controls",
          "model_module_version": "2.0.0",
          "model_name": "HTMLModel",
          "state": {
            "_dom_classes": [],
            "_model_module": "@jupyter-widgets/controls",
            "_model_module_version": "2.0.0",
            "_model_name": "HTMLModel",
            "_view_count": null,
            "_view_module": "@jupyter-widgets/controls",
            "_view_module_version": "2.0.0",
            "_view_name": "HTMLView",
            "description": "",
            "description_allow_html": false,
            "layout": "IPY_MODEL_2701cf16ec2945fca68273df6d90c479",
            "placeholder": "​",
            "style": "IPY_MODEL_65d816e1f5524ad68b17add7726489f3",
            "tabbable": null,
            "tooltip": null,
            "value": "Map: 100%"
          }
        },
        "69efb2e23bd944ce8f3c993a59f05610": {
          "model_module": "@jupyter-widgets/controls",
          "model_module_version": "2.0.0",
          "model_name": "ProgressStyleModel",
          "state": {
            "_model_module": "@jupyter-widgets/controls",
            "_model_module_version": "2.0.0",
            "_model_name": "ProgressStyleModel",
            "_view_count": null,
            "_view_module": "@jupyter-widgets/base",
            "_view_module_version": "2.0.0",
            "_view_name": "StyleView",
            "bar_color": null,
            "description_width": ""
          }
        },
        "6d640f973ba245088c28f9c538ff3fa0": {
          "model_module": "@jupyter-widgets/controls",
          "model_module_version": "2.0.0",
          "model_name": "HBoxModel",
          "state": {
            "_dom_classes": [],
            "_model_module": "@jupyter-widgets/controls",
            "_model_module_version": "2.0.0",
            "_model_name": "HBoxModel",
            "_view_count": null,
            "_view_module": "@jupyter-widgets/controls",
            "_view_module_version": "2.0.0",
            "_view_name": "HBoxView",
            "box_style": "",
            "children": [
              "IPY_MODEL_bcce052082204c1795574609135fc660",
              "IPY_MODEL_d4f9b48db9794185925c893e7b226a28",
              "IPY_MODEL_9872c8cc8f34419680e0dd6f9515801d"
            ],
            "layout": "IPY_MODEL_db27ee82336d48ce997f60e6b507a7e3",
            "tabbable": null,
            "tooltip": null
          }
        },
        "71936daa57ed41609611346b60c91b14": {
          "model_module": "@jupyter-widgets/controls",
          "model_module_version": "2.0.0",
          "model_name": "HBoxModel",
          "state": {
            "_dom_classes": [],
            "_model_module": "@jupyter-widgets/controls",
            "_model_module_version": "2.0.0",
            "_model_name": "HBoxModel",
            "_view_count": null,
            "_view_module": "@jupyter-widgets/controls",
            "_view_module_version": "2.0.0",
            "_view_name": "HBoxView",
            "box_style": "",
            "children": [
              "IPY_MODEL_b08b0e3630da4268a0860aaa1a307d67",
              "IPY_MODEL_14fd44b0675a4ec38f1c9a45abc76247",
              "IPY_MODEL_b0498521c4a74d46a8c661affe2d8550"
            ],
            "layout": "IPY_MODEL_2fc462aa958d4c5992dfa482fff65459",
            "tabbable": null,
            "tooltip": null
          }
        },
        "77f0c9f26e4d4cf798182327f99893ee": {
          "model_module": "@jupyter-widgets/controls",
          "model_module_version": "2.0.0",
          "model_name": "HTMLModel",
          "state": {
            "_dom_classes": [],
            "_model_module": "@jupyter-widgets/controls",
            "_model_module_version": "2.0.0",
            "_model_name": "HTMLModel",
            "_view_count": null,
            "_view_module": "@jupyter-widgets/controls",
            "_view_module_version": "2.0.0",
            "_view_name": "HTMLView",
            "description": "",
            "description_allow_html": false,
            "layout": "IPY_MODEL_c3b9d5a44cb149e0866c9f6cf2388779",
            "placeholder": "​",
            "style": "IPY_MODEL_7f5a171c5bdf438aac2d3b6903166cc7",
            "tabbable": null,
            "tooltip": null,
            "value": "Processing dataset: 100%"
          }
        },
        "7da9264581b248058f7c51780dfffb41": {
          "model_module": "@jupyter-widgets/base",
          "model_module_version": "2.0.0",
          "model_name": "LayoutModel",
          "state": {
            "_model_module": "@jupyter-widgets/base",
            "_model_module_version": "2.0.0",
            "_model_name": "LayoutModel",
            "_view_count": null,
            "_view_module": "@jupyter-widgets/base",
            "_view_module_version": "2.0.0",
            "_view_name": "LayoutView",
            "align_content": null,
            "align_items": null,
            "align_self": null,
            "border_bottom": null,
            "border_left": null,
            "border_right": null,
            "border_top": null,
            "bottom": null,
            "display": null,
            "flex": null,
            "flex_flow": null,
            "grid_area": null,
            "grid_auto_columns": null,
            "grid_auto_flow": null,
            "grid_auto_rows": null,
            "grid_column": null,
            "grid_gap": null,
            "grid_row": null,
            "grid_template_areas": null,
            "grid_template_columns": null,
            "grid_template_rows": null,
            "height": null,
            "justify_content": null,
            "justify_items": null,
            "left": null,
            "margin": null,
            "max_height": null,
            "max_width": null,
            "min_height": null,
            "min_width": null,
            "object_fit": null,
            "object_position": null,
            "order": null,
            "overflow": null,
            "padding": null,
            "right": null,
            "top": null,
            "visibility": null,
            "width": null
          }
        },
        "7f5a171c5bdf438aac2d3b6903166cc7": {
          "model_module": "@jupyter-widgets/controls",
          "model_module_version": "2.0.0",
          "model_name": "HTMLStyleModel",
          "state": {
            "_model_module": "@jupyter-widgets/controls",
            "_model_module_version": "2.0.0",
            "_model_name": "HTMLStyleModel",
            "_view_count": null,
            "_view_module": "@jupyter-widgets/base",
            "_view_module_version": "2.0.0",
            "_view_name": "StyleView",
            "background": null,
            "description_width": "",
            "font_size": null,
            "text_color": null
          }
        },
        "817941b92dc741f8b726209141e8b8ca": {
          "model_module": "@jupyter-widgets/base",
          "model_module_version": "2.0.0",
          "model_name": "LayoutModel",
          "state": {
            "_model_module": "@jupyter-widgets/base",
            "_model_module_version": "2.0.0",
            "_model_name": "LayoutModel",
            "_view_count": null,
            "_view_module": "@jupyter-widgets/base",
            "_view_module_version": "2.0.0",
            "_view_name": "LayoutView",
            "align_content": null,
            "align_items": null,
            "align_self": null,
            "border_bottom": null,
            "border_left": null,
            "border_right": null,
            "border_top": null,
            "bottom": null,
            "display": null,
            "flex": null,
            "flex_flow": null,
            "grid_area": null,
            "grid_auto_columns": null,
            "grid_auto_flow": null,
            "grid_auto_rows": null,
            "grid_column": null,
            "grid_gap": null,
            "grid_row": null,
            "grid_template_areas": null,
            "grid_template_columns": null,
            "grid_template_rows": null,
            "height": null,
            "justify_content": null,
            "justify_items": null,
            "left": null,
            "margin": null,
            "max_height": null,
            "max_width": null,
            "min_height": null,
            "min_width": null,
            "object_fit": null,
            "object_position": null,
            "order": null,
            "overflow": null,
            "padding": null,
            "right": null,
            "top": null,
            "visibility": null,
            "width": null
          }
        },
        "8552cd0a6c464e599cdea52b9980080c": {
          "model_module": "@jupyter-widgets/controls",
          "model_module_version": "2.0.0",
          "model_name": "HTMLStyleModel",
          "state": {
            "_model_module": "@jupyter-widgets/controls",
            "_model_module_version": "2.0.0",
            "_model_name": "HTMLStyleModel",
            "_view_count": null,
            "_view_module": "@jupyter-widgets/base",
            "_view_module_version": "2.0.0",
            "_view_name": "StyleView",
            "background": null,
            "description_width": "",
            "font_size": null,
            "text_color": null
          }
        },
        "88e684983e634b4c8bd9e1c1aafebe82": {
          "model_module": "@jupyter-widgets/controls",
          "model_module_version": "2.0.0",
          "model_name": "HTMLStyleModel",
          "state": {
            "_model_module": "@jupyter-widgets/controls",
            "_model_module_version": "2.0.0",
            "_model_name": "HTMLStyleModel",
            "_view_count": null,
            "_view_module": "@jupyter-widgets/base",
            "_view_module_version": "2.0.0",
            "_view_name": "StyleView",
            "background": null,
            "description_width": "",
            "font_size": null,
            "text_color": null
          }
        },
        "895c3a7ffde64b34a9dacf9ad670f245": {
          "model_module": "@jupyter-widgets/controls",
          "model_module_version": "2.0.0",
          "model_name": "FloatProgressModel",
          "state": {
            "_dom_classes": [],
            "_model_module": "@jupyter-widgets/controls",
            "_model_module_version": "2.0.0",
            "_model_name": "FloatProgressModel",
            "_view_count": null,
            "_view_module": "@jupyter-widgets/controls",
            "_view_module_version": "2.0.0",
            "_view_name": "ProgressView",
            "bar_style": "success",
            "description": "",
            "description_allow_html": false,
            "layout": "IPY_MODEL_bff8d83eb48e4234ae19cd58f0caaa10",
            "max": 1998,
            "min": 0,
            "orientation": "horizontal",
            "style": "IPY_MODEL_14418504bcc64b00ad2cc743047c3d32",
            "tabbable": null,
            "tooltip": null,
            "value": 1998
          }
        },
        "91494421b54a4b07ad679d5af900e6f3": {
          "model_module": "@jupyter-widgets/base",
          "model_module_version": "2.0.0",
          "model_name": "LayoutModel",
          "state": {
            "_model_module": "@jupyter-widgets/base",
            "_model_module_version": "2.0.0",
            "_model_name": "LayoutModel",
            "_view_count": null,
            "_view_module": "@jupyter-widgets/base",
            "_view_module_version": "2.0.0",
            "_view_name": "LayoutView",
            "align_content": null,
            "align_items": null,
            "align_self": null,
            "border_bottom": null,
            "border_left": null,
            "border_right": null,
            "border_top": null,
            "bottom": null,
            "display": null,
            "flex": null,
            "flex_flow": null,
            "grid_area": null,
            "grid_auto_columns": null,
            "grid_auto_flow": null,
            "grid_auto_rows": null,
            "grid_column": null,
            "grid_gap": null,
            "grid_row": null,
            "grid_template_areas": null,
            "grid_template_columns": null,
            "grid_template_rows": null,
            "height": null,
            "justify_content": null,
            "justify_items": null,
            "left": null,
            "margin": null,
            "max_height": null,
            "max_width": null,
            "min_height": null,
            "min_width": null,
            "object_fit": null,
            "object_position": null,
            "order": null,
            "overflow": null,
            "padding": null,
            "right": null,
            "top": null,
            "visibility": null,
            "width": null
          }
        },
        "943463b174fd4f6f884070b7e7eefd87": {
          "model_module": "@jupyter-widgets/controls",
          "model_module_version": "2.0.0",
          "model_name": "FloatProgressModel",
          "state": {
            "_dom_classes": [],
            "_model_module": "@jupyter-widgets/controls",
            "_model_module_version": "2.0.0",
            "_model_name": "FloatProgressModel",
            "_view_count": null,
            "_view_module": "@jupyter-widgets/controls",
            "_view_module_version": "2.0.0",
            "_view_name": "ProgressView",
            "bar_style": "success",
            "description": "",
            "description_allow_html": false,
            "layout": "IPY_MODEL_27b4e51ff597416db438381c52f65fe4",
            "max": 223,
            "min": 0,
            "orientation": "horizontal",
            "style": "IPY_MODEL_fac8c3b3674f46b997c6c5bbe2cb9f8e",
            "tabbable": null,
            "tooltip": null,
            "value": 223
          }
        },
        "97470d38dc15494680c38930171ad66b": {
          "model_module": "@jupyter-widgets/controls",
          "model_module_version": "2.0.0",
          "model_name": "ProgressStyleModel",
          "state": {
            "_model_module": "@jupyter-widgets/controls",
            "_model_module_version": "2.0.0",
            "_model_name": "ProgressStyleModel",
            "_view_count": null,
            "_view_module": "@jupyter-widgets/base",
            "_view_module_version": "2.0.0",
            "_view_name": "StyleView",
            "bar_color": null,
            "description_width": ""
          }
        },
        "9872c8cc8f34419680e0dd6f9515801d": {
          "model_module": "@jupyter-widgets/controls",
          "model_module_version": "2.0.0",
          "model_name": "HTMLModel",
          "state": {
            "_dom_classes": [],
            "_model_module": "@jupyter-widgets/controls",
            "_model_module_version": "2.0.0",
            "_model_name": "HTMLModel",
            "_view_count": null,
            "_view_module": "@jupyter-widgets/controls",
            "_view_module_version": "2.0.0",
            "_view_name": "HTMLView",
            "description": "",
            "description_allow_html": false,
            "layout": "IPY_MODEL_0f995971784e414a936fe8fd839be21f",
            "placeholder": "​",
            "style": "IPY_MODEL_403a36dbba274dabbcb2eafe75d8c685",
            "tabbable": null,
            "tooltip": null,
            "value": " 223/223 [00:00&lt;00:00, 2723.83 examples/s]"
          }
        },
        "aa5fb905dc37433c81e75210ae9a8ce3": {
          "model_module": "@jupyter-widgets/base",
          "model_module_version": "2.0.0",
          "model_name": "LayoutModel",
          "state": {
            "_model_module": "@jupyter-widgets/base",
            "_model_module_version": "2.0.0",
            "_model_name": "LayoutModel",
            "_view_count": null,
            "_view_module": "@jupyter-widgets/base",
            "_view_module_version": "2.0.0",
            "_view_name": "LayoutView",
            "align_content": null,
            "align_items": null,
            "align_self": null,
            "border_bottom": null,
            "border_left": null,
            "border_right": null,
            "border_top": null,
            "bottom": null,
            "display": null,
            "flex": null,
            "flex_flow": null,
            "grid_area": null,
            "grid_auto_columns": null,
            "grid_auto_flow": null,
            "grid_auto_rows": null,
            "grid_column": null,
            "grid_gap": null,
            "grid_row": null,
            "grid_template_areas": null,
            "grid_template_columns": null,
            "grid_template_rows": null,
            "height": null,
            "justify_content": null,
            "justify_items": null,
            "left": null,
            "margin": null,
            "max_height": null,
            "max_width": null,
            "min_height": null,
            "min_width": null,
            "object_fit": null,
            "object_position": null,
            "order": null,
            "overflow": null,
            "padding": null,
            "right": null,
            "top": null,
            "visibility": null,
            "width": null
          }
        },
        "ab9f4f76fc624bb9b0bbdb730417c8b9": {
          "model_module": "@jupyter-widgets/base",
          "model_module_version": "2.0.0",
          "model_name": "LayoutModel",
          "state": {
            "_model_module": "@jupyter-widgets/base",
            "_model_module_version": "2.0.0",
            "_model_name": "LayoutModel",
            "_view_count": null,
            "_view_module": "@jupyter-widgets/base",
            "_view_module_version": "2.0.0",
            "_view_name": "LayoutView",
            "align_content": null,
            "align_items": null,
            "align_self": null,
            "border_bottom": null,
            "border_left": null,
            "border_right": null,
            "border_top": null,
            "bottom": null,
            "display": null,
            "flex": null,
            "flex_flow": null,
            "grid_area": null,
            "grid_auto_columns": null,
            "grid_auto_flow": null,
            "grid_auto_rows": null,
            "grid_column": null,
            "grid_gap": null,
            "grid_row": null,
            "grid_template_areas": null,
            "grid_template_columns": null,
            "grid_template_rows": null,
            "height": null,
            "justify_content": null,
            "justify_items": null,
            "left": null,
            "margin": null,
            "max_height": null,
            "max_width": null,
            "min_height": null,
            "min_width": null,
            "object_fit": null,
            "object_position": null,
            "order": null,
            "overflow": null,
            "padding": null,
            "right": null,
            "top": null,
            "visibility": null,
            "width": null
          }
        },
        "b02ac824ae9a471fbd1f5c8be0335c2e": {
          "model_module": "@jupyter-widgets/controls",
          "model_module_version": "2.0.0",
          "model_name": "HTMLStyleModel",
          "state": {
            "_model_module": "@jupyter-widgets/controls",
            "_model_module_version": "2.0.0",
            "_model_name": "HTMLStyleModel",
            "_view_count": null,
            "_view_module": "@jupyter-widgets/base",
            "_view_module_version": "2.0.0",
            "_view_name": "StyleView",
            "background": null,
            "description_width": "",
            "font_size": null,
            "text_color": null
          }
        },
        "b0498521c4a74d46a8c661affe2d8550": {
          "model_module": "@jupyter-widgets/controls",
          "model_module_version": "2.0.0",
          "model_name": "HTMLModel",
          "state": {
            "_dom_classes": [],
            "_model_module": "@jupyter-widgets/controls",
            "_model_module_version": "2.0.0",
            "_model_name": "HTMLModel",
            "_view_count": null,
            "_view_module": "@jupyter-widgets/controls",
            "_view_module_version": "2.0.0",
            "_view_name": "HTMLView",
            "description": "",
            "description_allow_html": false,
            "layout": "IPY_MODEL_62bb2b5246104cd6b6428e2e0e6be5b0",
            "placeholder": "​",
            "style": "IPY_MODEL_e7f1de81ca4e440a956c423f9be60554",
            "tabbable": null,
            "tooltip": null,
            "value": " 4/4 [00:25&lt;00:00,  4.70s/it]"
          }
        },
        "b050a3055d5346069993facf35ae2b40": {
          "model_module": "@jupyter-widgets/controls",
          "model_module_version": "2.0.0",
          "model_name": "HTMLStyleModel",
          "state": {
            "_model_module": "@jupyter-widgets/controls",
            "_model_module_version": "2.0.0",
            "_model_name": "HTMLStyleModel",
            "_view_count": null,
            "_view_module": "@jupyter-widgets/base",
            "_view_module_version": "2.0.0",
            "_view_name": "StyleView",
            "background": null,
            "description_width": "",
            "font_size": null,
            "text_color": null
          }
        },
        "b08b0e3630da4268a0860aaa1a307d67": {
          "model_module": "@jupyter-widgets/controls",
          "model_module_version": "2.0.0",
          "model_name": "HTMLModel",
          "state": {
            "_dom_classes": [],
            "_model_module": "@jupyter-widgets/controls",
            "_model_module_version": "2.0.0",
            "_model_name": "HTMLModel",
            "_view_count": null,
            "_view_module": "@jupyter-widgets/controls",
            "_view_module_version": "2.0.0",
            "_view_name": "HTMLView",
            "description": "",
            "description_allow_html": false,
            "layout": "IPY_MODEL_d96dc3da1a994ef6bed430a62b70b0cc",
            "placeholder": "​",
            "style": "IPY_MODEL_b050a3055d5346069993facf35ae2b40",
            "tabbable": null,
            "tooltip": null,
            "value": "Loading checkpoint shards: 100%"
          }
        },
        "b94017eb54e3429abc1dc254d4f3ff9b": {
          "model_module": "@jupyter-widgets/controls",
          "model_module_version": "2.0.0",
          "model_name": "FloatProgressModel",
          "state": {
            "_dom_classes": [],
            "_model_module": "@jupyter-widgets/controls",
            "_model_module_version": "2.0.0",
            "_model_name": "FloatProgressModel",
            "_view_count": null,
            "_view_module": "@jupyter-widgets/controls",
            "_view_module_version": "2.0.0",
            "_view_name": "ProgressView",
            "bar_style": "success",
            "description": "",
            "description_allow_html": false,
            "layout": "IPY_MODEL_ab9f4f76fc624bb9b0bbdb730417c8b9",
            "max": 1998,
            "min": 0,
            "orientation": "horizontal",
            "style": "IPY_MODEL_13e068a9d7534f338ba04aee1a95e342",
            "tabbable": null,
            "tooltip": null,
            "value": 1998
          }
        },
        "b9a270703a604b898f51b52c9d6bcee7": {
          "model_module": "@jupyter-widgets/controls",
          "model_module_version": "2.0.0",
          "model_name": "HTMLStyleModel",
          "state": {
            "_model_module": "@jupyter-widgets/controls",
            "_model_module_version": "2.0.0",
            "_model_name": "HTMLStyleModel",
            "_view_count": null,
            "_view_module": "@jupyter-widgets/base",
            "_view_module_version": "2.0.0",
            "_view_name": "StyleView",
            "background": null,
            "description_width": "",
            "font_size": null,
            "text_color": null
          }
        },
        "bcce052082204c1795574609135fc660": {
          "model_module": "@jupyter-widgets/controls",
          "model_module_version": "2.0.0",
          "model_name": "HTMLModel",
          "state": {
            "_dom_classes": [],
            "_model_module": "@jupyter-widgets/controls",
            "_model_module_version": "2.0.0",
            "_model_name": "HTMLModel",
            "_view_count": null,
            "_view_module": "@jupyter-widgets/controls",
            "_view_module_version": "2.0.0",
            "_view_name": "HTMLView",
            "description": "",
            "description_allow_html": false,
            "layout": "IPY_MODEL_91494421b54a4b07ad679d5af900e6f3",
            "placeholder": "​",
            "style": "IPY_MODEL_449c22057f704f70b09bb6325fe7719d",
            "tabbable": null,
            "tooltip": null,
            "value": "Map: 100%"
          }
        },
        "bff8d83eb48e4234ae19cd58f0caaa10": {
          "model_module": "@jupyter-widgets/base",
          "model_module_version": "2.0.0",
          "model_name": "LayoutModel",
          "state": {
            "_model_module": "@jupyter-widgets/base",
            "_model_module_version": "2.0.0",
            "_model_name": "LayoutModel",
            "_view_count": null,
            "_view_module": "@jupyter-widgets/base",
            "_view_module_version": "2.0.0",
            "_view_name": "LayoutView",
            "align_content": null,
            "align_items": null,
            "align_self": null,
            "border_bottom": null,
            "border_left": null,
            "border_right": null,
            "border_top": null,
            "bottom": null,
            "display": null,
            "flex": null,
            "flex_flow": null,
            "grid_area": null,
            "grid_auto_columns": null,
            "grid_auto_flow": null,
            "grid_auto_rows": null,
            "grid_column": null,
            "grid_gap": null,
            "grid_row": null,
            "grid_template_areas": null,
            "grid_template_columns": null,
            "grid_template_rows": null,
            "height": null,
            "justify_content": null,
            "justify_items": null,
            "left": null,
            "margin": null,
            "max_height": null,
            "max_width": null,
            "min_height": null,
            "min_width": null,
            "object_fit": null,
            "object_position": null,
            "order": null,
            "overflow": null,
            "padding": null,
            "right": null,
            "top": null,
            "visibility": null,
            "width": null
          }
        },
        "c3b9d5a44cb149e0866c9f6cf2388779": {
          "model_module": "@jupyter-widgets/base",
          "model_module_version": "2.0.0",
          "model_name": "LayoutModel",
          "state": {
            "_model_module": "@jupyter-widgets/base",
            "_model_module_version": "2.0.0",
            "_model_name": "LayoutModel",
            "_view_count": null,
            "_view_module": "@jupyter-widgets/base",
            "_view_module_version": "2.0.0",
            "_view_name": "LayoutView",
            "align_content": null,
            "align_items": null,
            "align_self": null,
            "border_bottom": null,
            "border_left": null,
            "border_right": null,
            "border_top": null,
            "bottom": null,
            "display": null,
            "flex": null,
            "flex_flow": null,
            "grid_area": null,
            "grid_auto_columns": null,
            "grid_auto_flow": null,
            "grid_auto_rows": null,
            "grid_column": null,
            "grid_gap": null,
            "grid_row": null,
            "grid_template_areas": null,
            "grid_template_columns": null,
            "grid_template_rows": null,
            "height": null,
            "justify_content": null,
            "justify_items": null,
            "left": null,
            "margin": null,
            "max_height": null,
            "max_width": null,
            "min_height": null,
            "min_width": null,
            "object_fit": null,
            "object_position": null,
            "order": null,
            "overflow": null,
            "padding": null,
            "right": null,
            "top": null,
            "visibility": null,
            "width": null
          }
        },
        "caa57c2414a542759d390a77491fa1e5": {
          "model_module": "@jupyter-widgets/controls",
          "model_module_version": "2.0.0",
          "model_name": "HBoxModel",
          "state": {
            "_dom_classes": [],
            "_model_module": "@jupyter-widgets/controls",
            "_model_module_version": "2.0.0",
            "_model_name": "HBoxModel",
            "_view_count": null,
            "_view_module": "@jupyter-widgets/controls",
            "_view_module_version": "2.0.0",
            "_view_name": "HBoxView",
            "box_style": "",
            "children": [
              "IPY_MODEL_6008ae92f2d74d86af4bb97404d6883c",
              "IPY_MODEL_2fb1e46c0a28406484a304df33090f8c",
              "IPY_MODEL_42442716862d4c9eb969e0bad1c53a1e"
            ],
            "layout": "IPY_MODEL_30b346e418894c73904863b8b8ff7b11",
            "tabbable": null,
            "tooltip": null
          }
        },
        "d378ed631abb4d84990ff4b12bb5281b": {
          "model_module": "@jupyter-widgets/controls",
          "model_module_version": "2.0.0",
          "model_name": "HBoxModel",
          "state": {
            "_dom_classes": [],
            "_model_module": "@jupyter-widgets/controls",
            "_model_module_version": "2.0.0",
            "_model_name": "HBoxModel",
            "_view_count": null,
            "_view_module": "@jupyter-widgets/controls",
            "_view_module_version": "2.0.0",
            "_view_name": "HBoxView",
            "box_style": "",
            "children": [
              "IPY_MODEL_db0f44f03fcd4613a530b487ab386ea5",
              "IPY_MODEL_895c3a7ffde64b34a9dacf9ad670f245",
              "IPY_MODEL_4351c8afc327427797267973c93df103"
            ],
            "layout": "IPY_MODEL_5bf25720177e423eb69323f7e795296a",
            "tabbable": null,
            "tooltip": null
          }
        },
        "d4f9b48db9794185925c893e7b226a28": {
          "model_module": "@jupyter-widgets/controls",
          "model_module_version": "2.0.0",
          "model_name": "FloatProgressModel",
          "state": {
            "_dom_classes": [],
            "_model_module": "@jupyter-widgets/controls",
            "_model_module_version": "2.0.0",
            "_model_name": "FloatProgressModel",
            "_view_count": null,
            "_view_module": "@jupyter-widgets/controls",
            "_view_module_version": "2.0.0",
            "_view_name": "ProgressView",
            "bar_style": "success",
            "description": "",
            "description_allow_html": false,
            "layout": "IPY_MODEL_f828fc3954474092be931812c0cbb852",
            "max": 223,
            "min": 0,
            "orientation": "horizontal",
            "style": "IPY_MODEL_69efb2e23bd944ce8f3c993a59f05610",
            "tabbable": null,
            "tooltip": null,
            "value": 223
          }
        },
        "d96dc3da1a994ef6bed430a62b70b0cc": {
          "model_module": "@jupyter-widgets/base",
          "model_module_version": "2.0.0",
          "model_name": "LayoutModel",
          "state": {
            "_model_module": "@jupyter-widgets/base",
            "_model_module_version": "2.0.0",
            "_model_name": "LayoutModel",
            "_view_count": null,
            "_view_module": "@jupyter-widgets/base",
            "_view_module_version": "2.0.0",
            "_view_name": "LayoutView",
            "align_content": null,
            "align_items": null,
            "align_self": null,
            "border_bottom": null,
            "border_left": null,
            "border_right": null,
            "border_top": null,
            "bottom": null,
            "display": null,
            "flex": null,
            "flex_flow": null,
            "grid_area": null,
            "grid_auto_columns": null,
            "grid_auto_flow": null,
            "grid_auto_rows": null,
            "grid_column": null,
            "grid_gap": null,
            "grid_row": null,
            "grid_template_areas": null,
            "grid_template_columns": null,
            "grid_template_rows": null,
            "height": null,
            "justify_content": null,
            "justify_items": null,
            "left": null,
            "margin": null,
            "max_height": null,
            "max_width": null,
            "min_height": null,
            "min_width": null,
            "object_fit": null,
            "object_position": null,
            "order": null,
            "overflow": null,
            "padding": null,
            "right": null,
            "top": null,
            "visibility": null,
            "width": null
          }
        },
        "db0f44f03fcd4613a530b487ab386ea5": {
          "model_module": "@jupyter-widgets/controls",
          "model_module_version": "2.0.0",
          "model_name": "HTMLModel",
          "state": {
            "_dom_classes": [],
            "_model_module": "@jupyter-widgets/controls",
            "_model_module_version": "2.0.0",
            "_model_name": "HTMLModel",
            "_view_count": null,
            "_view_module": "@jupyter-widgets/controls",
            "_view_module_version": "2.0.0",
            "_view_name": "HTMLView",
            "description": "",
            "description_allow_html": false,
            "layout": "IPY_MODEL_0733506cc856449d8132c6d88cf81454",
            "placeholder": "​",
            "style": "IPY_MODEL_b9a270703a604b898f51b52c9d6bcee7",
            "tabbable": null,
            "tooltip": null,
            "value": "Map: 100%"
          }
        },
        "db27ee82336d48ce997f60e6b507a7e3": {
          "model_module": "@jupyter-widgets/base",
          "model_module_version": "2.0.0",
          "model_name": "LayoutModel",
          "state": {
            "_model_module": "@jupyter-widgets/base",
            "_model_module_version": "2.0.0",
            "_model_name": "LayoutModel",
            "_view_count": null,
            "_view_module": "@jupyter-widgets/base",
            "_view_module_version": "2.0.0",
            "_view_name": "LayoutView",
            "align_content": null,
            "align_items": null,
            "align_self": null,
            "border_bottom": null,
            "border_left": null,
            "border_right": null,
            "border_top": null,
            "bottom": null,
            "display": null,
            "flex": null,
            "flex_flow": null,
            "grid_area": null,
            "grid_auto_columns": null,
            "grid_auto_flow": null,
            "grid_auto_rows": null,
            "grid_column": null,
            "grid_gap": null,
            "grid_row": null,
            "grid_template_areas": null,
            "grid_template_columns": null,
            "grid_template_rows": null,
            "height": null,
            "justify_content": null,
            "justify_items": null,
            "left": null,
            "margin": null,
            "max_height": null,
            "max_width": null,
            "min_height": null,
            "min_width": null,
            "object_fit": null,
            "object_position": null,
            "order": null,
            "overflow": null,
            "padding": null,
            "right": null,
            "top": null,
            "visibility": null,
            "width": null
          }
        },
        "e2288022445948518ab45bb20c28a317": {
          "model_module": "@jupyter-widgets/controls",
          "model_module_version": "2.0.0",
          "model_name": "HBoxModel",
          "state": {
            "_dom_classes": [],
            "_model_module": "@jupyter-widgets/controls",
            "_model_module_version": "2.0.0",
            "_model_name": "HBoxModel",
            "_view_count": null,
            "_view_module": "@jupyter-widgets/controls",
            "_view_module_version": "2.0.0",
            "_view_name": "HBoxView",
            "box_style": "",
            "children": [
              "IPY_MODEL_6759c83870ad4a2f9e24d385b4bf92bc",
              "IPY_MODEL_b94017eb54e3429abc1dc254d4f3ff9b",
              "IPY_MODEL_09bbd96f273548f1806fbd74f3587232"
            ],
            "layout": "IPY_MODEL_322d6609731f40639fd469b1690849c6",
            "tabbable": null,
            "tooltip": null
          }
        },
        "e7f1de81ca4e440a956c423f9be60554": {
          "model_module": "@jupyter-widgets/controls",
          "model_module_version": "2.0.0",
          "model_name": "HTMLStyleModel",
          "state": {
            "_model_module": "@jupyter-widgets/controls",
            "_model_module_version": "2.0.0",
            "_model_name": "HTMLStyleModel",
            "_view_count": null,
            "_view_module": "@jupyter-widgets/base",
            "_view_module_version": "2.0.0",
            "_view_name": "StyleView",
            "background": null,
            "description_width": "",
            "font_size": null,
            "text_color": null
          }
        },
        "e9bd2b71af4c4716bcad05b69e316901": {
          "model_module": "@jupyter-widgets/controls",
          "model_module_version": "2.0.0",
          "model_name": "HBoxModel",
          "state": {
            "_dom_classes": [],
            "_model_module": "@jupyter-widgets/controls",
            "_model_module_version": "2.0.0",
            "_model_name": "HBoxModel",
            "_view_count": null,
            "_view_module": "@jupyter-widgets/controls",
            "_view_module_version": "2.0.0",
            "_view_name": "HBoxView",
            "box_style": "",
            "children": [
              "IPY_MODEL_77f0c9f26e4d4cf798182327f99893ee",
              "IPY_MODEL_943463b174fd4f6f884070b7e7eefd87",
              "IPY_MODEL_451b02be5b434d638fb3ef2a1cabbe79"
            ],
            "layout": "IPY_MODEL_f5a56f3182dd40a1b2ca3dc4efbccc20",
            "tabbable": null,
            "tooltip": null
          }
        },
        "f5a56f3182dd40a1b2ca3dc4efbccc20": {
          "model_module": "@jupyter-widgets/base",
          "model_module_version": "2.0.0",
          "model_name": "LayoutModel",
          "state": {
            "_model_module": "@jupyter-widgets/base",
            "_model_module_version": "2.0.0",
            "_model_name": "LayoutModel",
            "_view_count": null,
            "_view_module": "@jupyter-widgets/base",
            "_view_module_version": "2.0.0",
            "_view_name": "LayoutView",
            "align_content": null,
            "align_items": null,
            "align_self": null,
            "border_bottom": null,
            "border_left": null,
            "border_right": null,
            "border_top": null,
            "bottom": null,
            "display": null,
            "flex": null,
            "flex_flow": null,
            "grid_area": null,
            "grid_auto_columns": null,
            "grid_auto_flow": null,
            "grid_auto_rows": null,
            "grid_column": null,
            "grid_gap": null,
            "grid_row": null,
            "grid_template_areas": null,
            "grid_template_columns": null,
            "grid_template_rows": null,
            "height": null,
            "justify_content": null,
            "justify_items": null,
            "left": null,
            "margin": null,
            "max_height": null,
            "max_width": null,
            "min_height": null,
            "min_width": null,
            "object_fit": null,
            "object_position": null,
            "order": null,
            "overflow": null,
            "padding": null,
            "right": null,
            "top": null,
            "visibility": null,
            "width": null
          }
        },
        "f828fc3954474092be931812c0cbb852": {
          "model_module": "@jupyter-widgets/base",
          "model_module_version": "2.0.0",
          "model_name": "LayoutModel",
          "state": {
            "_model_module": "@jupyter-widgets/base",
            "_model_module_version": "2.0.0",
            "_model_name": "LayoutModel",
            "_view_count": null,
            "_view_module": "@jupyter-widgets/base",
            "_view_module_version": "2.0.0",
            "_view_name": "LayoutView",
            "align_content": null,
            "align_items": null,
            "align_self": null,
            "border_bottom": null,
            "border_left": null,
            "border_right": null,
            "border_top": null,
            "bottom": null,
            "display": null,
            "flex": null,
            "flex_flow": null,
            "grid_area": null,
            "grid_auto_columns": null,
            "grid_auto_flow": null,
            "grid_auto_rows": null,
            "grid_column": null,
            "grid_gap": null,
            "grid_row": null,
            "grid_template_areas": null,
            "grid_template_columns": null,
            "grid_template_rows": null,
            "height": null,
            "justify_content": null,
            "justify_items": null,
            "left": null,
            "margin": null,
            "max_height": null,
            "max_width": null,
            "min_height": null,
            "min_width": null,
            "object_fit": null,
            "object_position": null,
            "order": null,
            "overflow": null,
            "padding": null,
            "right": null,
            "top": null,
            "visibility": null,
            "width": null
          }
        },
        "fac8c3b3674f46b997c6c5bbe2cb9f8e": {
          "model_module": "@jupyter-widgets/controls",
          "model_module_version": "2.0.0",
          "model_name": "ProgressStyleModel",
          "state": {
            "_model_module": "@jupyter-widgets/controls",
            "_model_module_version": "2.0.0",
            "_model_name": "ProgressStyleModel",
            "_view_count": null,
            "_view_module": "@jupyter-widgets/base",
            "_view_module_version": "2.0.0",
            "_view_name": "StyleView",
            "bar_color": null,
            "description_width": ""
          }
        }
      }
    }
  },
  "nbformat": 4,
  "nbformat_minor": 0
}
