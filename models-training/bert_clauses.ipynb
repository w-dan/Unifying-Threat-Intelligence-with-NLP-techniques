{
  "nbformat": 4,
  "nbformat_minor": 0,
  "metadata": {
    "colab": {
      "provenance": [],
      "include_colab_link": true
    },
    "kernelspec": {
      "name": "python3",
      "display_name": "Python 3"
    },
    "language_info": {
      "name": "python"
    }
  },
  "cells": [
    {
      "cell_type": "markdown",
      "metadata": {
        "id": "view-in-github",
        "colab_type": "text"
      },
      "source": [
        "<a href=\"https://colab.research.google.com/github/w-dan/MATM/blob/main/MATM-code/data-analysis/bert_no_other.ipynb\" target=\"_parent\"><img src=\"https://colab.research.google.com/assets/colab-badge.svg\" alt=\"Open In Colab\"/></a>"
      ]
    },
    {
      "cell_type": "markdown",
      "source": [
        "# Initial setup\n",
        "\n",
        "This section includes installing required libraries and loading environment variables, also making sure GPUs are visible."
      ],
      "metadata": {
        "id": "kSmbODrsciIu"
      }
    },
    {
      "cell_type": "markdown",
      "source": [
        "### Libraries"
      ],
      "metadata": {
        "id": "OKGYv7tWgIE7"
      }
    },
    {
      "cell_type": "code",
      "source": [
        "import importlib.util\n",
        "\n",
        "def install_if_not_exists(package_name, no_deps=False):\n",
        "    spec = importlib.util.find_spec(package_name)\n",
        "    if spec is None:\n",
        "        print(f\"[+] Installing {package_name}...\")\n",
        "        if no_deps is False:\n",
        "          !pip install {package_name} --quiet\n",
        "        else:\n",
        "          !pip install --no-deps {package_name} --quiet\n",
        "    else:\n",
        "        print(f\"[-] {package_name} is already installed.\")"
      ],
      "metadata": {
        "id": "sASN5d5SctDv"
      },
      "execution_count": 1,
      "outputs": []
    },
    {
      "cell_type": "code",
      "source": [
        "# training\n",
        "install_if_not_exists(\"torch\", no_deps=False)\n",
        "install_if_not_exists(\"transformers\", no_deps=False)\n",
        "\n",
        "# datasets\n",
        "install_if_not_exists(\"datasets\", no_deps=False)\n",
        "install_if_not_exists(\"scikit-learn\", no_deps=False)\n",
        "install_if_not_exists(\"pandas\", no_deps=False)\n",
        "install_if_not_exists(\"pymongo\", no_deps=False)\n",
        "\n",
        "# other\n",
        "install_if_not_exists(\"matplotlib\", no_deps=False)\n",
        "install_if_not_exists(\"python-dotenv\", no_deps=False)\n",
        "\n",
        "# wandb and deps\n",
        "install_if_not_exists(\"sentry-sdk\")\n",
        "install_if_not_exists(\"setproctitle\", no_deps=False)\n",
        "install_if_not_exists(\"wandb\", no_deps=False)\n",
        "install_if_not_exists(\"click\", no_deps=False)\n",
        "install_if_not_exists(\"docker-pycreds\", no_deps=False)"
      ],
      "metadata": {
        "colab": {
          "base_uri": "https://localhost:8080/"
        },
        "id": "EnU8SUCWd3On",
        "outputId": "ffcb7a40-e2a5-4ccf-b556-296f9e28d605"
      },
      "execution_count": 2,
      "outputs": [
        {
          "output_type": "stream",
          "name": "stdout",
          "text": [
            "[-] torch is already installed.\n",
            "[-] transformers is already installed.\n",
            "[-] datasets is already installed.\n",
            "[+] Installing scikit-learn...\n",
            "\u001b[33mWARNING: Running pip as the 'root' user can result in broken permissions and conflicting behaviour with the system package manager. It is recommended to use a virtual environment instead: https://pip.pypa.io/warnings/venv\u001b[0m\u001b[33m\n",
            "\u001b[0m[-] pandas is already installed.\n",
            "[-] pymongo is already installed.\n",
            "[-] matplotlib is already installed.\n",
            "[+] Installing python-dotenv...\n",
            "\u001b[33mWARNING: Running pip as the 'root' user can result in broken permissions and conflicting behaviour with the system package manager. It is recommended to use a virtual environment instead: https://pip.pypa.io/warnings/venv\u001b[0m\u001b[33m\n",
            "\u001b[0m[+] Installing sentry-sdk...\n",
            "\u001b[33mWARNING: Running pip as the 'root' user can result in broken permissions and conflicting behaviour with the system package manager. It is recommended to use a virtual environment instead: https://pip.pypa.io/warnings/venv\u001b[0m\u001b[33m\n",
            "\u001b[0m[-] setproctitle is already installed.\n",
            "[-] wandb is already installed.\n",
            "[-] click is already installed.\n",
            "[+] Installing docker-pycreds...\n",
            "\u001b[33mWARNING: Running pip as the 'root' user can result in broken permissions and conflicting behaviour with the system package manager. It is recommended to use a virtual environment instead: https://pip.pypa.io/warnings/venv\u001b[0m\u001b[33m\n",
            "\u001b[0m"
          ]
        }
      ]
    },
    {
      "cell_type": "code",
      "source": [
        "# core\n",
        "import os, logging, time, torch, gc, re\n",
        "from dotenv import load_dotenv\n",
        "\n",
        "# dataset\n",
        "from datasets import Dataset\n",
        "from pymongo import MongoClient\n",
        "import pandas as pd\n",
        "from sklearn.model_selection import train_test_split\n",
        "\n",
        "# training\n",
        "import torch\n",
        "from transformers import(\n",
        "    EarlyStoppingCallback,\n",
        "    AdamW,\n",
        "    BertTokenizer,\n",
        "    BertForSequenceClassification,\n",
        "    Trainer,\n",
        "    TrainingArguments\n",
        ")\n",
        "\n",
        "\n",
        "# evaluation\n",
        "import matplotlib.pyplot as plt\n",
        "from typing import List, Dict, Any\n",
        "from sklearn.metrics import accuracy_score\n",
        "import seaborn as sns"
      ],
      "metadata": {
        "id": "fxRS65WDftZn"
      },
      "execution_count": 3,
      "outputs": []
    },
    {
      "cell_type": "code",
      "source": [
        "if torch.cuda.is_available():\n",
        "    print(\"CUDA is available. GPUs detected:\")\n",
        "\n",
        "    # available GPUs\n",
        "    num_gpus = torch.cuda.device_count()\n",
        "    print(f\"Number of available GPUs: {num_gpus}\")\n",
        "\n",
        "    # GPU info\n",
        "    for i in range(num_gpus):\n",
        "        print(f\"\\nGPU {i}:\")\n",
        "        print(f\"  Name: {torch.cuda.get_device_name(i)}\")\n",
        "        print(f\"  Total Memory: {torch.cuda.get_device_properties(i).total_memory / 1e9:.2f} GB\")\n",
        "        print(f\"  Compute Capability: {torch.cuda.get_device_capability(i)}\")\n",
        "        print(f\"  Current Memory Allocated: {torch.cuda.memory_allocated(i) / 1e6:.2f} MB\")\n",
        "        print(f\"  Current Memory Cached: {torch.cuda.memory_reserved(i) / 1e6:.2f} MB\")\n",
        "else:\n",
        "    print(\"CUDA is not available. No GPUs detected.\")"
      ],
      "metadata": {
        "id": "j2zbxGdlxRVD",
        "colab": {
          "base_uri": "https://localhost:8080/"
        },
        "outputId": "0ebdcddc-3c75-4a48-c962-34998e908320"
      },
      "execution_count": 4,
      "outputs": [
        {
          "output_type": "stream",
          "name": "stdout",
          "text": [
            "CUDA is available. GPUs detected:\n",
            "Number of available GPUs: 1\n",
            "\n",
            "GPU 0:\n",
            "  Name: NVIDIA TITAN V\n",
            "  Total Memory: 12.64 GB\n",
            "  Compute Capability: (7, 0)\n",
            "  Current Memory Allocated: 0.00 MB\n",
            "  Current Memory Cached: 0.00 MB\n"
          ]
        }
      ]
    },
    {
      "cell_type": "markdown",
      "source": [
        "### Environment variables and constants"
      ],
      "metadata": {
        "id": "hMfySA9OgJNz"
      }
    },
    {
      "cell_type": "code",
      "source": [
        "load_dotenv(\".env\")\n",
        "CONNECTION_STRING = os.getenv(\"CONNECTION_STRING\")\n",
        "TOKEN = os.getenv(\"HUGGINGFACE_TOKEN\")\n",
        "os.environ[\"TOKENIZERS_PARALLELISM\"] = \"true\"\n",
        "\n",
        "os.environ[\"CUDA_VISIBLE_DEVICES\"] = \"0, 1, 2\""
      ],
      "metadata": {
        "id": "ai3HAyZ7gBT0"
      },
      "execution_count": 5,
      "outputs": []
    },
    {
      "cell_type": "code",
      "source": [
        "DATABASE_NAME = \"APTs\""
      ],
      "metadata": {
        "id": "JZTVxYmdhDUS"
      },
      "execution_count": 6,
      "outputs": []
    },
    {
      "cell_type": "markdown",
      "source": [
        "GPU check (Docker container will sometimes lose GPU visibility)"
      ],
      "metadata": {
        "id": "wb7EyBzdfloe"
      }
    },
    {
      "cell_type": "code",
      "source": [
        "!nvidia-smi"
      ],
      "metadata": {
        "id": "sjk4xtL3cLwR",
        "colab": {
          "base_uri": "https://localhost:8080/"
        },
        "outputId": "c91caaf3-7005-4f71-b81e-edada4ad6fdc"
      },
      "execution_count": 7,
      "outputs": [
        {
          "output_type": "stream",
          "name": "stdout",
          "text": [
            "Fri Jun 21 15:03:46 2024       \r\n",
            "+---------------------------------------------------------------------------------------+\r\n",
            "| NVIDIA-SMI 535.171.04             Driver Version: 535.171.04   CUDA Version: 12.2     |\r\n",
            "|-----------------------------------------+----------------------+----------------------+\r\n",
            "| GPU  Name                 Persistence-M | Bus-Id        Disp.A | Volatile Uncorr. ECC |\r\n",
            "| Fan  Temp   Perf          Pwr:Usage/Cap |         Memory-Usage | GPU-Util  Compute M. |\r\n",
            "|                                         |                      |               MIG M. |\r\n",
            "|=========================================+======================+======================|\n",
            "|   0  NVIDIA TITAN V                 Off | 00000000:5E:00.0 Off |                  N/A |\n",
            "| 30%   44C    P8              26W / 250W |      4MiB / 12288MiB |      0%      Default |\n",
            "|                                         |                      |                  N/A |\n",
            "+-----------------------------------------+----------------------+----------------------+\n",
            "|   1  NVIDIA TITAN V                 Off | 00000000:AF:00.0 Off |                  N/A |\n",
            "| 32%   47C    P8              30W / 250W |      4MiB / 12288MiB |      0%      Default |\n",
            "|                                         |                      |                  N/A |\n",
            "+-----------------------------------------+----------------------+----------------------+\n",
            "                                                                                         \n",
            "+---------------------------------------------------------------------------------------+\n",
            "| Processes:                                                                            |\n",
            "|  GPU   GI   CI        PID   Type   Process name                            GPU Memory |\n",
            "|        ID   ID                                                             Usage      |\n",
            "|=======================================================================================|\n",
            "|  No running processes found                                                           |\n",
            "+---------------------------------------------------------------------------------------+\n"
          ]
        }
      ]
    },
    {
      "cell_type": "markdown",
      "source": [
        "# Dataset loading\n",
        "\n",
        "\n",
        "Initially, we will be building a dataset with raw text and tools. The dataset is stored in a MongoDB database, so we will have to fetch the data:"
      ],
      "metadata": {
        "id": "IYWol7WeZUbM"
      }
    },
    {
      "cell_type": "code",
      "source": [
        "collection_name = \"blackberry\""
      ],
      "metadata": {
        "id": "f5TPnsXWhATO"
      },
      "execution_count": 8,
      "outputs": []
    },
    {
      "cell_type": "code",
      "source": [
        "client = MongoClient(CONNECTION_STRING)\n",
        "db = client[DATABASE_NAME]\n",
        "\n",
        "collection = db[collection_name]"
      ],
      "metadata": {
        "id": "RZVvRiXDfq46"
      },
      "execution_count": 9,
      "outputs": []
    },
    {
      "cell_type": "code",
      "source": [
        "documents = collection.find()\n",
        "\n",
        "data = []\n",
        "for doc in documents:\n",
        "\n",
        "    clause = doc.get(\"clause\", \"\")\n",
        "    tactic = doc.get(\"tactic\", \"\")\n",
        "\n",
        "    data.append({\n",
        "        \"clause\": clause,\n",
        "        \"tactic\": tactic\n",
        "    })\n",
        "\n",
        "df = pd.DataFrame(data)\n",
        "\n",
        "print(f\"[+] Shape: {df.shape}\")\n",
        "df.head()"
      ],
      "metadata": {
        "id": "0OJskIP2fquH",
        "colab": {
          "base_uri": "https://localhost:8080/",
          "height": 225
        },
        "outputId": "b9af4ea1-0007-4c6d-d4ad-84b599c54e20"
      },
      "execution_count": 10,
      "outputs": [
        {
          "output_type": "stream",
          "name": "stdout",
          "text": [
            "[+] Shape: (5000, 2)\n"
          ]
        },
        {
          "output_type": "execute_result",
          "data": {
            "text/plain": [
              "                                              clause          tactic\n",
              "0  !th 00000050: 69732070726f6772 616d2063616e6e6...       Execution\n",
              "1  1 / 1 5www .prevailion.com /what-wicked-webs-w...  Initial Access\n",
              "2  part ii: findings iia: naver -themed phishing ...  Initial Access\n",
              "3  due ease operator create new subdomains hostin...  Initial Access\n",
              "4  accomplish this, lightshow drops legitimate ve...           Other"
            ],
            "text/html": [
              "<div>\n",
              "<style scoped>\n",
              "    .dataframe tbody tr th:only-of-type {\n",
              "        vertical-align: middle;\n",
              "    }\n",
              "\n",
              "    .dataframe tbody tr th {\n",
              "        vertical-align: top;\n",
              "    }\n",
              "\n",
              "    .dataframe thead th {\n",
              "        text-align: right;\n",
              "    }\n",
              "</style>\n",
              "<table border=\"1\" class=\"dataframe\">\n",
              "  <thead>\n",
              "    <tr style=\"text-align: right;\">\n",
              "      <th></th>\n",
              "      <th>clause</th>\n",
              "      <th>tactic</th>\n",
              "    </tr>\n",
              "  </thead>\n",
              "  <tbody>\n",
              "    <tr>\n",
              "      <th>0</th>\n",
              "      <td>!th 00000050: 69732070726f6772 616d2063616e6e6...</td>\n",
              "      <td>Execution</td>\n",
              "    </tr>\n",
              "    <tr>\n",
              "      <th>1</th>\n",
              "      <td>1 / 1 5www .prevailion.com /what-wicked-webs-w...</td>\n",
              "      <td>Initial Access</td>\n",
              "    </tr>\n",
              "    <tr>\n",
              "      <th>2</th>\n",
              "      <td>part ii: findings iia: naver -themed phishing ...</td>\n",
              "      <td>Initial Access</td>\n",
              "    </tr>\n",
              "    <tr>\n",
              "      <th>3</th>\n",
              "      <td>due ease operator create new subdomains hostin...</td>\n",
              "      <td>Initial Access</td>\n",
              "    </tr>\n",
              "    <tr>\n",
              "      <th>4</th>\n",
              "      <td>accomplish this, lightshow drops legitimate ve...</td>\n",
              "      <td>Other</td>\n",
              "    </tr>\n",
              "  </tbody>\n",
              "</table>\n",
              "</div>"
            ]
          },
          "metadata": {},
          "execution_count": 10
        }
      ]
    },
    {
      "cell_type": "code",
      "source": [
        "total_tactic_counts = df['tactic'].value_counts()\n",
        "\n",
        "plt.figure(figsize=(12, 6))\n",
        "\n",
        "plt.subplot(1, 2, 1)\n",
        "total_tactic_counts.plot(kind='bar', color='blue')\n",
        "plt.title('Frequency of Tactics in df')\n",
        "plt.xlabel('Tactic')\n",
        "plt.ylabel('Frequency')\n",
        "\n",
        "plt.tight_layout()\n",
        "plt.show()"
      ],
      "metadata": {
        "colab": {
          "base_uri": "https://localhost:8080/",
          "height": 607
        },
        "id": "8KZF0nXrAMp_",
        "outputId": "02181c08-0498-42ca-f546-695db5e8ca1d"
      },
      "execution_count": 11,
      "outputs": [
        {
          "output_type": "display_data",
          "data": {
            "text/plain": [
              "<Figure size 1200x600 with 1 Axes>"
            ],
            "image/png": "[encoded data removed]"
          },
          "metadata": {}
        }
      ]
    },
    {
      "cell_type": "markdown",
      "source": [
        "There is some clear bias towards `Execution` and `Other`. Even if these tags are the most common in a real-world scenario, it is convenient to downsample them due to the bias observed in experiment #7. The downsampling will be performed bearing in mind that the distribution of our data holds great importance, so they will still be more frequent in the dataset.\n",
        "\n",
        "For this purpose, a maximum number of samples of 500 will be set."
      ],
      "metadata": {
        "id": "Vi_6lezjAeQ3"
      }
    },
    {
      "cell_type": "code",
      "source": [
        "from sklearn.utils import resample\n",
        "\n",
        "tactic_counts = df['tactic'].value_counts()\n",
        "print(\"[+] Original tactic counts:\\n\", tactic_counts)\n",
        "\n",
        "max_samples = 500\n",
        "\n",
        "# selecting rows to be downsampled\n",
        "df_other = df[df['tactic'] == 'Other']\n",
        "df_execution = df[df['tactic'] == 'Execution']\n",
        "\n",
        "# downsampling\n",
        "df_other_downsampled = resample(df_other, replace=False, n_samples=max_samples, random_state=42)\n",
        "df_execution_downsampled = resample(df_execution, replace=False, n_samples=max_samples, random_state=42)\n",
        "\n",
        "# rebuilding the dataframe\n",
        "df_remaining = df[~df['tactic'].isin(['Other', 'Execution'])]\n",
        "balanced_df = pd.concat([df_remaining, df_other_downsampled, df_execution_downsampled])\n",
        "\n",
        "\n",
        "balanced_tactic_counts = balanced_df['tactic'].value_counts()\n",
        "print(\"[+] Balanced tactic counts:\\n\", balanced_tactic_counts)"
      ],
      "metadata": {
        "colab": {
          "base_uri": "https://localhost:8080/"
        },
        "id": "LJdZBWTEA9iC",
        "outputId": "16b7fa62-0add-44f1-8b52-cdaa2844a1fb"
      },
      "execution_count": 12,
      "outputs": [
        {
          "output_type": "stream",
          "name": "stdout",
          "text": [
            "[+] Original tactic counts:\n",
            " tactic\n",
            "Other                2895\n",
            "Execution             884\n",
            "Credential Access     310\n",
            "Initial Access        244\n",
            "Reconnaissance        188\n",
            "Collection            155\n",
            "Persistence            90\n",
            "Exfiltration           75\n",
            "Impact                 64\n",
            "Defense Evasion        59\n",
            "Lateral Movement       36\n",
            "Name: count, dtype: int64\n",
            "[+] Balanced tactic counts:\n",
            " tactic\n",
            "Other                500\n",
            "Execution            500\n",
            "Credential Access    310\n",
            "Initial Access       244\n",
            "Reconnaissance       188\n",
            "Collection           155\n",
            "Persistence           90\n",
            "Exfiltration          75\n",
            "Impact                64\n",
            "Defense Evasion       59\n",
            "Lateral Movement      36\n",
            "Name: count, dtype: int64\n"
          ]
        }
      ]
    },
    {
      "cell_type": "markdown",
      "source": [
        "Removing `Other` tag"
      ],
      "metadata": {
        "id": "WcqnFm48PAjl"
      }
    },
    {
      "cell_type": "code",
      "source": [
        "balanced_df = balanced_df[balanced_df['tactic'] != 'Other']"
      ],
      "metadata": {
        "id": "uOyXbDjnO0QC"
      },
      "execution_count": 13,
      "outputs": []
    },
    {
      "cell_type": "markdown",
      "source": [
        "This should reduce the model's bias."
      ],
      "metadata": {
        "id": "RwP_wWlRBaey"
      }
    },
    {
      "cell_type": "code",
      "source": [
        "import pandas as pd\n",
        "from sklearn.model_selection import train_test_split\n",
        "from transformers import BertTokenizer, BertForSequenceClassification, Trainer, TrainingArguments\n",
        "from transformers import DataCollatorWithPadding\n",
        "import torch"
      ],
      "metadata": {
        "id": "NiYMWBqWOTmz"
      },
      "execution_count": 14,
      "outputs": []
    },
    {
      "cell_type": "code",
      "source": [
        "os.environ[\"NCCL_IB_DISABLE\"] = \"1\"\n",
        "os.environ[\"NCCL_SHM_DISABLE\"] = \"1\""
      ],
      "metadata": {
        "id": "0Bj6PX2LOqqv"
      },
      "execution_count": 15,
      "outputs": []
    },
    {
      "cell_type": "markdown",
      "source": [
        "# Dataset preparation"
      ],
      "metadata": {
        "id": "pDlm6BKMhTBF"
      }
    },
    {
      "cell_type": "markdown",
      "source": [
        "A custom dataset class `ClauseDataset` was created in order to be handled with data loaders (for Bert compatibility)"
      ],
      "metadata": {
        "id": "pTYNxD82i0wu"
      }
    },
    {
      "cell_type": "code",
      "source": [
        "class ClauseDataset(torch.utils.data.Dataset):\n",
        "    def __init__(self, encodings, labels):\n",
        "        self.encodings = encodings\n",
        "        self.labels = labels\n",
        "\n",
        "    def __getitem__(self, idx):\n",
        "        item = {key: torch.tensor(val[idx]) for key, val in self.encodings.items()}\n",
        "        item['labels'] = torch.tensor(self.labels[idx])\n",
        "        return item\n",
        "\n",
        "    def __len__(self):\n",
        "        return len(self.labels)"
      ],
      "metadata": {
        "id": "DkaQ5yPYhYgf"
      },
      "execution_count": 16,
      "outputs": []
    },
    {
      "cell_type": "code",
      "source": [
        "tokenizer = BertTokenizer.from_pretrained('bert-base-uncased')"
      ],
      "metadata": {
        "id": "SqilBE26hfTY"
      },
      "execution_count": 17,
      "outputs": []
    },
    {
      "cell_type": "code",
      "source": [
        "train_texts, val_texts, train_labels, val_labels = train_test_split(\n",
        "    balanced_df['clause'].tolist(), balanced_df['tactic'].tolist(), test_size=0.2, random_state=42)"
      ],
      "metadata": {
        "id": "C5z-WjHkhUrx"
      },
      "execution_count": 18,
      "outputs": []
    },
    {
      "cell_type": "code",
      "source": [
        "train_encodings = tokenizer(train_texts, truncation=True, padding=True)\n",
        "val_encodings = tokenizer(val_texts, truncation=True, padding=True)"
      ],
      "metadata": {
        "id": "8A3aj8QKhg8D"
      },
      "execution_count": 19,
      "outputs": []
    },
    {
      "cell_type": "code",
      "source": [
        "label_dict = {label: idx for idx, label in enumerate(set(balanced_df['tactic']))}\n",
        "train_labels = [label_dict[label] for label in train_labels]\n",
        "val_labels = [label_dict[label] for label in val_labels]"
      ],
      "metadata": {
        "id": "kzYakYCbhh5e"
      },
      "execution_count": 20,
      "outputs": []
    },
    {
      "cell_type": "code",
      "source": [
        "label_dict"
      ],
      "metadata": {
        "id": "XYDnIaKKQuFF",
        "outputId": "d73a664d-bce3-4d4f-e6f9-8303bd152765",
        "colab": {
          "base_uri": "https://localhost:8080/"
        }
      },
      "execution_count": 23,
      "outputs": [
        {
          "output_type": "execute_result",
          "data": {
            "text/plain": [
              "{'Persistence': 0,\n",
              " 'Defense Evasion': 1,\n",
              " 'Reconnaissance': 2,\n",
              " 'Collection': 3,\n",
              " 'Credential Access': 4,\n",
              " 'Lateral Movement': 5,\n",
              " 'Exfiltration': 6,\n",
              " 'Initial Access': 7,\n",
              " 'Impact': 8,\n",
              " 'Execution': 9}"
            ]
          },
          "metadata": {},
          "execution_count": 23
        }
      ]
    },
    {
      "cell_type": "code",
      "source": [
        "train_dataset = ClauseDataset(train_encodings, train_labels)\n",
        "val_dataset = ClauseDataset(val_encodings, val_labels)"
      ],
      "metadata": {
        "id": "ZGQgogWDhlXm"
      },
      "execution_count": 24,
      "outputs": []
    },
    {
      "cell_type": "markdown",
      "source": [
        "# Bert model and training"
      ],
      "metadata": {
        "id": "u81Zbch-hmXx"
      }
    },
    {
      "cell_type": "code",
      "source": [
        "model = BertForSequenceClassification.from_pretrained('bert-base-uncased', num_labels=len(label_dict))"
      ],
      "metadata": {
        "id": "3QOOtfOuhn7e",
        "colab": {
          "base_uri": "https://localhost:8080/"
        },
        "outputId": "92ca9ef7-f7ad-4fbe-83cd-6030cc04cc1e"
      },
      "execution_count": 25,
      "outputs": [
        {
          "output_type": "stream",
          "name": "stderr",
          "text": [
            "Some weights of BertForSequenceClassification were not initialized from the model checkpoint at bert-base-uncased and are newly initialized: ['classifier.bias', 'classifier.weight']\n",
            "You should probably TRAIN this model on a down-stream task to be able to use it for predictions and inference.\n"
          ]
        }
      ]
    },
    {
      "cell_type": "code",
      "source": [
        "training_args = TrainingArguments(\n",
        "    output_dir='./results',          # result dir\n",
        "    num_train_epochs=3,              # training epochs\n",
        "    per_device_train_batch_size=8,   # train batch size\n",
        "    per_device_eval_batch_size=8,    # eval batch size\n",
        "    warmup_steps=500,                # warmup steps\n",
        "    weight_decay=0.01,               # weight decay rate\n",
        "    logging_dir='./logs',            # log directory\n",
        "    logging_steps=10,\n",
        "    eval_steps=10,\n",
        "    eval_strategy='steps'\n",
        ")\n",
        "\n",
        "trainer = Trainer(\n",
        "    model=model,                         # model to train\n",
        "    args=training_args,                  # training args\n",
        "    train_dataset=train_dataset,         # train dataset\n",
        "    eval_dataset=val_dataset,            # test dataset\n",
        "    data_collator=DataCollatorWithPadding(tokenizer),  # dynamic padding collator\n",
        ")"
      ],
      "metadata": {
        "id": "5Qfj9zQVhpjp"
      },
      "execution_count": 26,
      "outputs": []
    },
    {
      "cell_type": "code",
      "source": [
        "training_logs = trainer.train()"
      ],
      "metadata": {
        "colab": {
          "base_uri": "https://localhost:8080/",
          "height": 1000
        },
        "id": "easz7mLwOOLD",
        "outputId": "c7e71212-f283-43a0-f73e-3c292d9a46af"
      },
      "execution_count": 27,
      "outputs": [
        {
          "output_type": "stream",
          "name": "stderr",
          "text": [
            "\u001b[34m\u001b[1mwandb\u001b[0m: \u001b[33mWARNING\u001b[0m The `run_name` is currently set to the same value as `TrainingArguments.output_dir`. If this was not intended, please specify a different run name by setting the `TrainingArguments.run_name` parameter.\n",
            "\u001b[34m\u001b[1mwandb\u001b[0m: Currently logged in as: \u001b[33mw-dan\u001b[0m (\u001b[33mseclab-etsisi\u001b[0m). Use \u001b[1m`wandb login --relogin`\u001b[0m to force relogin\n"
          ]
        },
        {
          "output_type": "display_data",
          "data": {
            "text/plain": [
              "<IPython.core.display.HTML object>"
            ],
            "text/html": [
              "Tracking run with wandb version 0.17.2"
            ]
          },
          "metadata": {}
        },
        {
          "output_type": "display_data",
          "data": {
            "text/plain": [
              "<IPython.core.display.HTML object>"
            ],
            "text/html": [
              "Run data is saved locally in <code>/home/user/wandb/run-20240621_150402-86hgpmb7</code>"
            ]
          },
          "metadata": {}
        },
        {
          "output_type": "display_data",
          "data": {
            "text/plain": [
              "<IPython.core.display.HTML object>"
            ],
            "text/html": [
              "Syncing run <strong><a href='https://wandb.ai/seclab-etsisi/huggingface/runs/86hgpmb7' target=\"_blank\">./results</a></strong> to <a href='https://wandb.ai/seclab-etsisi/huggingface' target=\"_blank\">Weights & Biases</a> (<a href='https://wandb.me/run' target=\"_blank\">docs</a>)<br/>"
            ]
          },
          "metadata": {}
        },
        {
          "output_type": "display_data",
          "data": {
            "text/plain": [
              "<IPython.core.display.HTML object>"
            ],
            "text/html": [
              " View project at <a href='https://wandb.ai/seclab-etsisi/huggingface' target=\"_blank\">https://wandb.ai/seclab-etsisi/huggingface</a>"
            ]
          },
          "metadata": {}
        },
        {
          "output_type": "display_data",
          "data": {
            "text/plain": [
              "<IPython.core.display.HTML object>"
            ],
            "text/html": [
              " View run at <a href='https://wandb.ai/seclab-etsisi/huggingface/runs/86hgpmb7' target=\"_blank\">https://wandb.ai/seclab-etsisi/huggingface/runs/86hgpmb7</a>"
            ]
          },
          "metadata": {}
        },
        {
          "output_type": "display_data",
          "data": {
            "text/plain": [
              "<IPython.core.display.HTML object>"
            ],
            "text/html": [
              "\n",
              "    <div>\n",
              "      \n",
              "      <progress value='516' max='516' style='width:300px; height:20px; vertical-align: middle;'></progress>\n",
              "      [516/516 05:42, Epoch 3/3]\n",
              "    </div>\n",
              "    <table border=\"1\" class=\"dataframe\">\n",
              "  <thead>\n",
              " <tr style=\"text-align: left;\">\n",
              "      <th>Step</th>\n",
              "      <th>Training Loss</th>\n",
              "      <th>Validation Loss</th>\n",
              "    </tr>\n",
              "  </thead>\n",
              "  <tbody>\n",
              "    <tr>\n",
              "      <td>10</td>\n",
              "      <td>2.602300</td>\n",
              "      <td>2.477716</td>\n",
              "    </tr>\n",
              "    <tr>\n",
              "      <td>20</td>\n",
              "      <td>2.396600</td>\n",
              "      <td>2.357648</td>\n",
              "    </tr>\n",
              "    <tr>\n",
              "      <td>30</td>\n",
              "      <td>2.252400</td>\n",
              "      <td>2.218163</td>\n",
              "    </tr>\n",
              "    <tr>\n",
              "      <td>40</td>\n",
              "      <td>2.126600</td>\n",
              "      <td>2.191027</td>\n",
              "    </tr>\n",
              "    <tr>\n",
              "      <td>50</td>\n",
              "      <td>2.346600</td>\n",
              "      <td>2.177894</td>\n",
              "    </tr>\n",
              "    <tr>\n",
              "      <td>60</td>\n",
              "      <td>1.982600</td>\n",
              "      <td>2.158497</td>\n",
              "    </tr>\n",
              "    <tr>\n",
              "      <td>70</td>\n",
              "      <td>2.190900</td>\n",
              "      <td>2.121387</td>\n",
              "    </tr>\n",
              "    <tr>\n",
              "      <td>80</td>\n",
              "      <td>2.068500</td>\n",
              "      <td>2.083854</td>\n",
              "    </tr>\n",
              "    <tr>\n",
              "      <td>90</td>\n",
              "      <td>2.118000</td>\n",
              "      <td>2.066624</td>\n",
              "    </tr>\n",
              "    <tr>\n",
              "      <td>100</td>\n",
              "      <td>2.093900</td>\n",
              "      <td>2.036694</td>\n",
              "    </tr>\n",
              "    <tr>\n",
              "      <td>110</td>\n",
              "      <td>2.034400</td>\n",
              "      <td>2.014446</td>\n",
              "    </tr>\n",
              "    <tr>\n",
              "      <td>120</td>\n",
              "      <td>1.981900</td>\n",
              "      <td>1.982537</td>\n",
              "    </tr>\n",
              "    <tr>\n",
              "      <td>130</td>\n",
              "      <td>2.049400</td>\n",
              "      <td>1.944902</td>\n",
              "    </tr>\n",
              "    <tr>\n",
              "      <td>140</td>\n",
              "      <td>1.963200</td>\n",
              "      <td>1.968390</td>\n",
              "    </tr>\n",
              "    <tr>\n",
              "      <td>150</td>\n",
              "      <td>1.809100</td>\n",
              "      <td>1.937128</td>\n",
              "    </tr>\n",
              "    <tr>\n",
              "      <td>160</td>\n",
              "      <td>2.044900</td>\n",
              "      <td>1.963077</td>\n",
              "    </tr>\n",
              "    <tr>\n",
              "      <td>170</td>\n",
              "      <td>1.973700</td>\n",
              "      <td>1.901954</td>\n",
              "    </tr>\n",
              "    <tr>\n",
              "      <td>180</td>\n",
              "      <td>1.998400</td>\n",
              "      <td>1.912287</td>\n",
              "    </tr>\n",
              "    <tr>\n",
              "      <td>190</td>\n",
              "      <td>1.954500</td>\n",
              "      <td>1.856592</td>\n",
              "    </tr>\n",
              "    <tr>\n",
              "      <td>200</td>\n",
              "      <td>1.796100</td>\n",
              "      <td>1.856889</td>\n",
              "    </tr>\n",
              "    <tr>\n",
              "      <td>210</td>\n",
              "      <td>1.651200</td>\n",
              "      <td>1.842915</td>\n",
              "    </tr>\n",
              "    <tr>\n",
              "      <td>220</td>\n",
              "      <td>1.703500</td>\n",
              "      <td>1.810908</td>\n",
              "    </tr>\n",
              "    <tr>\n",
              "      <td>230</td>\n",
              "      <td>1.532100</td>\n",
              "      <td>1.848246</td>\n",
              "    </tr>\n",
              "    <tr>\n",
              "      <td>240</td>\n",
              "      <td>1.876500</td>\n",
              "      <td>1.828542</td>\n",
              "    </tr>\n",
              "    <tr>\n",
              "      <td>250</td>\n",
              "      <td>1.826300</td>\n",
              "      <td>1.712922</td>\n",
              "    </tr>\n",
              "    <tr>\n",
              "      <td>260</td>\n",
              "      <td>1.765900</td>\n",
              "      <td>1.686434</td>\n",
              "    </tr>\n",
              "    <tr>\n",
              "      <td>270</td>\n",
              "      <td>1.611300</td>\n",
              "      <td>1.649686</td>\n",
              "    </tr>\n",
              "    <tr>\n",
              "      <td>280</td>\n",
              "      <td>1.408500</td>\n",
              "      <td>1.514266</td>\n",
              "    </tr>\n",
              "    <tr>\n",
              "      <td>290</td>\n",
              "      <td>1.578300</td>\n",
              "      <td>1.388787</td>\n",
              "    </tr>\n",
              "    <tr>\n",
              "      <td>300</td>\n",
              "      <td>1.437500</td>\n",
              "      <td>1.227358</td>\n",
              "    </tr>\n",
              "    <tr>\n",
              "      <td>310</td>\n",
              "      <td>1.271000</td>\n",
              "      <td>1.195656</td>\n",
              "    </tr>\n",
              "    <tr>\n",
              "      <td>320</td>\n",
              "      <td>1.307000</td>\n",
              "      <td>1.103792</td>\n",
              "    </tr>\n",
              "    <tr>\n",
              "      <td>330</td>\n",
              "      <td>1.232500</td>\n",
              "      <td>1.137191</td>\n",
              "    </tr>\n",
              "    <tr>\n",
              "      <td>340</td>\n",
              "      <td>1.161900</td>\n",
              "      <td>1.022011</td>\n",
              "    </tr>\n",
              "    <tr>\n",
              "      <td>350</td>\n",
              "      <td>1.252000</td>\n",
              "      <td>0.976084</td>\n",
              "    </tr>\n",
              "    <tr>\n",
              "      <td>360</td>\n",
              "      <td>0.702400</td>\n",
              "      <td>0.952149</td>\n",
              "    </tr>\n",
              "    <tr>\n",
              "      <td>370</td>\n",
              "      <td>0.955400</td>\n",
              "      <td>0.979136</td>\n",
              "    </tr>\n",
              "    <tr>\n",
              "      <td>380</td>\n",
              "      <td>0.919300</td>\n",
              "      <td>0.920468</td>\n",
              "    </tr>\n",
              "    <tr>\n",
              "      <td>390</td>\n",
              "      <td>0.751000</td>\n",
              "      <td>0.882239</td>\n",
              "    </tr>\n",
              "    <tr>\n",
              "      <td>400</td>\n",
              "      <td>1.013000</td>\n",
              "      <td>0.873374</td>\n",
              "    </tr>\n",
              "    <tr>\n",
              "      <td>410</td>\n",
              "      <td>0.669700</td>\n",
              "      <td>0.863540</td>\n",
              "    </tr>\n",
              "    <tr>\n",
              "      <td>420</td>\n",
              "      <td>0.940100</td>\n",
              "      <td>0.842168</td>\n",
              "    </tr>\n",
              "    <tr>\n",
              "      <td>430</td>\n",
              "      <td>0.672500</td>\n",
              "      <td>0.799290</td>\n",
              "    </tr>\n",
              "    <tr>\n",
              "      <td>440</td>\n",
              "      <td>0.578800</td>\n",
              "      <td>0.801871</td>\n",
              "    </tr>\n",
              "    <tr>\n",
              "      <td>450</td>\n",
              "      <td>0.740900</td>\n",
              "      <td>0.777017</td>\n",
              "    </tr>\n",
              "    <tr>\n",
              "      <td>460</td>\n",
              "      <td>0.893000</td>\n",
              "      <td>0.727672</td>\n",
              "    </tr>\n",
              "    <tr>\n",
              "      <td>470</td>\n",
              "      <td>0.563200</td>\n",
              "      <td>0.680843</td>\n",
              "    </tr>\n",
              "    <tr>\n",
              "      <td>480</td>\n",
              "      <td>0.731600</td>\n",
              "      <td>0.623696</td>\n",
              "    </tr>\n",
              "    <tr>\n",
              "      <td>490</td>\n",
              "      <td>0.657200</td>\n",
              "      <td>0.542402</td>\n",
              "    </tr>\n",
              "    <tr>\n",
              "      <td>500</td>\n",
              "      <td>0.704700</td>\n",
              "      <td>0.535792</td>\n",
              "    </tr>\n",
              "    <tr>\n",
              "      <td>510</td>\n",
              "      <td>0.533100</td>\n",
              "      <td>0.459738</td>\n",
              "    </tr>\n",
              "  </tbody>\n",
              "</table><p>"
            ]
          },
          "metadata": {}
        }
      ]
    },
    {
      "cell_type": "code",
      "source": [
        "results = trainer.evaluate()\n",
        "print(results)"
      ],
      "metadata": {
        "id": "anTPG8NOiEjz",
        "colab": {
          "base_uri": "https://localhost:8080/",
          "height": 55
        },
        "outputId": "8b1cc894-bee3-439c-9731-75de34a5a66a"
      },
      "execution_count": 28,
      "outputs": [
        {
          "output_type": "display_data",
          "data": {
            "text/plain": [
              "<IPython.core.display.HTML object>"
            ],
            "text/html": [
              "\n",
              "    <div>\n",
              "      \n",
              "      <progress value='44' max='44' style='width:300px; height:20px; vertical-align: middle;'></progress>\n",
              "      [44/44 00:03]\n",
              "    </div>\n",
              "    "
            ]
          },
          "metadata": {}
        },
        {
          "output_type": "stream",
          "name": "stdout",
          "text": [
            "{'eval_loss': 0.4502886235713959, 'eval_runtime': 3.4907, 'eval_samples_per_second': 98.834, 'eval_steps_per_second': 12.605, 'epoch': 3.0}\n"
          ]
        }
      ]
    },
    {
      "cell_type": "code",
      "source": [
        "# @TODO: print functions"
      ],
      "metadata": {
        "id": "QeInx4jSi9uj"
      },
      "execution_count": 29,
      "outputs": []
    },
    {
      "cell_type": "markdown",
      "source": [
        "# Evaluation"
      ],
      "metadata": {
        "id": "Teim3FhbSNE_"
      }
    },
    {
      "cell_type": "code",
      "source": [
        "label_dict_inverse = {v: k for k, v in label_dict.items()}  # Crear diccionario inverso"
      ],
      "metadata": {
        "id": "4AeMuwbTVBJ2"
      },
      "execution_count": 30,
      "outputs": []
    },
    {
      "cell_type": "code",
      "source": [
        "def predict(val_dataset):\n",
        "    predictions = trainer.predict(val_dataset)\n",
        "    pred_labels = np.argmax(predictions.predictions, axis=1)\n",
        "    return pred_labels\n",
        "\n",
        "def evaluate_predictions(true_labels, pred_labels, label_dict):\n",
        "    true_label_names = [list(label_dict.keys())[list(label_dict.values()).index(label)] for label in true_labels]\n",
        "    pred_label_names = [list(label_dict.keys())[list(label_dict.values()).index(label)] for label in pred_labels]\n",
        "\n",
        "    print(classification_report(true_label_names, pred_label_names, target_names=list(label_dict.keys())))\n",
        "\n",
        "    cm = confusion_matrix(true_label_names, pred_label_names, labels=list(label_dict.keys()))\n",
        "    sns.heatmap(cm, annot=True, fmt='d', xticklabels=list(label_dict.keys()), yticklabels=list(label_dict.keys()))\n",
        "    plt.xlabel('Predicted')\n",
        "    plt.ylabel('True')\n",
        "    plt.show()"
      ],
      "metadata": {
        "id": "v_QcV6aGOzkt"
      },
      "execution_count": 31,
      "outputs": []
    },
    {
      "cell_type": "code",
      "source": [
        "def clause_dataset_to_dataframe(clause_dataset, label_dict):\n",
        "    \"\"\"\n",
        "    Converts ClauseDataset to a DataFrame.\n",
        "\n",
        "    Parameters:\n",
        "    clause_dataset (ClauseDataset): The ClauseDataset to convert.\n",
        "    label_dict (dict): Dictionary mapping label indices to label names.\n",
        "\n",
        "    Returns:\n",
        "    pandas.DataFrame: DataFrame with clauses and labels.\n",
        "    \"\"\"\n",
        "    labels = [label_dict[label] for label in clause_dataset.labels]\n",
        "    df = pd.DataFrame({'labels': labels})\n",
        "    return df\n",
        "\n",
        "def plot_label_distribution_from_dataset(clause_dataset, label_dict):\n",
        "    \"\"\"\n",
        "    Plots the distribution of labels in the ClauseDataset.\n",
        "\n",
        "    Parameters:\n",
        "    clause_dataset (ClauseDataset): The ClauseDataset containing the data.\n",
        "    label_dict (dict): Dictionary mapping label indices to label names.\n",
        "\n",
        "    Returns:\n",
        "    None\n",
        "    \"\"\"\n",
        "    df = clause_dataset_to_dataframe(clause_dataset, label_dict)\n",
        "    label_counts = df['labels'].value_counts()\n",
        "    plt.figure(figsize=(10, 6))\n",
        "    sns.barplot(x=label_counts.index, y=label_counts.values, palette='viridis')\n",
        "    plt.xlabel('Labels')\n",
        "    plt.ylabel('Count')\n",
        "    plt.title('Distribution of Labels')\n",
        "    plt.xticks(rotation=45)\n",
        "    plt.show()"
      ],
      "metadata": {
        "id": "HFVOhDGCiJBe"
      },
      "execution_count": 32,
      "outputs": []
    },
    {
      "cell_type": "code",
      "source": [
        "label_dict"
      ],
      "metadata": {
        "id": "4Ipy2sjJTkBs",
        "outputId": "f5a6427b-3b3d-4936-c5ea-e26ae6882aab",
        "colab": {
          "base_uri": "https://localhost:8080/"
        }
      },
      "execution_count": 33,
      "outputs": [
        {
          "output_type": "execute_result",
          "data": {
            "text/plain": [
              "{'Persistence': 0,\n",
              " 'Defense Evasion': 1,\n",
              " 'Reconnaissance': 2,\n",
              " 'Collection': 3,\n",
              " 'Credential Access': 4,\n",
              " 'Lateral Movement': 5,\n",
              " 'Exfiltration': 6,\n",
              " 'Initial Access': 7,\n",
              " 'Impact': 8,\n",
              " 'Execution': 9}"
            ]
          },
          "metadata": {},
          "execution_count": 33
        }
      ]
    },
    {
      "cell_type": "code",
      "source": [
        "plot_label_distribution_from_dataset(val_dataset, {v: k for k, v in label_dict.items()})"
      ],
      "metadata": {
        "id": "8reTCV3tiKjY",
        "colab": {
          "base_uri": "https://localhost:8080/",
          "height": 741
        },
        "outputId": "c8ecbcb8-dc7c-4715-e3ce-445e68167a6b"
      },
      "execution_count": 34,
      "outputs": [
        {
          "output_type": "stream",
          "name": "stderr",
          "text": [
            "/tmp/ipykernel_4762/3654622633.py:30: FutureWarning: \n",
            "\n",
            "Passing `palette` without assigning `hue` is deprecated and will be removed in v0.14.0. Assign the `x` variable to `hue` and set `legend=False` for the same effect.\n",
            "\n",
            "  sns.barplot(x=label_counts.index, y=label_counts.values, palette='viridis')\n"
          ]
        },
        {
          "output_type": "display_data",
          "data": {
            "text/plain": [
              "<Figure size 1000x600 with 1 Axes>"
            ],
            "image/png": "[encoded data removed]"
          },
          "metadata": {}
        }
      ]
    },
    {
      "cell_type": "code",
      "source": [
        "import numpy as np\n",
        "from sklearn.metrics import classification_report, confusion_matrix"
      ],
      "metadata": {
        "id": "K28Z3wUFUT3k"
      },
      "execution_count": 35,
      "outputs": []
    },
    {
      "cell_type": "code",
      "source": [],
      "metadata": {
        "id": "exaHBbnFYgL8"
      },
      "execution_count": 35,
      "outputs": []
    },
    {
      "cell_type": "code",
      "source": [
        "pred_labels = predict(val_dataset)\n",
        "evaluate_predictions(val_labels, pred_labels, label_dict)"
      ],
      "metadata": {
        "colab": {
          "base_uri": "https://localhost:8080/",
          "height": 874
        },
        "id": "3eRwUWDKVE0X",
        "outputId": "430401d1-d06d-4c9c-cd6f-6eac46673e82"
      },
      "execution_count": 36,
      "outputs": [
        {
          "output_type": "display_data",
          "data": {
            "text/plain": [
              "<IPython.core.display.HTML object>"
            ],
            "text/html": []
          },
          "metadata": {}
        },
        {
          "output_type": "stream",
          "name": "stdout",
          "text": [
            "                   precision    recall  f1-score   support\n",
            "\n",
            "      Persistence       0.74      0.95      0.83        37\n",
            "  Defense Evasion       0.98      0.98      0.98        47\n",
            "   Reconnaissance       1.00      1.00      1.00        15\n",
            "       Collection       0.96      0.92      0.94       102\n",
            "Credential Access       0.91      0.83      0.87        12\n",
            " Lateral Movement       1.00      0.79      0.88        14\n",
            "     Exfiltration       0.98      0.96      0.97        54\n",
            "   Initial Access       1.00      0.50      0.67         4\n",
            "           Impact       0.92      0.50      0.65        22\n",
            "        Execution       0.65      0.84      0.74        38\n",
            "\n",
            "         accuracy                           0.89       345\n",
            "        macro avg       0.91      0.83      0.85       345\n",
            "     weighted avg       0.91      0.89      0.89       345\n",
            "\n"
          ]
        },
        {
          "output_type": "display_data",
          "data": {
            "text/plain": [
              "<Figure size 640x480 with 2 Axes>"
            ],
            "image/png": "[encoded data removed]"
          },
          "metadata": {}
        }
      ]
    },
    {
      "cell_type": "code",
      "source": [
        "# val_dataset.labels\n",
        "label_dict"
      ],
      "metadata": {
        "colab": {
          "base_uri": "https://localhost:8080/"
        },
        "id": "PT_ABDzaXqTz",
        "outputId": "6a734902-1d3f-49f5-bf6d-fb66aa0eab39"
      },
      "execution_count": 37,
      "outputs": [
        {
          "output_type": "execute_result",
          "data": {
            "text/plain": [
              "{'Persistence': 0,\n",
              " 'Defense Evasion': 1,\n",
              " 'Reconnaissance': 2,\n",
              " 'Collection': 3,\n",
              " 'Credential Access': 4,\n",
              " 'Lateral Movement': 5,\n",
              " 'Exfiltration': 6,\n",
              " 'Initial Access': 7,\n",
              " 'Impact': 8,\n",
              " 'Execution': 9}"
            ]
          },
          "metadata": {},
          "execution_count": 37
        }
      ]
    },
    {
      "cell_type": "code",
      "source": [],
      "metadata": {
        "id": "jwnQ8OIHSQmL"
      },
      "execution_count": 37,
      "outputs": []
    }
  ]
}