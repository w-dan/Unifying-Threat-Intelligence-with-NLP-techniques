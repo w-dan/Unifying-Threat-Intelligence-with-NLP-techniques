{
  "cells": [
    {
      "cell_type": "markdown",
      "metadata": {
        "colab_type": "text",
        "id": "view-in-github"
      },
      "source": [
        "<a href=\"https://colab.research.google.com/github/w-dan/MATM/blob/main/MATM-code/data-analysis/clauses_dataset.ipynb\" target=\"_parent\"><img src=\"https://colab.research.google.com/assets/colab-badge.svg\" alt=\"Open In Colab\"/></a>"
      ]
    },
    {
      "cell_type": "code",
      "execution_count": 25,
      "metadata": {
        "colab": {
          "base_uri": "https://localhost:8080/"
        },
        "id": "tEwWyIzReChL",
        "outputId": "4f2fc667-2829-43f3-8d87-f483888b0b58"
      },
      "outputs": [
        {
          "name": "stdout",
          "output_type": "stream",
          "text": [
            "Requirement already satisfied: nltk in ./env/lib/python3.10/site-packages (3.8.1)\r\n",
            "Requirement already satisfied: click in ./env/lib/python3.10/site-packages (from nltk) (8.1.7)\r\n",
            "Requirement already satisfied: joblib in ./env/lib/python3.10/site-packages (from nltk) (1.4.2)\r\n",
            "Requirement already satisfied: regex>=2021.8.3 in ./env/lib/python3.10/site-packages (from nltk) (2024.5.15)\r\n",
            "Requirement already satisfied: tqdm in ./env/lib/python3.10/site-packages (from nltk) (4.66.4)\n",
            "\u001b[33mWARNING: Running pip as the 'root' user can result in broken permissions and conflicting behaviour with the system package manager. It is recommended to use a virtual environment instead: https://pip.pypa.io/warnings/venv\u001b[0m\u001b[33m\n",
            "\u001b[0m"
          ]
        }
      ],
      "source": [
        "!pip install nltk"
      ]
    },
    {
      "cell_type": "markdown",
      "metadata": {
        "id": "JZ4jccBlyoh6"
      },
      "source": [
        "# APT Reports with Clause Separation Dataset\n",
        "\n",
        "This notebook performs the following steps:\n",
        "1. Connect to the MongoDB database and retrieve the APT reports.\n",
        "2. Separate the reports into individual clauses.\n",
        "3. Analyze the length of phrases, words, and the frequency of words.\n",
        "4. Plot the length of words and filter out clauses longer than 300 words.\n",
        "\n",
        "## Sections:\n",
        "- Functions\n",
        "- Data Retrieval and Processing\n",
        "- Analysis and Visualization\n"
      ]
    },
    {
      "cell_type": "markdown",
      "metadata": {
        "id": "MVzaCQF1ytqh"
      },
      "source": [
        "## Setup"
      ]
    },
    {
      "cell_type": "code",
      "execution_count": 26,
      "metadata": {
        "id": "1bkymHNkyuiY"
      },
      "outputs": [],
      "source": [
        "# Functions\n",
        "\n",
        "import pandas as pd\n",
        "import nltk, re\n",
        "from nltk.corpus import stopwords\n",
        "import matplotlib.pyplot as plt\n",
        "from nltk.tokenize import sent_tokenize, word_tokenize\n",
        "from pymongo import MongoClient\n",
        "import os\n",
        "from typing import List, Dict, Any\n",
        "import re\n",
        "from dotenv import load_dotenv\n",
        "import seaborn as sns"
      ]
    },
    {
      "cell_type": "code",
      "execution_count": 27,
      "metadata": {
        "colab": {
          "base_uri": "https://localhost:8080/"
        },
        "id": "R_anqfO37o-R",
        "outputId": "4d8635d7-20cc-402e-fe4b-78d4858935d0"
      },
      "outputs": [
        {
          "name": "stderr",
          "output_type": "stream",
          "text": [
            "[nltk_data] Downloading package punkt to /home/user/nltk_data...\n",
            "[nltk_data]   Package punkt is already up-to-date!\n",
            "[nltk_data] Downloading package stopwords to /home/user/nltk_data...\n",
            "[nltk_data]   Package stopwords is already up-to-date!\n"
          ]
        }
      ],
      "source": [
        "nltk.download('punkt')\n",
        "nltk.download('stopwords')\n",
        "stop_words = set(stopwords.words('english'))"
      ]
    },
    {
      "cell_type": "code",
      "execution_count": 28,
      "metadata": {
        "id": "rPNNZH_115qu"
      },
      "outputs": [],
      "source": [
        "def connect_to_mongodb(connection_string: str) -> MongoClient:\n",
        "    \"\"\"\n",
        "    Connect to the MongoDB database using the provided connection string.\n",
        "\n",
        "    Args:\n",
        "    connection_string (str): The connection string for MongoDB.\n",
        "\n",
        "    Returns:\n",
        "    MongoClient: The MongoDB client.\n",
        "    \"\"\"\n",
        "    return MongoClient(connection_string)\n",
        "\n",
        "\n",
        "def get_data_from_mongodb(client: MongoClient, db_name: str, collection_name: str) -> pd.DataFrame:\n",
        "    \"\"\"\n",
        "    Retrieve data from MongoDB and return it as a pandas DataFrame.\n",
        "\n",
        "    Args:\n",
        "    client (MongoClient): The MongoDB client.\n",
        "    db_name (str): The database name.\n",
        "    collection_name (str): The collection name.\n",
        "\n",
        "    Returns:\n",
        "    pd.DataFrame: The data retrieved from MongoDB.\n",
        "    \"\"\"\n",
        "    db = client[db_name]\n",
        "    collection = db[collection_name]\n",
        "    data = list(collection.find())\n",
        "    return pd.DataFrame(data)\n",
        "\n",
        "\n",
        "def remove_non_ascii(text: str) -> str:\n",
        "    \"\"\"\n",
        "    Remove non-ASCII characters from a given text.\n",
        "\n",
        "    Args:\n",
        "    text (str): Input text.\n",
        "\n",
        "    Returns:\n",
        "    str: Text with non-ASCII characters removed.\n",
        "    \"\"\"\n",
        "    return re.sub(r'[^\\x00-\\x7F]+', '', text)"
      ]
    },
    {
      "cell_type": "code",
      "execution_count": 29,
      "metadata": {
        "id": "FqNR3akWy3XJ"
      },
      "outputs": [],
      "source": [
        "load_dotenv()\n",
        "connection_string = os.getenv(\"CONNECTION_STRING\")\n",
        "\n",
        "\n",
        "client = connect_to_mongodb(connection_string)\n",
        "data_df = get_data_from_mongodb(client, \"APTs\", \"raw_reports\")"
      ]
    },
    {
      "cell_type": "code",
      "execution_count": 30,
      "metadata": {
        "id": "dUqX8DIj6hkc"
      },
      "outputs": [],
      "source": [
        "data_df['corpus'] = data_df['corpus'].apply(remove_non_ascii)"
      ]
    },
    {
      "cell_type": "code",
      "execution_count": 31,
      "metadata": {
        "colab": {
          "base_uri": "https://localhost:8080/",
          "height": 424
        },
        "id": "wWH2OExs6kfm",
        "outputId": "07caa782-c19f-42de-f367-9b3bdbb59df0"
      },
      "outputs": [
        {
          "data": {
            "text/html": [
              "<div>\n",
              "<style scoped>\n",
              "    .dataframe tbody tr th:only-of-type {\n",
              "        vertical-align: middle;\n",
              "    }\n",
              "\n",
              "    .dataframe tbody tr th {\n",
              "        vertical-align: top;\n",
              "    }\n",
              "\n",
              "    .dataframe thead th {\n",
              "        text-align: right;\n",
              "    }\n",
              "</style>\n",
              "<table border=\"1\" class=\"dataframe\">\n",
              "  <thead>\n",
              "    <tr style=\"text-align: right;\">\n",
              "      <th></th>\n",
              "      <th>_id</th>\n",
              "      <th>hash</th>\n",
              "      <th>corpus</th>\n",
              "    </tr>\n",
              "  </thead>\n",
              "  <tbody>\n",
              "    <tr>\n",
              "      <th>0</th>\n",
              "      <td>661f838fe61552357fb5114a</td>\n",
              "      <td>81eea0c65263dc9dcea5ab90f4abf688baec52d4fd83c0...</td>\n",
              "      <td>Decoding network data from a Gh0st RAT variant...</td>\n",
              "    </tr>\n",
              "    <tr>\n",
              "      <th>1</th>\n",
              "      <td>661f838fe61552357fb5114b</td>\n",
              "      <td>e89c2c8e4c2b12b6d75cb11d9da439125e8ee9ad9bce84...</td>\n",
              "      <td>1 / 1 5www .prevailion.com  /what-wicked-webs-...</td>\n",
              "    </tr>\n",
              "    <tr>\n",
              "      <th>2</th>\n",
              "      <td>661f838fe61552357fb5114c</td>\n",
              "      <td>d3d1f3a690d13bcf37b2616c6111dae6e66650189fa677...</td>\n",
              "      <td>1 / 7www .mandiant.com  /resources/blog/lights...</td>\n",
              "    </tr>\n",
              "    <tr>\n",
              "      <th>3</th>\n",
              "      <td>661f8391e61552357fb5114d</td>\n",
              "      <td>d10ace962f97771a08fdb888d37e47318b38936894e5c3...</td>\n",
              "      <td>2015/11/24 Russian financial cybercrime: how i...</td>\n",
              "    </tr>\n",
              "    <tr>\n",
              "      <th>4</th>\n",
              "      <td>661f8391e61552357fb5114e</td>\n",
              "      <td>9f61d6a9f2e2b6f6f9f236ef26b7dab3fc33eef953a8a2...</td>\n",
              "      <td>9/28/21, 4:23 PM FoggyW eb: T argeted NOBELIUM...</td>\n",
              "    </tr>\n",
              "    <tr>\n",
              "      <th>...</th>\n",
              "      <td>...</td>\n",
              "      <td>...</td>\n",
              "      <td>...</td>\n",
              "    </tr>\n",
              "    <tr>\n",
              "      <th>4490</th>\n",
              "      <td>662127f03042a7b5ed7205b6</td>\n",
              "      <td>11790f7c980834182507704053a0c0717511b077e17f7c...</td>\n",
              "      <td>Secrets of the Comfoo MastersAuthor: Joe Stewa...</td>\n",
              "    </tr>\n",
              "    <tr>\n",
              "      <th>4491</th>\n",
              "      <td>662127f03042a7b5ed7205b7</td>\n",
              "      <td>6d3c151d582468fd2f33f8783f9926fe8160300d0cca13...</td>\n",
              "      <td>THREAT INTELLIGENCE REPORT \\nCYBERATTACKS AGAI...</td>\n",
              "    </tr>\n",
              "    <tr>\n",
              "      <th>4492</th>\n",
              "      <td>662127f03042a7b5ed7205b8</td>\n",
              "      <td>8dde659048cdbac57c566f88ea89fdacf8cabcb2521b0b...</td>\n",
              "      <td>\\n1 \\n  \\nVisa Security Alert         AUGUST ...</td>\n",
              "    </tr>\n",
              "    <tr>\n",
              "      <th>4493</th>\n",
              "      <td>662127f03042a7b5ed7205b9</td>\n",
              "      <td>ea10fd8c4838658ccc50af6dbaa08a84caf9cc3fe99421...</td>\n",
              "      <td>1 / 3Graphiron: New Russian Information Steali...</td>\n",
              "    </tr>\n",
              "    <tr>\n",
              "      <th>4494</th>\n",
              "      <td>662127f93042a7b5ed7205ba</td>\n",
              "      <td>677ad330b8837aeca70ed10d8ac8c7e444d761a5c39ad1...</td>\n",
              "      <td>\\n \\n \\n \\n \\n \\n \\n \\n \\...</td>\n",
              "    </tr>\n",
              "  </tbody>\n",
              "</table>\n",
              "<p>4495 rows × 3 columns</p>\n",
              "</div>"
            ],
            "text/plain": [
              "                           _id  \\\n",
              "0     661f838fe61552357fb5114a   \n",
              "1     661f838fe61552357fb5114b   \n",
              "2     661f838fe61552357fb5114c   \n",
              "3     661f8391e61552357fb5114d   \n",
              "4     661f8391e61552357fb5114e   \n",
              "...                        ...   \n",
              "4490  662127f03042a7b5ed7205b6   \n",
              "4491  662127f03042a7b5ed7205b7   \n",
              "4492  662127f03042a7b5ed7205b8   \n",
              "4493  662127f03042a7b5ed7205b9   \n",
              "4494  662127f93042a7b5ed7205ba   \n",
              "\n",
              "                                                   hash  \\\n",
              "0     81eea0c65263dc9dcea5ab90f4abf688baec52d4fd83c0...   \n",
              "1     e89c2c8e4c2b12b6d75cb11d9da439125e8ee9ad9bce84...   \n",
              "2     d3d1f3a690d13bcf37b2616c6111dae6e66650189fa677...   \n",
              "3     d10ace962f97771a08fdb888d37e47318b38936894e5c3...   \n",
              "4     9f61d6a9f2e2b6f6f9f236ef26b7dab3fc33eef953a8a2...   \n",
              "...                                                 ...   \n",
              "4490  11790f7c980834182507704053a0c0717511b077e17f7c...   \n",
              "4491  6d3c151d582468fd2f33f8783f9926fe8160300d0cca13...   \n",
              "4492  8dde659048cdbac57c566f88ea89fdacf8cabcb2521b0b...   \n",
              "4493  ea10fd8c4838658ccc50af6dbaa08a84caf9cc3fe99421...   \n",
              "4494  677ad330b8837aeca70ed10d8ac8c7e444d761a5c39ad1...   \n",
              "\n",
              "                                                 corpus  \n",
              "0     Decoding network data from a Gh0st RAT variant...  \n",
              "1     1 / 1 5www .prevailion.com  /what-wicked-webs-...  \n",
              "2     1 / 7www .mandiant.com  /resources/blog/lights...  \n",
              "3     2015/11/24 Russian financial cybercrime: how i...  \n",
              "4     9/28/21, 4:23 PM FoggyW eb: T argeted NOBELIUM...  \n",
              "...                                                 ...  \n",
              "4490  Secrets of the Comfoo MastersAuthor: Joe Stewa...  \n",
              "4491  THREAT INTELLIGENCE REPORT \\nCYBERATTACKS AGAI...  \n",
              "4492   \\n1 \\n  \\nVisa Security Alert         AUGUST ...  \n",
              "4493  1 / 3Graphiron: New Russian Information Steali...  \n",
              "4494                       \\n \\n \\n \\n \\n \\n \\n \\n \\...  \n",
              "\n",
              "[4495 rows x 3 columns]"
            ]
          },
          "execution_count": 31,
          "metadata": {},
          "output_type": "execute_result"
        }
      ],
      "source": [
        "data_df"
      ]
    },
    {
      "cell_type": "markdown",
      "metadata": {
        "id": "xPtyhNmCywzi"
      },
      "source": [
        "# Functions"
      ]
    },
    {
      "cell_type": "code",
      "execution_count": 32,
      "metadata": {
        "id": "2FmfsVOIyx-f"
      },
      "outputs": [],
      "source": [
        "def separate_into_clauses(df: pd.DataFrame, text_column: str) -> pd.DataFrame:\n",
        "    \"\"\"\n",
        "    Separate the text in a DataFrame column into clauses.\n",
        "\n",
        "    Args:\n",
        "    df (pd.DataFrame): DataFrame containing the text data.\n",
        "    text_column (str): Name of the column containing the text to be separated.\n",
        "\n",
        "    Returns:\n",
        "    pd.DataFrame: DataFrame with each clause as a separate row.\n",
        "    \"\"\"\n",
        "    clauses = []\n",
        "    for index, row in df.iterrows():\n",
        "        text = row[text_column]\n",
        "        hash = row[\"hash\"]\n",
        "        sentences = sent_tokenize(text)\n",
        "        for sentence in sentences:\n",
        "            clauses.append({'report_hash': hash, 'clause': sentence})\n",
        "\n",
        "    df_clauses = pd.DataFrame(clauses)\n",
        "    df_clauses['length'] = df_clauses['clause'].apply(calculate_word_length)\n",
        "\n",
        "    return df_clauses\n",
        "\n",
        "\n",
        "def preprocess_text(text: str) -> str:\n",
        "    \"\"\"\n",
        "    Preprocess text by removing non-ASCII characters, stopwords, and converting to lowercase.\n",
        "\n",
        "    Args:\n",
        "    text (str): Input text.\n",
        "\n",
        "    Returns:\n",
        "    str: Preprocessed text.\n",
        "    \"\"\"\n",
        "    # Remove non-ASCII characters\n",
        "    text = re.sub(r'[^\\x00-\\x7F]+', '', text)\n",
        "    # Convert to lowercase\n",
        "    text = text.lower()\n",
        "    # Remove stopwords\n",
        "    text = ' '.join([word for word in text.split() if word not in stop_words])\n",
        "\n",
        "    return text\n",
        "\n",
        "\n",
        "def calculate_word_length(clause: str) -> int:\n",
        "    \"\"\"\n",
        "    Calculate the word length of a clause.\n",
        "\n",
        "    Args:\n",
        "    clause (str): A text clause.\n",
        "\n",
        "    Returns:\n",
        "    int: The number of words in the clause.\n",
        "    \"\"\"\n",
        "    return len(clause.split())\n",
        "\n",
        "\n",
        "def filter_long_clauses(df: pd.DataFrame, text_column: str, max_length: int, min_length: int) -> pd.DataFrame:\n",
        "    \"\"\"\n",
        "    Filter out clauses longer than a specified number of words and shorter than a specified number of words.\n",
        "\n",
        "    Args:\n",
        "    df (pd.DataFrame): DataFrame containing the clauses.\n",
        "    text_column (str): Name of the column containing the text clauses.\n",
        "    max_length (int): Maximum number of words allowed in a clause.\n",
        "    min_length (int): Minimum number of words allowed in a clause.\n",
        "\n",
        "    Returns:\n",
        "    pd.DataFrame: Filtered DataFrame with only clauses within the specified length range.\n",
        "    \"\"\"\n",
        "    max_df = df[df['length'] <= max_length]\n",
        "    final_df = max_df[max_df['length'] > min_length]\n",
        "    return final_df\n",
        "\n",
        "\n",
        "def plot_word_length_distribution(word_lengths: List[int]) -> None:\n",
        "    \"\"\"\n",
        "    Plot the distribution of word lengths with more focus on lower values.\n",
        "\n",
        "    Args:\n",
        "    word_lengths (List[int]): A list of word lengths.\n",
        "    \"\"\"\n",
        "    plt.figure(figsize=(10, 6))\n",
        "    plt.hist(word_lengths, bins=30, range=(0, 30), alpha=0.75, color='blue', edgecolor='black')\n",
        "    plt.title('Word Length Distribution')\n",
        "    plt.xlabel('Word Length')\n",
        "    plt.ylabel('Frequency')\n",
        "    plt.grid(True)\n",
        "    plt.show()\n",
        "\n",
        "\n",
        "def plot_length_boxplot(data: pd.DataFrame) -> None:\n",
        "    \"\"\"\n",
        "    Plots a boxplot for the 'length' column in the dataframe.\n",
        "\n",
        "    Args:\n",
        "    data (pd.DataFrame): The dataframe containing the 'length' column.\n",
        "    \"\"\"\n",
        "    plt.figure(figsize=(10, 6))\n",
        "    sns.boxplot(x=data['length'])\n",
        "    plt.title('Boxplot of Clause Lengths')\n",
        "    plt.xlabel('Length (in words)')\n",
        "    plt.show()"
      ]
    },
    {
      "cell_type": "markdown",
      "metadata": {
        "id": "vIpt3aizzJMB"
      },
      "source": [
        "# Dataset creation"
      ]
    },
    {
      "cell_type": "code",
      "execution_count": 33,
      "metadata": {
        "colab": {
          "base_uri": "https://localhost:8080/",
          "height": 424
        },
        "id": "BNU45UBCgk6L",
        "outputId": "3a6cd0f0-ae56-42fd-ec75-51993b7d0a15"
      },
      "outputs": [
        {
          "data": {
            "text/html": [
              "<div>\n",
              "<style scoped>\n",
              "    .dataframe tbody tr th:only-of-type {\n",
              "        vertical-align: middle;\n",
              "    }\n",
              "\n",
              "    .dataframe tbody tr th {\n",
              "        vertical-align: top;\n",
              "    }\n",
              "\n",
              "    .dataframe thead th {\n",
              "        text-align: right;\n",
              "    }\n",
              "</style>\n",
              "<table border=\"1\" class=\"dataframe\">\n",
              "  <thead>\n",
              "    <tr style=\"text-align: right;\">\n",
              "      <th></th>\n",
              "      <th>report_hash</th>\n",
              "      <th>clause</th>\n",
              "      <th>length</th>\n",
              "    </tr>\n",
              "  </thead>\n",
              "  <tbody>\n",
              "    <tr>\n",
              "      <th>0</th>\n",
              "      <td>81eea0c65263dc9dcea5ab90f4abf688baec52d4fd83c0...</td>\n",
              "      <td>Decoding network data from a Gh0st RAT variant...</td>\n",
              "      <td>36</td>\n",
              "    </tr>\n",
              "    <tr>\n",
              "      <th>1</th>\n",
              "      <td>81eea0c65263dc9dcea5ab90f4abf688baec52d4fd83c0...</td>\n",
              "      <td>From our research, we believe that the perpetr...</td>\n",
              "      <td>17</td>\n",
              "    </tr>\n",
              "    <tr>\n",
              "      <th>2</th>\n",
              "      <td>81eea0c65263dc9dcea5ab90f4abf688baec52d4fd83c0...</td>\n",
              "      <td>In fact, the main goal was to mine cryptocurre...</td>\n",
              "      <td>9</td>\n",
              "    </tr>\n",
              "    <tr>\n",
              "      <th>3</th>\n",
              "      <td>81eea0c65263dc9dcea5ab90f4abf688baec52d4fd83c0...</td>\n",
              "      <td>During the\\ninvestigation we found several too...</td>\n",
              "      <td>25</td>\n",
              "    </tr>\n",
              "    <tr>\n",
              "      <th>4</th>\n",
              "      <td>81eea0c65263dc9dcea5ab90f4abf688baec52d4fd83c0...</td>\n",
              "      <td>Even\\nthough Bitdefender and TrendMicro have p...</td>\n",
              "      <td>35</td>\n",
              "    </tr>\n",
              "    <tr>\n",
              "      <th>...</th>\n",
              "      <td>...</td>\n",
              "      <td>...</td>\n",
              "      <td>...</td>\n",
              "    </tr>\n",
              "    <tr>\n",
              "      <th>859828</th>\n",
              "      <td>677ad330b8837aeca70ed10d8ac8c7e444d761a5c39ad1...</td>\n",
              "      <td>MITRE ATT&amp;CK Framework  Groups  \\n&lt;https://att...</td>\n",
              "      <td>7</td>\n",
              "    </tr>\n",
              "    <tr>\n",
              "      <th>859829</th>\n",
              "      <td>677ad330b8837aeca70ed10d8ac8c7e444d761a5c39ad1...</td>\n",
              "      <td>APT Groups and Operations  \\n&lt;https://apt.thre...</td>\n",
              "      <td>7</td>\n",
              "    </tr>\n",
              "    <tr>\n",
              "      <th>859830</th>\n",
              "      <td>677ad330b8837aeca70ed10d8ac8c7e444d761a5c39ad1...</td>\n",
              "      <td>Malpedia  \\n&lt;https://malpedia.caad.fkie.fraunh...</td>\n",
              "      <td>4</td>\n",
              "    </tr>\n",
              "    <tr>\n",
              "      <th>859831</th>\n",
              "      <td>677ad330b8837aeca70ed10d8ac8c7e444d761a5c39ad1...</td>\n",
              "      <td>ThaiCERT Risk Intelligence archive and extensi...</td>\n",
              "      <td>10</td>\n",
              "    </tr>\n",
              "    <tr>\n",
              "      <th>859832</th>\n",
              "      <td>677ad330b8837aeca70ed10d8ac8c7e444d761a5c39ad1...</td>\n",
              "      <td>Threat Group Cards: A Threat Actor Encyclopedi...</td>\n",
              "      <td>8</td>\n",
              "    </tr>\n",
              "  </tbody>\n",
              "</table>\n",
              "<p>859833 rows × 3 columns</p>\n",
              "</div>"
            ],
            "text/plain": [
              "                                              report_hash  \\\n",
              "0       81eea0c65263dc9dcea5ab90f4abf688baec52d4fd83c0...   \n",
              "1       81eea0c65263dc9dcea5ab90f4abf688baec52d4fd83c0...   \n",
              "2       81eea0c65263dc9dcea5ab90f4abf688baec52d4fd83c0...   \n",
              "3       81eea0c65263dc9dcea5ab90f4abf688baec52d4fd83c0...   \n",
              "4       81eea0c65263dc9dcea5ab90f4abf688baec52d4fd83c0...   \n",
              "...                                                   ...   \n",
              "859828  677ad330b8837aeca70ed10d8ac8c7e444d761a5c39ad1...   \n",
              "859829  677ad330b8837aeca70ed10d8ac8c7e444d761a5c39ad1...   \n",
              "859830  677ad330b8837aeca70ed10d8ac8c7e444d761a5c39ad1...   \n",
              "859831  677ad330b8837aeca70ed10d8ac8c7e444d761a5c39ad1...   \n",
              "859832  677ad330b8837aeca70ed10d8ac8c7e444d761a5c39ad1...   \n",
              "\n",
              "                                                   clause  length  \n",
              "0       Decoding network data from a Gh0st RAT variant...      36  \n",
              "1       From our research, we believe that the perpetr...      17  \n",
              "2       In fact, the main goal was to mine cryptocurre...       9  \n",
              "3       During the\\ninvestigation we found several too...      25  \n",
              "4       Even\\nthough Bitdefender and TrendMicro have p...      35  \n",
              "...                                                   ...     ...  \n",
              "859828  MITRE ATT&CK Framework  Groups  \\n<https://att...       7  \n",
              "859829  APT Groups and Operations  \\n<https://apt.thre...       7  \n",
              "859830  Malpedia  \\n<https://malpedia.caad.fkie.fraunh...       4  \n",
              "859831  ThaiCERT Risk Intelligence archive and extensi...      10  \n",
              "859832  Threat Group Cards: A Threat Actor Encyclopedi...       8  \n",
              "\n",
              "[859833 rows x 3 columns]"
            ]
          },
          "execution_count": 33,
          "metadata": {},
          "output_type": "execute_result"
        }
      ],
      "source": [
        "raw_clauses_df = separate_into_clauses(data_df, \"corpus\")\n",
        "raw_clauses_df"
      ]
    },
    {
      "cell_type": "code",
      "execution_count": 34,
      "metadata": {
        "colab": {
          "base_uri": "https://localhost:8080/",
          "height": 424
        },
        "id": "UdITdV_h8Q6T",
        "outputId": "2f02c5d1-9144-4a16-fa1e-fc527ef21904"
      },
      "outputs": [
        {
          "data": {
            "text/html": [
              "<div>\n",
              "<style scoped>\n",
              "    .dataframe tbody tr th:only-of-type {\n",
              "        vertical-align: middle;\n",
              "    }\n",
              "\n",
              "    .dataframe tbody tr th {\n",
              "        vertical-align: top;\n",
              "    }\n",
              "\n",
              "    .dataframe thead th {\n",
              "        text-align: right;\n",
              "    }\n",
              "</style>\n",
              "<table border=\"1\" class=\"dataframe\">\n",
              "  <thead>\n",
              "    <tr style=\"text-align: right;\">\n",
              "      <th></th>\n",
              "      <th>report_hash</th>\n",
              "      <th>clause</th>\n",
              "      <th>length</th>\n",
              "    </tr>\n",
              "  </thead>\n",
              "  <tbody>\n",
              "    <tr>\n",
              "      <th>0</th>\n",
              "      <td>81eea0c65263dc9dcea5ab90f4abf688baec52d4fd83c0...</td>\n",
              "      <td>decoding network data gh0st rat variant nccgro...</td>\n",
              "      <td>36</td>\n",
              "    </tr>\n",
              "    <tr>\n",
              "      <th>1</th>\n",
              "      <td>81eea0c65263dc9dcea5ab90f4abf688baec52d4fd83c0...</td>\n",
              "      <td>research, believe perpetrator hasnt shown adva...</td>\n",
              "      <td>17</td>\n",
              "    </tr>\n",
              "    <tr>\n",
              "      <th>2</th>\n",
              "      <td>81eea0c65263dc9dcea5ab90f4abf688baec52d4fd83c0...</td>\n",
              "      <td>fact, main goal mine cryptocurrency.</td>\n",
              "      <td>9</td>\n",
              "    </tr>\n",
              "    <tr>\n",
              "      <th>3</th>\n",
              "      <td>81eea0c65263dc9dcea5ab90f4abf688baec52d4fd83c0...</td>\n",
              "      <td>investigation found several tools password dum...</td>\n",
              "      <td>25</td>\n",
              "    </tr>\n",
              "    <tr>\n",
              "      <th>4</th>\n",
              "      <td>81eea0c65263dc9dcea5ab90f4abf688baec52d4fd83c0...</td>\n",
              "      <td>even though bitdefender trendmicro published r...</td>\n",
              "      <td>35</td>\n",
              "    </tr>\n",
              "    <tr>\n",
              "      <th>...</th>\n",
              "      <td>...</td>\n",
              "      <td>...</td>\n",
              "      <td>...</td>\n",
              "    </tr>\n",
              "    <tr>\n",
              "      <th>859828</th>\n",
              "      <td>677ad330b8837aeca70ed10d8ac8c7e444d761a5c39ad1...</td>\n",
              "      <td>mitre att&amp;ck framework groups &lt;https://attack....</td>\n",
              "      <td>7</td>\n",
              "    </tr>\n",
              "    <tr>\n",
              "      <th>859829</th>\n",
              "      <td>677ad330b8837aeca70ed10d8ac8c7e444d761a5c39ad1...</td>\n",
              "      <td>apt groups operations &lt;https://apt.threattrack...</td>\n",
              "      <td>7</td>\n",
              "    </tr>\n",
              "    <tr>\n",
              "      <th>859830</th>\n",
              "      <td>677ad330b8837aeca70ed10d8ac8c7e444d761a5c39ad1...</td>\n",
              "      <td>malpedia &lt;https://malpedia.caad.fkie.fraunhofe...</td>\n",
              "      <td>4</td>\n",
              "    </tr>\n",
              "    <tr>\n",
              "      <th>859831</th>\n",
              "      <td>677ad330b8837aeca70ed10d8ac8c7e444d761a5c39ad1...</td>\n",
              "      <td>thaicert risk intelligence archive extensive s...</td>\n",
              "      <td>10</td>\n",
              "    </tr>\n",
              "    <tr>\n",
              "      <th>859832</th>\n",
              "      <td>677ad330b8837aeca70ed10d8ac8c7e444d761a5c39ad1...</td>\n",
              "      <td>threat group cards: threat actor encyclopedia 275</td>\n",
              "      <td>8</td>\n",
              "    </tr>\n",
              "  </tbody>\n",
              "</table>\n",
              "<p>859833 rows × 3 columns</p>\n",
              "</div>"
            ],
            "text/plain": [
              "                                              report_hash  \\\n",
              "0       81eea0c65263dc9dcea5ab90f4abf688baec52d4fd83c0...   \n",
              "1       81eea0c65263dc9dcea5ab90f4abf688baec52d4fd83c0...   \n",
              "2       81eea0c65263dc9dcea5ab90f4abf688baec52d4fd83c0...   \n",
              "3       81eea0c65263dc9dcea5ab90f4abf688baec52d4fd83c0...   \n",
              "4       81eea0c65263dc9dcea5ab90f4abf688baec52d4fd83c0...   \n",
              "...                                                   ...   \n",
              "859828  677ad330b8837aeca70ed10d8ac8c7e444d761a5c39ad1...   \n",
              "859829  677ad330b8837aeca70ed10d8ac8c7e444d761a5c39ad1...   \n",
              "859830  677ad330b8837aeca70ed10d8ac8c7e444d761a5c39ad1...   \n",
              "859831  677ad330b8837aeca70ed10d8ac8c7e444d761a5c39ad1...   \n",
              "859832  677ad330b8837aeca70ed10d8ac8c7e444d761a5c39ad1...   \n",
              "\n",
              "                                                   clause  length  \n",
              "0       decoding network data gh0st rat variant nccgro...      36  \n",
              "1       research, believe perpetrator hasnt shown adva...      17  \n",
              "2                    fact, main goal mine cryptocurrency.       9  \n",
              "3       investigation found several tools password dum...      25  \n",
              "4       even though bitdefender trendmicro published r...      35  \n",
              "...                                                   ...     ...  \n",
              "859828  mitre att&ck framework groups <https://attack....       7  \n",
              "859829  apt groups operations <https://apt.threattrack...       7  \n",
              "859830  malpedia <https://malpedia.caad.fkie.fraunhofe...       4  \n",
              "859831  thaicert risk intelligence archive extensive s...      10  \n",
              "859832  threat group cards: threat actor encyclopedia 275       8  \n",
              "\n",
              "[859833 rows x 3 columns]"
            ]
          },
          "execution_count": 34,
          "metadata": {},
          "output_type": "execute_result"
        }
      ],
      "source": [
        "clauses_df = raw_clauses_df.copy()\n",
        "clauses_df['clause'] = raw_clauses_df['clause'].apply(preprocess_text)\n",
        "\n",
        "clauses_df"
      ]
    },
    {
      "cell_type": "markdown",
      "metadata": {
        "id": "rog_8ofn5GbV"
      },
      "source": [
        "# Analysis and visualization"
      ]
    },
    {
      "cell_type": "code",
      "execution_count": 35,
      "metadata": {
        "colab": {
          "base_uri": "https://localhost:8080/",
          "height": 564
        },
        "id": "9l8NnQYI2Zm6",
        "outputId": "8c1c3d96-c5d5-44a4-fdad-2f8da14c4c75"
      },
      "outputs": [
        {
          "data": {
            "image/png": "[encoded data removed]",
            "text/plain": [
              "<Figure size 1000x600 with 1 Axes>"
            ]
          },
          "metadata": {},
          "output_type": "display_data"
        }
      ],
      "source": [
        "plot_length_boxplot(clauses_df)"
      ]
    },
    {
      "cell_type": "markdown",
      "metadata": {
        "id": "4zYNUGMI4v0S"
      },
      "source": [
        "A lot of atypical data are present in the clauses dataset, let's filter out the most troublesome ones in terms of length:"
      ]
    },
    {
      "cell_type": "code",
      "execution_count": 36,
      "metadata": {
        "colab": {
          "base_uri": "https://localhost:8080/",
          "height": 424
        },
        "id": "1SuVKeU12E3I",
        "outputId": "26c89128-4c32-4c00-fa3f-404ab69e519e"
      },
      "outputs": [
        {
          "data": {
            "text/html": [
              "<div>\n",
              "<style scoped>\n",
              "    .dataframe tbody tr th:only-of-type {\n",
              "        vertical-align: middle;\n",
              "    }\n",
              "\n",
              "    .dataframe tbody tr th {\n",
              "        vertical-align: top;\n",
              "    }\n",
              "\n",
              "    .dataframe thead th {\n",
              "        text-align: right;\n",
              "    }\n",
              "</style>\n",
              "<table border=\"1\" class=\"dataframe\">\n",
              "  <thead>\n",
              "    <tr style=\"text-align: right;\">\n",
              "      <th></th>\n",
              "      <th>report_hash</th>\n",
              "      <th>clause</th>\n",
              "      <th>length</th>\n",
              "    </tr>\n",
              "  </thead>\n",
              "  <tbody>\n",
              "    <tr>\n",
              "      <th>32</th>\n",
              "      <td>81eea0c65263dc9dcea5ab90f4abf688baec52d4fd83c0...</td>\n",
              "      <td>!th 00000050: 69732070726f6772 616d2063616e6e6...</td>\n",
              "      <td>95</td>\n",
              "    </tr>\n",
              "    <tr>\n",
              "      <th>35</th>\n",
              "      <td>e89c2c8e4c2b12b6d75cb11d9da439125e8ee9ad9bce84...</td>\n",
              "      <td>1 / 1 5www .prevailion.com /what-wicked-webs-w...</td>\n",
              "      <td>76</td>\n",
              "    </tr>\n",
              "    <tr>\n",
              "      <th>58</th>\n",
              "      <td>e89c2c8e4c2b12b6d75cb11d9da439125e8ee9ad9bce84...</td>\n",
              "      <td>part ii: findings iia: naver -themed phishing ...</td>\n",
              "      <td>72</td>\n",
              "    </tr>\n",
              "    <tr>\n",
              "      <th>127</th>\n",
              "      <td>e89c2c8e4c2b12b6d75cb11d9da439125e8ee9ad9bce84...</td>\n",
              "      <td>due ease operator create new subdomains hostin...</td>\n",
              "      <td>66</td>\n",
              "    </tr>\n",
              "    <tr>\n",
              "      <th>250</th>\n",
              "      <td>d3d1f3a690d13bcf37b2616c6111dae6e66650189fa677...</td>\n",
              "      <td>accomplish this, lightshow drops legitimate ve...</td>\n",
              "      <td>63</td>\n",
              "    </tr>\n",
              "    <tr>\n",
              "      <th>...</th>\n",
              "      <td>...</td>\n",
              "      <td>...</td>\n",
              "      <td>...</td>\n",
              "    </tr>\n",
              "    <tr>\n",
              "      <th>859793</th>\n",
              "      <td>677ad330b8837aeca70ed10d8ac8c7e444d761a5c39ad1...</td>\n",
              "      <td>&lt;https://www.fortinet.com/blog/threat -researc...</td>\n",
              "      <td>63</td>\n",
              "    </tr>\n",
              "    <tr>\n",
              "      <th>859797</th>\n",
              "      <td>677ad330b8837aeca70ed10d8ac8c7e444d761a5c39ad1...</td>\n",
              "      <td>observed tools used operations performed aug 2...</td>\n",
              "      <td>72</td>\n",
              "    </tr>\n",
              "    <tr>\n",
              "      <th>859798</th>\n",
              "      <td>677ad330b8837aeca70ed10d8ac8c7e444d761a5c39ad1...</td>\n",
              "      <td>&lt;https://securelist.com/darkpulsar/88199/ &gt; ap...</td>\n",
              "      <td>131</td>\n",
              "    </tr>\n",
              "    <tr>\n",
              "      <th>859799</th>\n",
              "      <td>677ad330b8837aeca70ed10d8ac8c7e444d761a5c39ad1...</td>\n",
              "      <td>(2017) &lt;https://blacklakesecurity.com/who -was...</td>\n",
              "      <td>65</td>\n",
              "    </tr>\n",
              "    <tr>\n",
              "      <th>859819</th>\n",
              "      <td>677ad330b8837aeca70ed10d8ac8c7e444d761a5c39ad1...</td>\n",
              "      <td>information &lt;https://www.crowdstrike.com/blog/...</td>\n",
              "      <td>69</td>\n",
              "    </tr>\n",
              "  </tbody>\n",
              "</table>\n",
              "<p>40126 rows × 3 columns</p>\n",
              "</div>"
            ],
            "text/plain": [
              "                                              report_hash  \\\n",
              "32      81eea0c65263dc9dcea5ab90f4abf688baec52d4fd83c0...   \n",
              "35      e89c2c8e4c2b12b6d75cb11d9da439125e8ee9ad9bce84...   \n",
              "58      e89c2c8e4c2b12b6d75cb11d9da439125e8ee9ad9bce84...   \n",
              "127     e89c2c8e4c2b12b6d75cb11d9da439125e8ee9ad9bce84...   \n",
              "250     d3d1f3a690d13bcf37b2616c6111dae6e66650189fa677...   \n",
              "...                                                   ...   \n",
              "859793  677ad330b8837aeca70ed10d8ac8c7e444d761a5c39ad1...   \n",
              "859797  677ad330b8837aeca70ed10d8ac8c7e444d761a5c39ad1...   \n",
              "859798  677ad330b8837aeca70ed10d8ac8c7e444d761a5c39ad1...   \n",
              "859799  677ad330b8837aeca70ed10d8ac8c7e444d761a5c39ad1...   \n",
              "859819  677ad330b8837aeca70ed10d8ac8c7e444d761a5c39ad1...   \n",
              "\n",
              "                                                   clause  length  \n",
              "32      !th 00000050: 69732070726f6772 616d2063616e6e6...      95  \n",
              "35      1 / 1 5www .prevailion.com /what-wicked-webs-w...      76  \n",
              "58      part ii: findings iia: naver -themed phishing ...      72  \n",
              "127     due ease operator create new subdomains hostin...      66  \n",
              "250     accomplish this, lightshow drops legitimate ve...      63  \n",
              "...                                                   ...     ...  \n",
              "859793  <https://www.fortinet.com/blog/threat -researc...      63  \n",
              "859797  observed tools used operations performed aug 2...      72  \n",
              "859798  <https://securelist.com/darkpulsar/88199/ > ap...     131  \n",
              "859799  (2017) <https://blacklakesecurity.com/who -was...      65  \n",
              "859819  information <https://www.crowdstrike.com/blog/...      69  \n",
              "\n",
              "[40126 rows x 3 columns]"
            ]
          },
          "execution_count": 36,
          "metadata": {},
          "output_type": "execute_result"
        }
      ],
      "source": [
        "filtered_clauses_df = filter_long_clauses(clauses_df, \"clause\", 500, 60)\n",
        "filtered_clauses_df"
      ]
    },
    {
      "cell_type": "code",
      "execution_count": 37,
      "metadata": {
        "colab": {
          "base_uri": "https://localhost:8080/",
          "height": 564
        },
        "id": "YiLQ2PZE3Ttn",
        "outputId": "531b0feb-0518-4c2c-abfa-417f513e8993"
      },
      "outputs": [
        {
          "data": {
            "image/png": "[encoded data removed]",
            "text/plain": [
              "<Figure size 1000x600 with 1 Axes>"
            ]
          },
          "metadata": {},
          "output_type": "display_data"
        }
      ],
      "source": [
        "plot_length_boxplot(filtered_clauses_df)"
      ]
    },
    {
      "cell_type": "code",
      "execution_count": 38,
      "metadata": {
        "colab": {
          "base_uri": "https://localhost:8080/",
          "height": 424
        },
        "id": "bd0aGSWU9YCo",
        "outputId": "8d9668b6-3a11-4619-ab2a-7fed4c57889b"
      },
      "outputs": [
        {
          "data": {
            "text/html": [
              "<div>\n",
              "<style scoped>\n",
              "    .dataframe tbody tr th:only-of-type {\n",
              "        vertical-align: middle;\n",
              "    }\n",
              "\n",
              "    .dataframe tbody tr th {\n",
              "        vertical-align: top;\n",
              "    }\n",
              "\n",
              "    .dataframe thead th {\n",
              "        text-align: right;\n",
              "    }\n",
              "</style>\n",
              "<table border=\"1\" class=\"dataframe\">\n",
              "  <thead>\n",
              "    <tr style=\"text-align: right;\">\n",
              "      <th></th>\n",
              "      <th>report_hash</th>\n",
              "      <th>clause</th>\n",
              "      <th>length</th>\n",
              "    </tr>\n",
              "  </thead>\n",
              "  <tbody>\n",
              "    <tr>\n",
              "      <th>32</th>\n",
              "      <td>81eea0c65263dc9dcea5ab90f4abf688baec52d4fd83c0...</td>\n",
              "      <td>!th 00000050: 69732070726f6772 616d2063616e6e6...</td>\n",
              "      <td>95</td>\n",
              "    </tr>\n",
              "    <tr>\n",
              "      <th>35</th>\n",
              "      <td>e89c2c8e4c2b12b6d75cb11d9da439125e8ee9ad9bce84...</td>\n",
              "      <td>1 / 1 5www .prevailion.com /what-wicked-webs-w...</td>\n",
              "      <td>76</td>\n",
              "    </tr>\n",
              "    <tr>\n",
              "      <th>58</th>\n",
              "      <td>e89c2c8e4c2b12b6d75cb11d9da439125e8ee9ad9bce84...</td>\n",
              "      <td>part ii: findings iia: naver -themed phishing ...</td>\n",
              "      <td>72</td>\n",
              "    </tr>\n",
              "    <tr>\n",
              "      <th>127</th>\n",
              "      <td>e89c2c8e4c2b12b6d75cb11d9da439125e8ee9ad9bce84...</td>\n",
              "      <td>due ease operator create new subdomains hostin...</td>\n",
              "      <td>66</td>\n",
              "    </tr>\n",
              "    <tr>\n",
              "      <th>250</th>\n",
              "      <td>d3d1f3a690d13bcf37b2616c6111dae6e66650189fa677...</td>\n",
              "      <td>accomplish this, lightshow drops legitimate ve...</td>\n",
              "      <td>63</td>\n",
              "    </tr>\n",
              "    <tr>\n",
              "      <th>...</th>\n",
              "      <td>...</td>\n",
              "      <td>...</td>\n",
              "      <td>...</td>\n",
              "    </tr>\n",
              "    <tr>\n",
              "      <th>859793</th>\n",
              "      <td>677ad330b8837aeca70ed10d8ac8c7e444d761a5c39ad1...</td>\n",
              "      <td>&lt;https://www.fortinet.com/blog/threat -researc...</td>\n",
              "      <td>63</td>\n",
              "    </tr>\n",
              "    <tr>\n",
              "      <th>859797</th>\n",
              "      <td>677ad330b8837aeca70ed10d8ac8c7e444d761a5c39ad1...</td>\n",
              "      <td>observed tools used operations performed aug 2...</td>\n",
              "      <td>72</td>\n",
              "    </tr>\n",
              "    <tr>\n",
              "      <th>859798</th>\n",
              "      <td>677ad330b8837aeca70ed10d8ac8c7e444d761a5c39ad1...</td>\n",
              "      <td>&lt;https://securelist.com/darkpulsar/88199/ &gt; ap...</td>\n",
              "      <td>131</td>\n",
              "    </tr>\n",
              "    <tr>\n",
              "      <th>859799</th>\n",
              "      <td>677ad330b8837aeca70ed10d8ac8c7e444d761a5c39ad1...</td>\n",
              "      <td>(2017) &lt;https://blacklakesecurity.com/who -was...</td>\n",
              "      <td>65</td>\n",
              "    </tr>\n",
              "    <tr>\n",
              "      <th>859819</th>\n",
              "      <td>677ad330b8837aeca70ed10d8ac8c7e444d761a5c39ad1...</td>\n",
              "      <td>information &lt;https://www.crowdstrike.com/blog/...</td>\n",
              "      <td>69</td>\n",
              "    </tr>\n",
              "  </tbody>\n",
              "</table>\n",
              "<p>36946 rows × 3 columns</p>\n",
              "</div>"
            ],
            "text/plain": [
              "                                              report_hash  \\\n",
              "32      81eea0c65263dc9dcea5ab90f4abf688baec52d4fd83c0...   \n",
              "35      e89c2c8e4c2b12b6d75cb11d9da439125e8ee9ad9bce84...   \n",
              "58      e89c2c8e4c2b12b6d75cb11d9da439125e8ee9ad9bce84...   \n",
              "127     e89c2c8e4c2b12b6d75cb11d9da439125e8ee9ad9bce84...   \n",
              "250     d3d1f3a690d13bcf37b2616c6111dae6e66650189fa677...   \n",
              "...                                                   ...   \n",
              "859793  677ad330b8837aeca70ed10d8ac8c7e444d761a5c39ad1...   \n",
              "859797  677ad330b8837aeca70ed10d8ac8c7e444d761a5c39ad1...   \n",
              "859798  677ad330b8837aeca70ed10d8ac8c7e444d761a5c39ad1...   \n",
              "859799  677ad330b8837aeca70ed10d8ac8c7e444d761a5c39ad1...   \n",
              "859819  677ad330b8837aeca70ed10d8ac8c7e444d761a5c39ad1...   \n",
              "\n",
              "                                                   clause  length  \n",
              "32      !th 00000050: 69732070726f6772 616d2063616e6e6...      95  \n",
              "35      1 / 1 5www .prevailion.com /what-wicked-webs-w...      76  \n",
              "58      part ii: findings iia: naver -themed phishing ...      72  \n",
              "127     due ease operator create new subdomains hostin...      66  \n",
              "250     accomplish this, lightshow drops legitimate ve...      63  \n",
              "...                                                   ...     ...  \n",
              "859793  <https://www.fortinet.com/blog/threat -researc...      63  \n",
              "859797  observed tools used operations performed aug 2...      72  \n",
              "859798  <https://securelist.com/darkpulsar/88199/ > ap...     131  \n",
              "859799  (2017) <https://blacklakesecurity.com/who -was...      65  \n",
              "859819  information <https://www.crowdstrike.com/blog/...      69  \n",
              "\n",
              "[36946 rows x 3 columns]"
            ]
          },
          "execution_count": 38,
          "metadata": {},
          "output_type": "execute_result"
        }
      ],
      "source": [
        "filtered_clauses_df = filter_long_clauses(clauses_df, \"clause\", 200, 60)\n",
        "filtered_clauses_df"
      ]
    },
    {
      "cell_type": "code",
      "execution_count": 39,
      "metadata": {
        "colab": {
          "base_uri": "https://localhost:8080/",
          "height": 564
        },
        "id": "qRvz4Feb9aCx",
        "outputId": "5e97c805-840e-42fb-e7be-795c9af64c0f"
      },
      "outputs": [
        {
          "data": {
            "image/png": "[encoded data removed]",
            "text/plain": [
              "<Figure size 1000x600 with 1 Axes>"
            ]
          },
          "metadata": {},
          "output_type": "display_data"
        }
      ],
      "source": [
        "plot_length_boxplot(filtered_clauses_df)"
      ]
    },
    {
      "cell_type": "markdown",
      "metadata": {
        "id": "NN4neFNS5IlO"
      },
      "source": [
        "A much more treatable dataset, we will save it as a csv in order to hand-tag it:"
      ]
    },
    {
      "cell_type": "code",
      "execution_count": 40,
      "metadata": {
        "id": "x_RcY4iu5MGi"
      },
      "outputs": [],
      "source": [
        "filtered_clauses_df.to_csv('filtered_clauses.csv', index=False, escapechar='\\\\')"
      ]
    }
  ],
  "metadata": {
    "colab": {
      "authorship_tag": "ABX9TyOtMHmxcLVjEPfTTqOKOuRe",
      "include_colab_link": true,
      "provenance": []
    },
    "kernelspec": {
      "display_name": "Python 3",
      "name": "python3"
    },
    "language_info": {
      "name": "python"
    }
  },
  "nbformat": 4,
  "nbformat_minor": 0
}
